{
 "cells": [
  {
   "cell_type": "markdown",
   "id": "02de3780-0f9c-484a-ab4a-012fd64eacfb",
   "metadata": {},
   "source": [
    "## Google Earth Engine with GEE MAP"
   ]
  },
  {
   "cell_type": "code",
   "execution_count": 2,
   "id": "78e69886-c9b0-40f2-8307-d115807f1261",
   "metadata": {
    "collapsed": true,
    "jupyter": {
     "outputs_hidden": true
    },
    "tags": []
   },
   "outputs": [
    {
     "name": "stdout",
     "output_type": "stream",
     "text": [
      "Collecting geemap\n",
      "  Downloading geemap-0.20.3-py2.py3-none-any.whl (2.1 MB)\n",
      "Collecting pyperclip\n",
      "  Downloading pyperclip-1.8.2.tar.gz (20 kB)\n",
      "Collecting ipytree\n",
      "  Downloading ipytree-0.2.2-py2.py3-none-any.whl (1.3 MB)\n",
      "Collecting eerepr>=0.0.4\n",
      "  Downloading eerepr-0.0.4-py3-none-any.whl (9.7 kB)\n",
      "Requirement already satisfied: pyshp>=2.1.3 in a:\\softwares\\anaconda3\\lib\\site-packages (from geemap) (2.1.3)\n",
      "Collecting python-box\n",
      "  Downloading python_box-7.0.1-cp39-cp39-win_amd64.whl (1.0 MB)\n",
      "Collecting pycrs\n",
      "  Downloading PyCRS-1.0.2.tar.gz (36 kB)\n",
      "Collecting folium>=0.11.0\n",
      "  Downloading folium-0.14.0-py2.py3-none-any.whl (102 kB)\n",
      "Requirement already satisfied: ipykernel in a:\\softwares\\anaconda3\\lib\\site-packages (from geemap) (6.4.1)\n",
      "Collecting colour\n",
      "  Downloading colour-0.1.5-py2.py3-none-any.whl (23 kB)\n",
      "Collecting sankee>=0.1.0\n",
      "  Downloading sankee-0.2.3.tar.gz (30 kB)\n",
      "Collecting gdown\n",
      "  Downloading gdown-4.7.1-py3-none-any.whl (15 kB)\n",
      "Collecting xyzservices\n",
      "  Downloading xyzservices-2023.2.0-py3-none-any.whl (55 kB)\n",
      "Collecting geocoder\n",
      "  Downloading geocoder-1.38.1-py2.py3-none-any.whl (98 kB)\n",
      "Collecting ipyleaflet>=0.17.0\n",
      "  Downloading ipyleaflet-0.17.2-py3-none-any.whl (3.7 MB)\n",
      "Requirement already satisfied: pillow in a:\\softwares\\anaconda3\\lib\\site-packages (from geemap) (8.4.0)\n",
      "Collecting ffmpeg-python\n",
      "  Downloading ffmpeg_python-0.2.0-py3-none-any.whl (25 kB)\n",
      "Collecting earthengine-api>=0.1.304\n",
      "  Downloading earthengine-api-0.1.346.tar.gz (245 kB)\n",
      "Collecting ee-extra>=0.0.10\n",
      "  Downloading ee_extra-0.0.15.tar.gz (224 kB)\n",
      "Requirement already satisfied: pandas in a:\\softwares\\anaconda3\\lib\\site-packages (from geemap) (1.3.4)\n",
      "Collecting bqplot\n",
      "  Downloading bqplot-0.12.36-py2.py3-none-any.whl (1.2 MB)\n",
      "Requirement already satisfied: numpy in a:\\softwares\\anaconda3\\lib\\site-packages (from geemap) (1.20.3)\n",
      "Collecting whiteboxgui>=0.6.0\n",
      "  Downloading whiteboxgui-2.2.0-py2.py3-none-any.whl (99 kB)\n",
      "Collecting ipyfilechooser>=0.6.0\n",
      "  Downloading ipyfilechooser-0.6.0-py3-none-any.whl (11 kB)\n",
      "Collecting scooby\n",
      "  Downloading scooby-0.7.1-py3-none-any.whl (16 kB)\n",
      "Requirement already satisfied: ipywidgets<8.0.0 in a:\\softwares\\anaconda3\\lib\\site-packages (from geemap) (7.6.5)\n",
      "Collecting ipyevents\n",
      "  Downloading ipyevents-2.0.1-py2.py3-none-any.whl (130 kB)\n",
      "Collecting geojson\n",
      "  Downloading geojson-3.0.1-py3-none-any.whl (15 kB)\n",
      "Collecting geeadd>=0.5.1\n",
      "  Downloading geeadd-0.5.6-py3-none-any.whl (30 kB)\n",
      "Requirement already satisfied: matplotlib in a:\\softwares\\anaconda3\\lib\\site-packages (from geemap) (3.4.3)\n",
      "Collecting google-cloud-storage\n",
      "  Downloading google_cloud_storage-2.7.0-py2.py3-none-any.whl (110 kB)\n",
      "Collecting google-api-python-client>=1.12.1\n",
      "  Downloading google_api_python_client-2.82.0-py2.py3-none-any.whl (11.1 MB)\n",
      "Collecting google-auth>=1.4.1\n",
      "  Downloading google_auth-2.16.3-py2.py3-none-any.whl (177 kB)\n",
      "Collecting google-auth-httplib2>=0.0.3\n",
      "  Downloading google_auth_httplib2-0.1.0-py2.py3-none-any.whl (9.3 kB)\n",
      "Collecting httplib2<1dev,>=0.9.2\n",
      "  Downloading httplib2-0.22.0-py3-none-any.whl (96 kB)\n",
      "Requirement already satisfied: requests in a:\\softwares\\anaconda3\\lib\\site-packages (from earthengine-api>=0.1.304->geemap) (2.26.0)\n",
      "Requirement already satisfied: jinja2>=2.9 in a:\\softwares\\anaconda3\\lib\\site-packages (from folium>=0.11.0->geemap) (2.11.3)\n",
      "Collecting branca>=0.6.0\n",
      "  Downloading branca-0.6.0-py3-none-any.whl (24 kB)\n",
      "Requirement already satisfied: beautifulsoup4>=4.9.0 in a:\\softwares\\anaconda3\\lib\\site-packages (from geeadd>=0.5.1->geemap) (4.10.0)\n",
      "Collecting logzero>=1.5.0\n",
      "  Downloading logzero-1.7.0-py2.py3-none-any.whl (16 kB)\n",
      "Requirement already satisfied: soupsieve>1.2 in a:\\softwares\\anaconda3\\lib\\site-packages (from beautifulsoup4>=4.9.0->geeadd>=0.5.1->geemap) (2.2.1)\n",
      "Collecting uritemplate<5,>=3.0.1\n",
      "  Downloading uritemplate-4.1.1-py2.py3-none-any.whl (10 kB)\n",
      "Collecting google-api-core!=2.0.*,!=2.1.*,!=2.2.*,!=2.3.0,<3.0.0dev,>=1.31.5\n",
      "  Downloading google_api_core-2.11.0-py3-none-any.whl (120 kB)\n",
      "Collecting googleapis-common-protos<2.0dev,>=1.56.2\n",
      "  Downloading googleapis_common_protos-1.59.0-py2.py3-none-any.whl (223 kB)\n",
      "Collecting protobuf!=3.20.0,!=3.20.1,!=4.21.0,!=4.21.1,!=4.21.2,!=4.21.3,!=4.21.4,!=4.21.5,<5.0.0dev,>=3.19.5\n",
      "  Downloading protobuf-4.22.1-cp39-cp39-win_amd64.whl (420 kB)\n",
      "Requirement already satisfied: six>=1.9.0 in a:\\softwares\\anaconda3\\lib\\site-packages (from google-auth>=1.4.1->earthengine-api>=0.1.304->geemap) (1.16.0)\n",
      "Collecting rsa<5,>=3.1.4\n",
      "  Downloading rsa-4.9-py3-none-any.whl (34 kB)\n",
      "Collecting pyasn1-modules>=0.2.1\n",
      "  Downloading pyasn1_modules-0.2.8-py2.py3-none-any.whl (155 kB)\n",
      "Collecting cachetools<6.0,>=2.0.0\n",
      "  Downloading cachetools-5.3.0-py3-none-any.whl (9.3 kB)\n",
      "Requirement already satisfied: pyparsing!=3.0.0,!=3.0.1,!=3.0.2,!=3.0.3,<4,>=2.4.2 in a:\\softwares\\anaconda3\\lib\\site-packages (from httplib2<1dev,>=0.9.2->earthengine-api>=0.1.304->geemap) (3.0.4)\n",
      "Collecting traittypes<3,>=0.2.1\n",
      "  Downloading traittypes-0.2.1-py2.py3-none-any.whl (8.6 kB)\n",
      "Requirement already satisfied: jupyterlab-widgets>=1.0.0 in a:\\softwares\\anaconda3\\lib\\site-packages (from ipywidgets<8.0.0->geemap) (1.0.0)\n",
      "Requirement already satisfied: nbformat>=4.2.0 in a:\\softwares\\anaconda3\\lib\\site-packages (from ipywidgets<8.0.0->geemap) (5.1.3)\n",
      "Requirement already satisfied: ipython>=4.0.0 in a:\\softwares\\anaconda3\\lib\\site-packages (from ipywidgets<8.0.0->geemap) (7.29.0)\n",
      "Requirement already satisfied: ipython-genutils~=0.2.0 in a:\\softwares\\anaconda3\\lib\\site-packages (from ipywidgets<8.0.0->geemap) (0.2.0)\n",
      "Requirement already satisfied: widgetsnbextension~=3.5.0 in a:\\softwares\\anaconda3\\lib\\site-packages (from ipywidgets<8.0.0->geemap) (3.5.1)\n",
      "Requirement already satisfied: traitlets>=4.3.1 in a:\\softwares\\anaconda3\\lib\\site-packages (from ipywidgets<8.0.0->geemap) (5.1.0)\n",
      "Requirement already satisfied: tornado<7.0,>=4.2 in a:\\softwares\\anaconda3\\lib\\site-packages (from ipykernel->geemap) (6.1)\n",
      "Requirement already satisfied: matplotlib-inline<0.2.0,>=0.1.0 in a:\\softwares\\anaconda3\\lib\\site-packages (from ipykernel->geemap) (0.1.2)\n",
      "Requirement already satisfied: debugpy<2.0,>=1.0.0 in a:\\softwares\\anaconda3\\lib\\site-packages (from ipykernel->geemap) (1.4.1)\n",
      "Requirement already satisfied: jupyter-client<8.0 in a:\\softwares\\anaconda3\\lib\\site-packages (from ipykernel->geemap) (6.1.12)\n",
      "Requirement already satisfied: pickleshare in a:\\softwares\\anaconda3\\lib\\site-packages (from ipython>=4.0.0->ipywidgets<8.0.0->geemap) (0.7.5)\n",
      "Requirement already satisfied: colorama in a:\\softwares\\anaconda3\\lib\\site-packages (from ipython>=4.0.0->ipywidgets<8.0.0->geemap) (0.4.4)\n",
      "Requirement already satisfied: setuptools>=18.5 in a:\\softwares\\anaconda3\\lib\\site-packages (from ipython>=4.0.0->ipywidgets<8.0.0->geemap) (58.0.4)\n",
      "Requirement already satisfied: jedi>=0.16 in a:\\softwares\\anaconda3\\lib\\site-packages (from ipython>=4.0.0->ipywidgets<8.0.0->geemap) (0.18.0)\n",
      "Requirement already satisfied: prompt-toolkit!=3.0.0,!=3.0.1,<3.1.0,>=2.0.0 in a:\\softwares\\anaconda3\\lib\\site-packages (from ipython>=4.0.0->ipywidgets<8.0.0->geemap) (3.0.20)\n",
      "Requirement already satisfied: decorator in a:\\softwares\\anaconda3\\lib\\site-packages (from ipython>=4.0.0->ipywidgets<8.0.0->geemap) (5.1.0)\n",
      "Requirement already satisfied: pygments in a:\\softwares\\anaconda3\\lib\\site-packages (from ipython>=4.0.0->ipywidgets<8.0.0->geemap) (2.10.0)\n",
      "Requirement already satisfied: backcall in a:\\softwares\\anaconda3\\lib\\site-packages (from ipython>=4.0.0->ipywidgets<8.0.0->geemap) (0.2.0)\n",
      "Requirement already satisfied: parso<0.9.0,>=0.8.0 in a:\\softwares\\anaconda3\\lib\\site-packages (from jedi>=0.16->ipython>=4.0.0->ipywidgets<8.0.0->geemap) (0.8.2)\n",
      "Requirement already satisfied: MarkupSafe>=0.23 in a:\\softwares\\anaconda3\\lib\\site-packages (from jinja2>=2.9->folium>=0.11.0->geemap) (1.1.1)\n",
      "Requirement already satisfied: jupyter-core>=4.6.0 in a:\\softwares\\anaconda3\\lib\\site-packages (from jupyter-client<8.0->ipykernel->geemap) (4.8.1)\n",
      "Requirement already satisfied: pyzmq>=13 in a:\\softwares\\anaconda3\\lib\\site-packages (from jupyter-client<8.0->ipykernel->geemap) (22.2.1)\n",
      "Requirement already satisfied: python-dateutil>=2.1 in a:\\softwares\\anaconda3\\lib\\site-packages (from jupyter-client<8.0->ipykernel->geemap) (2.8.2)\n",
      "Requirement already satisfied: pywin32>=1.0 in a:\\softwares\\anaconda3\\lib\\site-packages (from jupyter-core>=4.6.0->jupyter-client<8.0->ipykernel->geemap) (228)\n",
      "Requirement already satisfied: jsonschema!=2.5.0,>=2.4 in a:\\softwares\\anaconda3\\lib\\site-packages (from nbformat>=4.2.0->ipywidgets<8.0.0->geemap) (3.2.0)\n",
      "Requirement already satisfied: attrs>=17.4.0 in a:\\softwares\\anaconda3\\lib\\site-packages (from jsonschema!=2.5.0,>=2.4->nbformat>=4.2.0->ipywidgets<8.0.0->geemap) (21.2.0)\n",
      "Requirement already satisfied: pyrsistent>=0.14.0 in a:\\softwares\\anaconda3\\lib\\site-packages (from jsonschema!=2.5.0,>=2.4->nbformat>=4.2.0->ipywidgets<8.0.0->geemap) (0.18.0)\n",
      "Requirement already satisfied: wcwidth in a:\\softwares\\anaconda3\\lib\\site-packages (from prompt-toolkit!=3.0.0,!=3.0.1,<3.1.0,>=2.0.0->ipython>=4.0.0->ipywidgets<8.0.0->geemap) (0.2.5)\n",
      "Collecting pyasn1<0.5.0,>=0.4.6\n",
      "  Downloading pyasn1-0.4.8-py2.py3-none-any.whl (77 kB)\n",
      "Requirement already satisfied: urllib3<1.27,>=1.21.1 in a:\\softwares\\anaconda3\\lib\\site-packages (from requests->earthengine-api>=0.1.304->geemap) (1.26.7)\n",
      "Requirement already satisfied: certifi>=2017.4.17 in a:\\softwares\\anaconda3\\lib\\site-packages (from requests->earthengine-api>=0.1.304->geemap) (2021.10.8)\n",
      "Requirement already satisfied: idna<4,>=2.5 in a:\\softwares\\anaconda3\\lib\\site-packages (from requests->earthengine-api>=0.1.304->geemap) (3.2)\n",
      "Requirement already satisfied: charset-normalizer~=2.0.0 in a:\\softwares\\anaconda3\\lib\\site-packages (from requests->earthengine-api>=0.1.304->geemap) (2.0.4)\n",
      "Collecting plotly>=5.2.2\n",
      "  Downloading plotly-5.13.1-py2.py3-none-any.whl (15.2 MB)\n",
      "Collecting tenacity>=6.2.0\n",
      "  Downloading tenacity-8.2.2-py3-none-any.whl (24 kB)\n",
      "Collecting whitebox\n",
      "  Downloading whitebox-2.2.0-py2.py3-none-any.whl (79 kB)\n",
      "Requirement already satisfied: notebook>=4.4.1 in a:\\softwares\\anaconda3\\lib\\site-packages (from widgetsnbextension~=3.5.0->ipywidgets<8.0.0->geemap) (6.4.5)\n",
      "Requirement already satisfied: nbconvert in a:\\softwares\\anaconda3\\lib\\site-packages (from notebook>=4.4.1->widgetsnbextension~=3.5.0->ipywidgets<8.0.0->geemap) (6.1.0)\n",
      "Requirement already satisfied: Send2Trash>=1.5.0 in a:\\softwares\\anaconda3\\lib\\site-packages (from notebook>=4.4.1->widgetsnbextension~=3.5.0->ipywidgets<8.0.0->geemap) (1.8.0)\n",
      "Requirement already satisfied: prometheus-client in a:\\softwares\\anaconda3\\lib\\site-packages (from notebook>=4.4.1->widgetsnbextension~=3.5.0->ipywidgets<8.0.0->geemap) (0.11.0)\n",
      "Requirement already satisfied: terminado>=0.8.3 in a:\\softwares\\anaconda3\\lib\\site-packages (from notebook>=4.4.1->widgetsnbextension~=3.5.0->ipywidgets<8.0.0->geemap) (0.9.4)\n",
      "Requirement already satisfied: argon2-cffi in a:\\softwares\\anaconda3\\lib\\site-packages (from notebook>=4.4.1->widgetsnbextension~=3.5.0->ipywidgets<8.0.0->geemap) (20.1.0)\n",
      "Requirement already satisfied: pywinpty>=0.5 in a:\\softwares\\anaconda3\\lib\\site-packages (from terminado>=0.8.3->notebook>=4.4.1->widgetsnbextension~=3.5.0->ipywidgets<8.0.0->geemap) (0.5.7)\n",
      "Requirement already satisfied: cffi>=1.0.0 in a:\\softwares\\anaconda3\\lib\\site-packages (from argon2-cffi->notebook>=4.4.1->widgetsnbextension~=3.5.0->ipywidgets<8.0.0->geemap) (1.14.6)\n",
      "Requirement already satisfied: pycparser in a:\\softwares\\anaconda3\\lib\\site-packages (from cffi>=1.0.0->argon2-cffi->notebook>=4.4.1->widgetsnbextension~=3.5.0->ipywidgets<8.0.0->geemap) (2.20)\n",
      "Requirement already satisfied: pytz>=2017.3 in a:\\softwares\\anaconda3\\lib\\site-packages (from pandas->geemap) (2021.3)\n",
      "Requirement already satisfied: future in a:\\softwares\\anaconda3\\lib\\site-packages (from ffmpeg-python->geemap) (0.18.2)\n",
      "Requirement already satisfied: filelock in a:\\softwares\\anaconda3\\lib\\site-packages (from gdown->geemap) (3.3.1)\n",
      "Requirement already satisfied: tqdm in a:\\softwares\\anaconda3\\lib\\site-packages (from gdown->geemap) (4.62.3)\n",
      "Collecting ratelim\n",
      "  Downloading ratelim-0.1.6-py2.py3-none-any.whl (4.0 kB)\n",
      "Requirement already satisfied: click in a:\\softwares\\anaconda3\\lib\\site-packages (from geocoder->geemap) (8.0.3)\n",
      "Collecting google-resumable-media>=2.3.2\n",
      "  Downloading google_resumable_media-2.4.1-py2.py3-none-any.whl (77 kB)\n",
      "Collecting google-cloud-core<3.0dev,>=2.3.0\n",
      "  Downloading google_cloud_core-2.3.2-py2.py3-none-any.whl (29 kB)\n",
      "Collecting google-crc32c<2.0dev,>=1.0\n",
      "  Downloading google_crc32c-1.5.0-cp39-cp39-win_amd64.whl (27 kB)\n",
      "Requirement already satisfied: kiwisolver>=1.0.1 in a:\\softwares\\anaconda3\\lib\\site-packages (from matplotlib->geemap) (1.3.1)\n",
      "Requirement already satisfied: cycler>=0.10 in a:\\softwares\\anaconda3\\lib\\site-packages (from matplotlib->geemap) (0.10.0)\n",
      "Requirement already satisfied: pandocfilters>=1.4.1 in a:\\softwares\\anaconda3\\lib\\site-packages (from nbconvert->notebook>=4.4.1->widgetsnbextension~=3.5.0->ipywidgets<8.0.0->geemap) (1.4.3)\n",
      "Requirement already satisfied: nbclient<0.6.0,>=0.5.0 in a:\\softwares\\anaconda3\\lib\\site-packages (from nbconvert->notebook>=4.4.1->widgetsnbextension~=3.5.0->ipywidgets<8.0.0->geemap) (0.5.3)\n",
      "Requirement already satisfied: testpath in a:\\softwares\\anaconda3\\lib\\site-packages (from nbconvert->notebook>=4.4.1->widgetsnbextension~=3.5.0->ipywidgets<8.0.0->geemap) (0.5.0)\n",
      "Requirement already satisfied: defusedxml in a:\\softwares\\anaconda3\\lib\\site-packages (from nbconvert->notebook>=4.4.1->widgetsnbextension~=3.5.0->ipywidgets<8.0.0->geemap) (0.7.1)\n",
      "Requirement already satisfied: entrypoints>=0.2.2 in a:\\softwares\\anaconda3\\lib\\site-packages (from nbconvert->notebook>=4.4.1->widgetsnbextension~=3.5.0->ipywidgets<8.0.0->geemap) (0.3)\n",
      "Requirement already satisfied: jupyterlab-pygments in a:\\softwares\\anaconda3\\lib\\site-packages (from nbconvert->notebook>=4.4.1->widgetsnbextension~=3.5.0->ipywidgets<8.0.0->geemap) (0.1.2)\n",
      "Requirement already satisfied: bleach in a:\\softwares\\anaconda3\\lib\\site-packages (from nbconvert->notebook>=4.4.1->widgetsnbextension~=3.5.0->ipywidgets<8.0.0->geemap) (4.0.0)\n",
      "Requirement already satisfied: mistune<2,>=0.8.1 in a:\\softwares\\anaconda3\\lib\\site-packages (from nbconvert->notebook>=4.4.1->widgetsnbextension~=3.5.0->ipywidgets<8.0.0->geemap) (0.8.4)\n",
      "Requirement already satisfied: async-generator in a:\\softwares\\anaconda3\\lib\\site-packages (from nbclient<0.6.0,>=0.5.0->nbconvert->notebook>=4.4.1->widgetsnbextension~=3.5.0->ipywidgets<8.0.0->geemap) (1.10)\n",
      "Requirement already satisfied: nest-asyncio in a:\\softwares\\anaconda3\\lib\\site-packages (from nbclient<0.6.0,>=0.5.0->nbconvert->notebook>=4.4.1->widgetsnbextension~=3.5.0->ipywidgets<8.0.0->geemap) (1.5.1)\n",
      "Requirement already satisfied: packaging in a:\\softwares\\anaconda3\\lib\\site-packages (from bleach->nbconvert->notebook>=4.4.1->widgetsnbextension~=3.5.0->ipywidgets<8.0.0->geemap) (21.0)\n",
      "Requirement already satisfied: webencodings in a:\\softwares\\anaconda3\\lib\\site-packages (from bleach->nbconvert->notebook>=4.4.1->widgetsnbextension~=3.5.0->ipywidgets<8.0.0->geemap) (0.5.1)\n",
      "Requirement already satisfied: PySocks!=1.5.7,>=1.5.6 in a:\\softwares\\anaconda3\\lib\\site-packages (from requests->earthengine-api>=0.1.304->geemap) (1.7.1)\n",
      "Building wheels for collected packages: earthengine-api, ee-extra, sankee, pycrs, pyperclip\n",
      "  Building wheel for earthengine-api (setup.py): started\n",
      "  Building wheel for earthengine-api (setup.py): finished with status 'done'\n",
      "  Created wheel for earthengine-api: filename=earthengine_api-0.1.346-py3-none-any.whl size=275248 sha256=a394ff20cbf98a9ef83b541b219cc243b2c14d61cfe77f77cc72d9449e4a5866\n",
      "  Stored in directory: c:\\users\\ramak\\appdata\\local\\pip\\cache\\wheels\\9b\\2c\\ee\\22fff2bb2c29c9616521d4acc1600816539e0ee8a9ca9f6696\n",
      "  Building wheel for ee-extra (setup.py): started\n",
      "  Building wheel for ee-extra (setup.py): finished with status 'done'\n",
      "  Created wheel for ee-extra: filename=ee_extra-0.0.15-py3-none-any.whl size=236772 sha256=957f8ac11550567f6f1b3f816c2cd5413f57bd559a0bc2d02080fa9f0b6a7328\n",
      "  Stored in directory: c:\\users\\ramak\\appdata\\local\\pip\\cache\\wheels\\66\\66\\06\\98d6dee3f612d84d2b487fc73ca2c2479279dc2714faddcc10\n",
      "  Building wheel for sankee (setup.py): started\n",
      "  Building wheel for sankee (setup.py): finished with status 'done'\n",
      "  Created wheel for sankee: filename=sankee-0.2.3-py3-none-any.whl size=30509 sha256=48d4347f5ed7f6d9f3c2a6d9801345338f8be7af36fd1dd85ecf29548e6017b9\n",
      "  Stored in directory: c:\\users\\ramak\\appdata\\local\\pip\\cache\\wheels\\a0\\77\\76\\04746a9b2af1cfe05fbfb90463ee0a1e5a632e162d85e7cf33\n",
      "  Building wheel for pycrs (setup.py): started\n",
      "  Building wheel for pycrs (setup.py): finished with status 'done'\n",
      "  Created wheel for pycrs: filename=PyCRS-1.0.2-py3-none-any.whl size=32704 sha256=c3712d1d7c9cb5f67fd3abefe1b5ad3ec8901e48e93ac6389209642d8d87550b\n",
      "  Stored in directory: c:\\users\\ramak\\appdata\\local\\pip\\cache\\wheels\\94\\01\\24\\bc7bff66667ef317615144a15e04593a08d9bb322f2c427d6c\n",
      "  Building wheel for pyperclip (setup.py): started\n",
      "  Building wheel for pyperclip (setup.py): finished with status 'done'\n",
      "  Created wheel for pyperclip: filename=pyperclip-1.8.2-py3-none-any.whl size=11136 sha256=84df38f1a14ca899e5ffd52941300e67fc614acc345dc3f956d3ce820fe2b49f\n",
      "  Stored in directory: c:\\users\\ramak\\appdata\\local\\pip\\cache\\wheels\\0c\\09\\9e\\49e21a6840ef7955b06d47394afef0058f0378c0914e48b8b8\n",
      "Successfully built earthengine-api ee-extra sankee pycrs pyperclip\n",
      "Installing collected packages: pyasn1, rsa, pyasn1-modules, protobuf, cachetools, googleapis-common-protos, google-auth, httplib2, google-crc32c, google-api-core, uritemplate, google-resumable-media, google-cloud-core, google-auth-httplib2, tenacity, google-cloud-storage, google-api-python-client, xyzservices, whitebox, traittypes, ratelim, plotly, logzero, ipytree, ipyfilechooser, earthengine-api, branca, whiteboxgui, scooby, sankee, python-box, pyperclip, pycrs, ipyleaflet, ipyevents, geojson, geocoder, geeadd, gdown, folium, ffmpeg-python, eerepr, ee-extra, colour, bqplot, geemap\n",
      "Successfully installed bqplot-0.12.36 branca-0.6.0 cachetools-5.3.0 colour-0.1.5 earthengine-api-0.1.346 ee-extra-0.0.15 eerepr-0.0.4 ffmpeg-python-0.2.0 folium-0.14.0 gdown-4.7.1 geeadd-0.5.6 geemap-0.20.3 geocoder-1.38.1 geojson-3.0.1 google-api-core-2.11.0 google-api-python-client-2.82.0 google-auth-2.16.3 google-auth-httplib2-0.1.0 google-cloud-core-2.3.2 google-cloud-storage-2.7.0 google-crc32c-1.5.0 google-resumable-media-2.4.1 googleapis-common-protos-1.59.0 httplib2-0.22.0 ipyevents-2.0.1 ipyfilechooser-0.6.0 ipyleaflet-0.17.2 ipytree-0.2.2 logzero-1.7.0 plotly-5.13.1 protobuf-4.22.1 pyasn1-0.4.8 pyasn1-modules-0.2.8 pycrs-1.0.2 pyperclip-1.8.2 python-box-7.0.1 ratelim-0.1.6 rsa-4.9 sankee-0.2.3 scooby-0.7.1 tenacity-8.2.2 traittypes-0.2.1 uritemplate-4.1.1 whitebox-2.2.0 whiteboxgui-2.2.0 xyzservices-2023.2.0\n",
      "Collecting google-api-python-client==1.12.8\n",
      "  Downloading google_api_python_client-1.12.8-py2.py3-none-any.whl (61 kB)\n",
      "Requirement already satisfied: httplib2<1dev,>=0.15.0 in a:\\softwares\\anaconda3\\lib\\site-packages (from google-api-python-client==1.12.8) (0.22.0)\n",
      "Collecting google-api-core<2dev,>=1.21.0\n",
      "  Downloading google_api_core-1.34.0-py3-none-any.whl (120 kB)\n",
      "Collecting uritemplate<4dev,>=3.0.0\n",
      "  Downloading uritemplate-3.0.1-py2.py3-none-any.whl (15 kB)\n",
      "Requirement already satisfied: google-auth-httplib2>=0.0.3 in a:\\softwares\\anaconda3\\lib\\site-packages (from google-api-python-client==1.12.8) (0.1.0)\n",
      "Requirement already satisfied: six<2dev,>=1.13.0 in a:\\softwares\\anaconda3\\lib\\site-packages (from google-api-python-client==1.12.8) (1.16.0)\n",
      "Requirement already satisfied: google-auth>=1.16.0 in a:\\softwares\\anaconda3\\lib\\site-packages (from google-api-python-client==1.12.8) (2.16.3)\n",
      "Requirement already satisfied: googleapis-common-protos<2.0dev,>=1.56.2 in a:\\softwares\\anaconda3\\lib\\site-packages (from google-api-core<2dev,>=1.21.0->google-api-python-client==1.12.8) (1.59.0)\n",
      "Collecting protobuf!=3.20.0,!=3.20.1,!=4.21.0,!=4.21.1,!=4.21.2,!=4.21.3,!=4.21.4,!=4.21.5,<4.0.0dev,>=3.19.5\n",
      "  Downloading protobuf-3.20.3-cp39-cp39-win_amd64.whl (904 kB)\n",
      "Requirement already satisfied: requests<3.0.0dev,>=2.18.0 in a:\\softwares\\anaconda3\\lib\\site-packages (from google-api-core<2dev,>=1.21.0->google-api-python-client==1.12.8) (2.26.0)\n",
      "Requirement already satisfied: pyasn1-modules>=0.2.1 in a:\\softwares\\anaconda3\\lib\\site-packages (from google-auth>=1.16.0->google-api-python-client==1.12.8) (0.2.8)\n",
      "Requirement already satisfied: rsa<5,>=3.1.4 in a:\\softwares\\anaconda3\\lib\\site-packages (from google-auth>=1.16.0->google-api-python-client==1.12.8) (4.9)\n",
      "Requirement already satisfied: cachetools<6.0,>=2.0.0 in a:\\softwares\\anaconda3\\lib\\site-packages (from google-auth>=1.16.0->google-api-python-client==1.12.8) (5.3.0)\n",
      "Requirement already satisfied: pyparsing!=3.0.0,!=3.0.1,!=3.0.2,!=3.0.3,<4,>=2.4.2 in a:\\softwares\\anaconda3\\lib\\site-packages (from httplib2<1dev,>=0.15.0->google-api-python-client==1.12.8) (3.0.4)\n",
      "Requirement already satisfied: pyasn1<0.5.0,>=0.4.6 in a:\\softwares\\anaconda3\\lib\\site-packages (from pyasn1-modules>=0.2.1->google-auth>=1.16.0->google-api-python-client==1.12.8) (0.4.8)\n",
      "Requirement already satisfied: certifi>=2017.4.17 in a:\\softwares\\anaconda3\\lib\\site-packages (from requests<3.0.0dev,>=2.18.0->google-api-core<2dev,>=1.21.0->google-api-python-client==1.12.8) (2021.10.8)\n",
      "Requirement already satisfied: urllib3<1.27,>=1.21.1 in a:\\softwares\\anaconda3\\lib\\site-packages (from requests<3.0.0dev,>=2.18.0->google-api-core<2dev,>=1.21.0->google-api-python-client==1.12.8) (1.26.7)\n",
      "Requirement already satisfied: idna<4,>=2.5 in a:\\softwares\\anaconda3\\lib\\site-packages (from requests<3.0.0dev,>=2.18.0->google-api-core<2dev,>=1.21.0->google-api-python-client==1.12.8) (3.2)\n",
      "Requirement already satisfied: charset-normalizer~=2.0.0 in a:\\softwares\\anaconda3\\lib\\site-packages (from requests<3.0.0dev,>=2.18.0->google-api-core<2dev,>=1.21.0->google-api-python-client==1.12.8) (2.0.4)\n",
      "Installing collected packages: protobuf, uritemplate, google-api-core, google-api-python-client\n",
      "  Attempting uninstall: protobuf\n",
      "    Found existing installation: protobuf 4.22.1\n",
      "    Uninstalling protobuf-4.22.1:\n",
      "      Successfully uninstalled protobuf-4.22.1\n",
      "  Attempting uninstall: uritemplate\n",
      "    Found existing installation: uritemplate 4.1.1\n",
      "    Uninstalling uritemplate-4.1.1:\n",
      "      Successfully uninstalled uritemplate-4.1.1\n",
      "  Attempting uninstall: google-api-core\n",
      "    Found existing installation: google-api-core 2.11.0\n",
      "    Uninstalling google-api-core-2.11.0:\n",
      "      Successfully uninstalled google-api-core-2.11.0\n",
      "  Attempting uninstall: google-api-python-client\n",
      "    Found existing installation: google-api-python-client 2.82.0\n",
      "    Uninstalling google-api-python-client-2.82.0:\n",
      "      Successfully uninstalled google-api-python-client-2.82.0\n",
      "Successfully installed google-api-core-1.34.0 google-api-python-client-1.12.8 protobuf-3.20.3 uritemplate-3.0.1\n"
     ]
    }
   ],
   "source": [
    "#installing GEE packages\n",
    "\n",
    "!pip install geemap\n",
    "!pip install -U google-api-python-client==1.12.8"
   ]
  },
  {
   "cell_type": "code",
   "execution_count": 4,
   "id": "b2ef6feb-3720-4af5-bf17-03b003aa15ee",
   "metadata": {},
   "outputs": [],
   "source": [
    "#Authunticate GEE Account"
   ]
  },
  {
   "cell_type": "code",
   "execution_count": 1,
   "id": "2052c302-f02b-41d0-8afa-a32aad9c7706",
   "metadata": {},
   "outputs": [
    {
     "data": {
      "text/html": [
       "<p>To authorize access needed by Earth Engine, open the following\n",
       "        URL in a web browser and follow the instructions:</p>\n",
       "        <p><a href=https://code.earthengine.google.com/client-auth?scopes=https%3A//www.googleapis.com/auth/earthengine%20https%3A//www.googleapis.com/auth/devstorage.full_control&request_id=_Rcvrx-IcfGCUHpGKASLH0X4o-gVJEqAgT4FbrXjlJk&tc=ZStVR9ArepH38CWz6ILdZDLC-P6r497I2P2Qnion1Ro&cc=q5w3ZAvGKLByqS3RXNCb3iLYz3d63vG2Rkp2NvUWcOY>https://code.earthengine.google.com/client-auth?scopes=https%3A//www.googleapis.com/auth/earthengine%20https%3A//www.googleapis.com/auth/devstorage.full_control&request_id=_Rcvrx-IcfGCUHpGKASLH0X4o-gVJEqAgT4FbrXjlJk&tc=ZStVR9ArepH38CWz6ILdZDLC-P6r497I2P2Qnion1Ro&cc=q5w3ZAvGKLByqS3RXNCb3iLYz3d63vG2Rkp2NvUWcOY</a></p>\n",
       "        <p>The authorization workflow will generate a code, which you should paste in the box below.</p>\n",
       "        "
      ],
      "text/plain": [
       "<IPython.core.display.HTML object>"
      ]
     },
     "metadata": {},
     "output_type": "display_data"
    },
    {
     "name": "stdin",
     "output_type": "stream",
     "text": [
      "Enter verification code:  4/1AVHEtk53ulZ8luN0wy6oCDNk0pZHkDVppWZ19YO_RPl2US24UbNtBa6oQh4\n"
     ]
    },
    {
     "name": "stdout",
     "output_type": "stream",
     "text": [
      "\n",
      "Successfully saved authorization token.\n"
     ]
    }
   ],
   "source": [
    "import ee\n",
    "ee.Authenticate()"
   ]
  },
  {
   "cell_type": "code",
   "execution_count": 2,
   "id": "e1189d37-9b22-4e18-a5c3-3173ed79aa5a",
   "metadata": {},
   "outputs": [
    {
     "data": {
      "application/vnd.jupyter.widget-view+json": {
       "model_id": "5d84f026574f48db9f296ddae4040f05",
       "version_major": 2,
       "version_minor": 0
      },
      "text/plain": [
       "Map(center=[20, 0], controls=(WidgetControl(options=['position', 'transparent_bg'], widget=HBox(children=(Togg…"
      ]
     },
     "metadata": {},
     "output_type": "display_data"
    }
   ],
   "source": [
    "import geemap\n",
    "Map = geemap.Map()\n",
    "Map"
   ]
  },
  {
   "cell_type": "code",
   "execution_count": 12,
   "id": "ff8676f6-e17a-470f-8dba-fa5c0fd804a6",
   "metadata": {},
   "outputs": [],
   "source": [
    "### To convert a shapefile to GEE object and add it to the Map:"
   ]
  },
  {
   "cell_type": "code",
   "execution_count": 3,
   "id": "659f617c-fd8a-4e3c-8d56-b5cfe2b3d1c3",
   "metadata": {},
   "outputs": [],
   "source": [
    "\n",
    "ee_object = geemap.shp_to_ee('ZCTAs_DaneCounty (2)/ZCTAs_DaneCounty.shp')\n",
    "Map.addLayer(ee_object, {}, 'Dane_county')"
   ]
  },
  {
   "cell_type": "code",
   "execution_count": null,
   "id": "ed374b7b-1f45-416b-bb5d-cd1d6e916301",
   "metadata": {},
   "outputs": [],
   "source": [
    "# To convert a GeoJSON file to GEE object and add it to the Map:\n",
    "# ee_object = geemap.geojson_to_ee(geojson_file_path)\n",
    "# Map.addLayer(ee_object, {}, 'Layer name')"
   ]
  },
  {
   "cell_type": "code",
   "execution_count": 4,
   "id": "f5fb7bf5-6dea-4032-8c91-2584a515e591",
   "metadata": {},
   "outputs": [
    {
     "data": {
      "application/vnd.jupyter.widget-view+json": {
       "model_id": "db544a2a86b9453692b59fecbffe6866",
       "version_major": 2,
       "version_minor": 0
      },
      "text/plain": [
       "Map(center=[20, 0], controls=(WidgetControl(options=['position', 'transparent_bg'], widget=HBox(children=(Togg…"
      ]
     },
     "metadata": {},
     "output_type": "display_data"
    }
   ],
   "source": [
    "D_Map = geemap.Map()\n",
    "D_Map.add_basemap('HYBRID')\n",
    "\n",
    "D_Map"
   ]
  },
  {
   "cell_type": "code",
   "execution_count": 5,
   "id": "2b5974c0-2569-4b41-8fb9-65a9f320e405",
   "metadata": {},
   "outputs": [
    {
     "data": {
      "application/vnd.jupyter.widget-view+json": {
       "model_id": "db544a2a86b9453692b59fecbffe6866",
       "version_major": 2,
       "version_minor": 0
      },
      "text/plain": [
       "Map(bottom=754.0, center=[20, 0], controls=(WidgetControl(options=['position', 'transparent_bg'], widget=HBox(…"
      ]
     },
     "metadata": {},
     "output_type": "display_data"
    }
   ],
   "source": [
    "# Set the region of interest by simply drawing a polygon on the map\n",
    "region = Map.user_roi\n",
    "if region is None:\n",
    "    region = ee.Geometry.Polygon([[\n",
    "        [-89.54, 43.02],\n",
    "        [-89.34, 43.02],\n",
    "        [-89.34, 43.15],\n",
    "        [-89.54, 43.15],\n",
    "        [-89.54, 43.12],\n",
    "        [-89.45, 43.12],\n",
    "        [-89.45, 43.08],\n",
    "        [-89.54, 43.08],\n",
    "        [-89.54, 43.02]]])\n",
    "    \n",
    "D_Map.centerObject(region)\n",
    "D_Map"
   ]
  },
  {
   "cell_type": "code",
   "execution_count": 9,
   "id": "9cbaf26c-8982-45e7-8163-ef1582dd45d4",
   "metadata": {},
   "outputs": [
    {
     "data": {
      "application/vnd.jupyter.widget-view+json": {
       "model_id": "db544a2a86b9453692b59fecbffe6866",
       "version_major": 2,
       "version_minor": 0
      },
      "text/plain": [
       "Map(bottom=385260.0, center=[43.08493742707595, -89.44004058837892], controls=(WidgetControl(options=['positio…"
      ]
     },
     "metadata": {},
     "output_type": "display_data"
    }
   ],
   "source": [
    "# Set the date range to query the data\n",
    "start_date_1 = '2016-01-01'\n",
    "end_date_1 = '2016-12-31'\n",
    "\n",
    "start_date_2 = '2022-01-01'\n",
    "end_date_2 = '2022-12-31'\n",
    "\n",
    "# Create Dynamic World land cover composite\n",
    "# The \"return_type\" can be hillshade, visualize, class, or probability. \n",
    "\n",
    "landcover = geemap.dynamic_world(region, start_date_1, end_date_1, return_type='hillshade')\n",
    "D_Map.addLayer(landcover, {}, 'Land Cover')\n",
    "# Add legend to the map\n",
    "D_Map.add_legend(title=\"Dynamic World Land Cover\", builtin_legend='Dynamic_World')\n",
    "D_Map.centerObject(region)\n",
    "D_Map"
   ]
  },
  {
   "cell_type": "code",
   "execution_count": 20,
   "id": "a2ffc5fb-abfe-451a-99c7-1e3e78c83601",
   "metadata": {},
   "outputs": [
    {
     "name": "stdout",
     "output_type": "stream",
     "text": [
      "Calculating area for group 0 ...\n",
      "Calculating area for group 1 ...\n",
      "Calculating area for group 2 ...\n",
      "Calculating area for group 3 ...\n",
      "Calculating area for group 4 ...\n",
      "Calculating area for group 5 ...\n",
      "Calculating area for group 6 ...\n",
      "Calculating area for group 7 ...\n",
      "Calculating area for group 8 ...\n"
     ]
    },
    {
     "data": {
      "text/html": [
       "<div>\n",
       "<style scoped>\n",
       "    .dataframe tbody tr th:only-of-type {\n",
       "        vertical-align: middle;\n",
       "    }\n",
       "\n",
       "    .dataframe tbody tr th {\n",
       "        vertical-align: top;\n",
       "    }\n",
       "\n",
       "    .dataframe thead th {\n",
       "        text-align: right;\n",
       "    }\n",
       "</style>\n",
       "<table border=\"1\" class=\"dataframe\">\n",
       "  <thead>\n",
       "    <tr style=\"text-align: right;\">\n",
       "      <th></th>\n",
       "      <th>area</th>\n",
       "      <th>percentage</th>\n",
       "    </tr>\n",
       "    <tr>\n",
       "      <th>group</th>\n",
       "      <th></th>\n",
       "      <th></th>\n",
       "    </tr>\n",
       "  </thead>\n",
       "  <tbody>\n",
       "    <tr>\n",
       "      <th>0</th>\n",
       "      <td>46.8949</td>\n",
       "      <td>0.2379</td>\n",
       "    </tr>\n",
       "    <tr>\n",
       "      <th>1</th>\n",
       "      <td>34.7733</td>\n",
       "      <td>0.1764</td>\n",
       "    </tr>\n",
       "    <tr>\n",
       "      <th>2</th>\n",
       "      <td>7.6023</td>\n",
       "      <td>0.0386</td>\n",
       "    </tr>\n",
       "    <tr>\n",
       "      <th>3</th>\n",
       "      <td>0.4759</td>\n",
       "      <td>0.0024</td>\n",
       "    </tr>\n",
       "    <tr>\n",
       "      <th>4</th>\n",
       "      <td>25.0691</td>\n",
       "      <td>0.1272</td>\n",
       "    </tr>\n",
       "    <tr>\n",
       "      <th>5</th>\n",
       "      <td>0.4557</td>\n",
       "      <td>0.0023</td>\n",
       "    </tr>\n",
       "    <tr>\n",
       "      <th>6</th>\n",
       "      <td>79.5067</td>\n",
       "      <td>0.4034</td>\n",
       "    </tr>\n",
       "    <tr>\n",
       "      <th>7</th>\n",
       "      <td>0.8937</td>\n",
       "      <td>0.0045</td>\n",
       "    </tr>\n",
       "    <tr>\n",
       "      <th>8</th>\n",
       "      <td>1.4074</td>\n",
       "      <td>0.0071</td>\n",
       "    </tr>\n",
       "  </tbody>\n",
       "</table>\n",
       "</div>"
      ],
      "text/plain": [
       "          area  percentage\n",
       "group                     \n",
       "0      46.8949      0.2379\n",
       "1      34.7733      0.1764\n",
       "2       7.6023      0.0386\n",
       "3       0.4759      0.0024\n",
       "4      25.0691      0.1272\n",
       "5       0.4557      0.0023\n",
       "6      79.5067      0.4034\n",
       "7       0.8937      0.0045\n",
       "8       1.4074      0.0071"
      ]
     },
     "execution_count": 20,
     "metadata": {},
     "output_type": "execute_result"
    }
   ],
   "source": [
    "## Return \"class\" images for further zonal summary analysis \n",
    "classes = geemap.dynamic_world(region, start_date_1, end_date_1, return_type='class')\n",
    "df_16 = geemap.image_area_by_group(classes, region=region, scale=10, denominator=1e6)\n",
    "df_16"
   ]
  },
  {
   "cell_type": "code",
   "execution_count": 22,
   "id": "b6d67653-7158-45ff-9e12-8c2ca3346db6",
   "metadata": {},
   "outputs": [
    {
     "data": {
      "text/html": [
       "<div>\n",
       "<style scoped>\n",
       "    .dataframe tbody tr th:only-of-type {\n",
       "        vertical-align: middle;\n",
       "    }\n",
       "\n",
       "    .dataframe tbody tr th {\n",
       "        vertical-align: top;\n",
       "    }\n",
       "\n",
       "    .dataframe thead th {\n",
       "        text-align: right;\n",
       "    }\n",
       "</style>\n",
       "<table border=\"1\" class=\"dataframe\">\n",
       "  <thead>\n",
       "    <tr style=\"text-align: right;\">\n",
       "      <th></th>\n",
       "      <th>area_2016</th>\n",
       "      <th>percentage_2016</th>\n",
       "    </tr>\n",
       "    <tr>\n",
       "      <th>group</th>\n",
       "      <th></th>\n",
       "      <th></th>\n",
       "    </tr>\n",
       "  </thead>\n",
       "  <tbody>\n",
       "    <tr>\n",
       "      <th>0</th>\n",
       "      <td>46.8949</td>\n",
       "      <td>0.2379</td>\n",
       "    </tr>\n",
       "    <tr>\n",
       "      <th>1</th>\n",
       "      <td>34.7733</td>\n",
       "      <td>0.1764</td>\n",
       "    </tr>\n",
       "    <tr>\n",
       "      <th>2</th>\n",
       "      <td>7.6023</td>\n",
       "      <td>0.0386</td>\n",
       "    </tr>\n",
       "    <tr>\n",
       "      <th>3</th>\n",
       "      <td>0.4759</td>\n",
       "      <td>0.0024</td>\n",
       "    </tr>\n",
       "    <tr>\n",
       "      <th>4</th>\n",
       "      <td>25.0691</td>\n",
       "      <td>0.1272</td>\n",
       "    </tr>\n",
       "    <tr>\n",
       "      <th>5</th>\n",
       "      <td>0.4557</td>\n",
       "      <td>0.0023</td>\n",
       "    </tr>\n",
       "    <tr>\n",
       "      <th>6</th>\n",
       "      <td>79.5067</td>\n",
       "      <td>0.4034</td>\n",
       "    </tr>\n",
       "    <tr>\n",
       "      <th>7</th>\n",
       "      <td>0.8937</td>\n",
       "      <td>0.0045</td>\n",
       "    </tr>\n",
       "    <tr>\n",
       "      <th>8</th>\n",
       "      <td>1.4074</td>\n",
       "      <td>0.0071</td>\n",
       "    </tr>\n",
       "  </tbody>\n",
       "</table>\n",
       "</div>"
      ],
      "text/plain": [
       "       area_2016  percentage_2016\n",
       "group                            \n",
       "0        46.8949           0.2379\n",
       "1        34.7733           0.1764\n",
       "2         7.6023           0.0386\n",
       "3         0.4759           0.0024\n",
       "4        25.0691           0.1272\n",
       "5         0.4557           0.0023\n",
       "6        79.5067           0.4034\n",
       "7         0.8937           0.0045\n",
       "8         1.4074           0.0071"
      ]
     },
     "execution_count": 22,
     "metadata": {},
     "output_type": "execute_result"
    }
   ],
   "source": [
    "df_16.rename(columns = {'area':'area_2016', 'percentage':'percentage_2016'})"
   ]
  },
  {
   "cell_type": "code",
   "execution_count": 14,
   "id": "d9889aa0-efd5-41a6-ada0-ee37243e5290",
   "metadata": {},
   "outputs": [
    {
     "name": "stdout",
     "output_type": "stream",
     "text": [
      "Calculating area for group 0 ...\n",
      "Calculating area for group 1 ...\n",
      "Calculating area for group 2 ...\n",
      "Calculating area for group 3 ...\n",
      "Calculating area for group 4 ...\n",
      "Calculating area for group 5 ...\n",
      "Calculating area for group 6 ...\n",
      "Calculating area for group 7 ...\n",
      "Calculating area for group 8 ...\n"
     ]
    },
    {
     "data": {
      "text/html": [
       "<div>\n",
       "<style scoped>\n",
       "    .dataframe tbody tr th:only-of-type {\n",
       "        vertical-align: middle;\n",
       "    }\n",
       "\n",
       "    .dataframe tbody tr th {\n",
       "        vertical-align: top;\n",
       "    }\n",
       "\n",
       "    .dataframe thead th {\n",
       "        text-align: right;\n",
       "    }\n",
       "</style>\n",
       "<table border=\"1\" class=\"dataframe\">\n",
       "  <thead>\n",
       "    <tr style=\"text-align: right;\">\n",
       "      <th></th>\n",
       "      <th>area</th>\n",
       "      <th>percentage</th>\n",
       "    </tr>\n",
       "    <tr>\n",
       "      <th>group</th>\n",
       "      <th></th>\n",
       "      <th></th>\n",
       "    </tr>\n",
       "  </thead>\n",
       "  <tbody>\n",
       "    <tr>\n",
       "      <th>0</th>\n",
       "      <td>47.1609</td>\n",
       "      <td>0.2327</td>\n",
       "    </tr>\n",
       "    <tr>\n",
       "      <th>1</th>\n",
       "      <td>33.6527</td>\n",
       "      <td>0.1661</td>\n",
       "    </tr>\n",
       "    <tr>\n",
       "      <th>2</th>\n",
       "      <td>8.5238</td>\n",
       "      <td>0.0421</td>\n",
       "    </tr>\n",
       "    <tr>\n",
       "      <th>3</th>\n",
       "      <td>0.5105</td>\n",
       "      <td>0.0025</td>\n",
       "    </tr>\n",
       "    <tr>\n",
       "      <th>4</th>\n",
       "      <td>23.6761</td>\n",
       "      <td>0.1168</td>\n",
       "    </tr>\n",
       "    <tr>\n",
       "      <th>5</th>\n",
       "      <td>1.0123</td>\n",
       "      <td>0.0050</td>\n",
       "    </tr>\n",
       "    <tr>\n",
       "      <th>6</th>\n",
       "      <td>86.8895</td>\n",
       "      <td>0.4288</td>\n",
       "    </tr>\n",
       "    <tr>\n",
       "      <th>7</th>\n",
       "      <td>0.8957</td>\n",
       "      <td>0.0044</td>\n",
       "    </tr>\n",
       "    <tr>\n",
       "      <th>8</th>\n",
       "      <td>0.3196</td>\n",
       "      <td>0.0016</td>\n",
       "    </tr>\n",
       "  </tbody>\n",
       "</table>\n",
       "</div>"
      ],
      "text/plain": [
       "          area  percentage\n",
       "group                     \n",
       "0      47.1609      0.2327\n",
       "1      33.6527      0.1661\n",
       "2       8.5238      0.0421\n",
       "3       0.5105      0.0025\n",
       "4      23.6761      0.1168\n",
       "5       1.0123      0.0050\n",
       "6      86.8895      0.4288\n",
       "7       0.8957      0.0044\n",
       "8       0.3196      0.0016"
      ]
     },
     "execution_count": 14,
     "metadata": {},
     "output_type": "execute_result"
    }
   ],
   "source": [
    "classes_1 = geemap.dynamic_world(region, start_date_2, end_date_2, return_type='class')\n",
    "df_22 = geemap.image_area_by_group(classes_1, region=region, scale=10, denominator=1e6)\n",
    "df_22"
   ]
  },
  {
   "cell_type": "code",
   "execution_count": 23,
   "id": "fc6ee8c8-8d05-4e11-92f2-245ed40d2be6",
   "metadata": {},
   "outputs": [
    {
     "data": {
      "text/html": [
       "<div>\n",
       "<style scoped>\n",
       "    .dataframe tbody tr th:only-of-type {\n",
       "        vertical-align: middle;\n",
       "    }\n",
       "\n",
       "    .dataframe tbody tr th {\n",
       "        vertical-align: top;\n",
       "    }\n",
       "\n",
       "    .dataframe thead th {\n",
       "        text-align: right;\n",
       "    }\n",
       "</style>\n",
       "<table border=\"1\" class=\"dataframe\">\n",
       "  <thead>\n",
       "    <tr style=\"text-align: right;\">\n",
       "      <th></th>\n",
       "      <th>area_2022</th>\n",
       "      <th>percentage_2022</th>\n",
       "    </tr>\n",
       "    <tr>\n",
       "      <th>group</th>\n",
       "      <th></th>\n",
       "      <th></th>\n",
       "    </tr>\n",
       "  </thead>\n",
       "  <tbody>\n",
       "    <tr>\n",
       "      <th>0</th>\n",
       "      <td>47.1609</td>\n",
       "      <td>0.2327</td>\n",
       "    </tr>\n",
       "    <tr>\n",
       "      <th>1</th>\n",
       "      <td>33.6527</td>\n",
       "      <td>0.1661</td>\n",
       "    </tr>\n",
       "    <tr>\n",
       "      <th>2</th>\n",
       "      <td>8.5238</td>\n",
       "      <td>0.0421</td>\n",
       "    </tr>\n",
       "    <tr>\n",
       "      <th>3</th>\n",
       "      <td>0.5105</td>\n",
       "      <td>0.0025</td>\n",
       "    </tr>\n",
       "    <tr>\n",
       "      <th>4</th>\n",
       "      <td>23.6761</td>\n",
       "      <td>0.1168</td>\n",
       "    </tr>\n",
       "    <tr>\n",
       "      <th>5</th>\n",
       "      <td>1.0123</td>\n",
       "      <td>0.0050</td>\n",
       "    </tr>\n",
       "    <tr>\n",
       "      <th>6</th>\n",
       "      <td>86.8895</td>\n",
       "      <td>0.4288</td>\n",
       "    </tr>\n",
       "    <tr>\n",
       "      <th>7</th>\n",
       "      <td>0.8957</td>\n",
       "      <td>0.0044</td>\n",
       "    </tr>\n",
       "    <tr>\n",
       "      <th>8</th>\n",
       "      <td>0.3196</td>\n",
       "      <td>0.0016</td>\n",
       "    </tr>\n",
       "  </tbody>\n",
       "</table>\n",
       "</div>"
      ],
      "text/plain": [
       "       area_2022  percentage_2022\n",
       "group                            \n",
       "0        47.1609           0.2327\n",
       "1        33.6527           0.1661\n",
       "2         8.5238           0.0421\n",
       "3         0.5105           0.0025\n",
       "4        23.6761           0.1168\n",
       "5         1.0123           0.0050\n",
       "6        86.8895           0.4288\n",
       "7         0.8957           0.0044\n",
       "8         0.3196           0.0016"
      ]
     },
     "execution_count": 23,
     "metadata": {},
     "output_type": "execute_result"
    }
   ],
   "source": [
    "df_22.rename(columns = {'area':'area_2022', 'percentage':'percentage_2022'})"
   ]
  },
  {
   "cell_type": "code",
   "execution_count": 59,
   "id": "159e7edf-278e-42cd-87ef-e6aeea5074aa",
   "metadata": {},
   "outputs": [
    {
     "data": {
      "text/plain": [
       "{'group': ['0', '1', '2', '3', '4', '5', '6', '7', '8'],\n",
       " 'area_2016': [46.8949,\n",
       "  34.7733,\n",
       "  7.6023,\n",
       "  0.4759,\n",
       "  25.0691,\n",
       "  0.4557,\n",
       "  79.5067,\n",
       "  0.8937,\n",
       "  1.4074],\n",
       " 'area_2022': [47.1609,\n",
       "  33.6527,\n",
       "  8.5238,\n",
       "  0.5105,\n",
       "  23.6761,\n",
       "  1.0123,\n",
       "  86.8895,\n",
       "  0.8957,\n",
       "  0.3196],\n",
       " 'percentage_2016': [0.2379,\n",
       "  0.1764,\n",
       "  0.0386,\n",
       "  0.0024,\n",
       "  0.1272,\n",
       "  0.0023,\n",
       "  0.4034,\n",
       "  0.0045,\n",
       "  0.0071],\n",
       " 'percentage_2022': [0.2327,\n",
       "  0.1661,\n",
       "  0.0421,\n",
       "  0.0025,\n",
       "  0.1168,\n",
       "  0.005,\n",
       "  0.4288,\n",
       "  0.0044,\n",
       "  0.0016]}"
      ]
     },
     "execution_count": 59,
     "metadata": {},
     "output_type": "execute_result"
    }
   ],
   "source": [
    "df_dict = ({\n",
    "    'group':list(df_16.index),\n",
    "    'area_2016' : list(df_16['area']),\n",
    "    'area_2022':list(df_22['area']),\n",
    "    'percentage_2016':list(df_16['percentage']),\n",
    "    'percentage_2022':list(df_22['percentage'])\n",
    "    })\n",
    "\n",
    "df_dict"
   ]
  },
  {
   "cell_type": "code",
   "execution_count": 56,
   "id": "c38c0c23-305e-49e0-99fc-cb0b1302fd8d",
   "metadata": {},
   "outputs": [
    {
     "data": {
      "text/html": [
       "<div>\n",
       "<style scoped>\n",
       "    .dataframe tbody tr th:only-of-type {\n",
       "        vertical-align: middle;\n",
       "    }\n",
       "\n",
       "    .dataframe tbody tr th {\n",
       "        vertical-align: top;\n",
       "    }\n",
       "\n",
       "    .dataframe thead th {\n",
       "        text-align: right;\n",
       "    }\n",
       "</style>\n",
       "<table border=\"1\" class=\"dataframe\">\n",
       "  <thead>\n",
       "    <tr style=\"text-align: right;\">\n",
       "      <th></th>\n",
       "      <th>area_2016</th>\n",
       "      <th>area_2022</th>\n",
       "      <th>percentage_2016</th>\n",
       "      <th>percentage_2022</th>\n",
       "    </tr>\n",
       "  </thead>\n",
       "  <tbody>\n",
       "    <tr>\n",
       "      <th>0</th>\n",
       "      <td>46.8949</td>\n",
       "      <td>47.1609</td>\n",
       "      <td>0.2379</td>\n",
       "      <td>0.2327</td>\n",
       "    </tr>\n",
       "    <tr>\n",
       "      <th>1</th>\n",
       "      <td>34.7733</td>\n",
       "      <td>33.6527</td>\n",
       "      <td>0.1764</td>\n",
       "      <td>0.1661</td>\n",
       "    </tr>\n",
       "    <tr>\n",
       "      <th>2</th>\n",
       "      <td>7.6023</td>\n",
       "      <td>8.5238</td>\n",
       "      <td>0.0386</td>\n",
       "      <td>0.0421</td>\n",
       "    </tr>\n",
       "    <tr>\n",
       "      <th>3</th>\n",
       "      <td>0.4759</td>\n",
       "      <td>0.5105</td>\n",
       "      <td>0.0024</td>\n",
       "      <td>0.0025</td>\n",
       "    </tr>\n",
       "    <tr>\n",
       "      <th>4</th>\n",
       "      <td>25.0691</td>\n",
       "      <td>23.6761</td>\n",
       "      <td>0.1272</td>\n",
       "      <td>0.1168</td>\n",
       "    </tr>\n",
       "    <tr>\n",
       "      <th>5</th>\n",
       "      <td>0.4557</td>\n",
       "      <td>1.0123</td>\n",
       "      <td>0.0023</td>\n",
       "      <td>0.0050</td>\n",
       "    </tr>\n",
       "    <tr>\n",
       "      <th>6</th>\n",
       "      <td>79.5067</td>\n",
       "      <td>86.8895</td>\n",
       "      <td>0.4034</td>\n",
       "      <td>0.4288</td>\n",
       "    </tr>\n",
       "    <tr>\n",
       "      <th>7</th>\n",
       "      <td>0.8937</td>\n",
       "      <td>0.8957</td>\n",
       "      <td>0.0045</td>\n",
       "      <td>0.0044</td>\n",
       "    </tr>\n",
       "    <tr>\n",
       "      <th>8</th>\n",
       "      <td>1.4074</td>\n",
       "      <td>0.3196</td>\n",
       "      <td>0.0071</td>\n",
       "      <td>0.0016</td>\n",
       "    </tr>\n",
       "  </tbody>\n",
       "</table>\n",
       "</div>"
      ],
      "text/plain": [
       "   area_2016  area_2022  percentage_2016  percentage_2022\n",
       "0    46.8949    47.1609           0.2379           0.2327\n",
       "1    34.7733    33.6527           0.1764           0.1661\n",
       "2     7.6023     8.5238           0.0386           0.0421\n",
       "3     0.4759     0.5105           0.0024           0.0025\n",
       "4    25.0691    23.6761           0.1272           0.1168\n",
       "5     0.4557     1.0123           0.0023           0.0050\n",
       "6    79.5067    86.8895           0.4034           0.4288\n",
       "7     0.8937     0.8957           0.0045           0.0044\n",
       "8     1.4074     0.3196           0.0071           0.0016"
      ]
     },
     "execution_count": 56,
     "metadata": {},
     "output_type": "execute_result"
    }
   ],
   "source": [
    "new_df_dict =pd.DataFrame ({\n",
    "    'area_2016' : list(df_16['area']),\n",
    "    'area_2022':list(df_22['area']),\n",
    "    'percentage_2016':list(df_16['percentage']),\n",
    "    'percentage_2022':list(df_22['percentage'])\n",
    "    })\n",
    "\n",
    "new_df_dict"
   ]
  },
  {
   "cell_type": "code",
   "execution_count": 57,
   "id": "b3b7c386-7377-4188-b5a7-169d938ae13f",
   "metadata": {},
   "outputs": [
    {
     "data": {
      "text/plain": [
       "{'area_2016': {0: 46.8949,\n",
       "  1: 34.7733,\n",
       "  2: 7.6023,\n",
       "  3: 0.4759,\n",
       "  4: 25.0691,\n",
       "  5: 0.4557,\n",
       "  6: 79.5067,\n",
       "  7: 0.8937,\n",
       "  8: 1.4074},\n",
       " 'area_2022': {0: 47.1609,\n",
       "  1: 33.6527,\n",
       "  2: 8.5238,\n",
       "  3: 0.5105,\n",
       "  4: 23.6761,\n",
       "  5: 1.0123,\n",
       "  6: 86.8895,\n",
       "  7: 0.8957,\n",
       "  8: 0.3196},\n",
       " 'percentage_2016': {0: 0.2379,\n",
       "  1: 0.1764,\n",
       "  2: 0.0386,\n",
       "  3: 0.0024,\n",
       "  4: 0.1272,\n",
       "  5: 0.0023,\n",
       "  6: 0.4034,\n",
       "  7: 0.0045,\n",
       "  8: 0.0071},\n",
       " 'percentage_2022': {0: 0.2327,\n",
       "  1: 0.1661,\n",
       "  2: 0.0421,\n",
       "  3: 0.0025,\n",
       "  4: 0.1168,\n",
       "  5: 0.005,\n",
       "  6: 0.4288,\n",
       "  7: 0.0044,\n",
       "  8: 0.0016}}"
      ]
     },
     "execution_count": 57,
     "metadata": {},
     "output_type": "execute_result"
    }
   ],
   "source": [
    "new_dict = new_df_dict.to_dict()\n",
    "new_dict"
   ]
  },
  {
   "cell_type": "code",
   "execution_count": 34,
   "id": "0bc99b14-e41d-40e4-961b-0db544b58747",
   "metadata": {},
   "outputs": [
    {
     "data": {
      "text/html": [
       "<div>\n",
       "<style scoped>\n",
       "    .dataframe tbody tr th:only-of-type {\n",
       "        vertical-align: middle;\n",
       "    }\n",
       "\n",
       "    .dataframe tbody tr th {\n",
       "        vertical-align: top;\n",
       "    }\n",
       "\n",
       "    .dataframe thead th {\n",
       "        text-align: right;\n",
       "    }\n",
       "</style>\n",
       "<table border=\"1\" class=\"dataframe\">\n",
       "  <thead>\n",
       "    <tr style=\"text-align: right;\">\n",
       "      <th></th>\n",
       "      <th>area_x</th>\n",
       "      <th>percentage_x</th>\n",
       "      <th>area_y</th>\n",
       "      <th>percentage_y</th>\n",
       "    </tr>\n",
       "    <tr>\n",
       "      <th>group</th>\n",
       "      <th></th>\n",
       "      <th></th>\n",
       "      <th></th>\n",
       "      <th></th>\n",
       "    </tr>\n",
       "  </thead>\n",
       "  <tbody>\n",
       "    <tr>\n",
       "      <th>0</th>\n",
       "      <td>46.8949</td>\n",
       "      <td>0.2379</td>\n",
       "      <td>47.1609</td>\n",
       "      <td>0.2327</td>\n",
       "    </tr>\n",
       "    <tr>\n",
       "      <th>1</th>\n",
       "      <td>34.7733</td>\n",
       "      <td>0.1764</td>\n",
       "      <td>33.6527</td>\n",
       "      <td>0.1661</td>\n",
       "    </tr>\n",
       "    <tr>\n",
       "      <th>2</th>\n",
       "      <td>7.6023</td>\n",
       "      <td>0.0386</td>\n",
       "      <td>8.5238</td>\n",
       "      <td>0.0421</td>\n",
       "    </tr>\n",
       "    <tr>\n",
       "      <th>3</th>\n",
       "      <td>0.4759</td>\n",
       "      <td>0.0024</td>\n",
       "      <td>0.5105</td>\n",
       "      <td>0.0025</td>\n",
       "    </tr>\n",
       "    <tr>\n",
       "      <th>4</th>\n",
       "      <td>25.0691</td>\n",
       "      <td>0.1272</td>\n",
       "      <td>23.6761</td>\n",
       "      <td>0.1168</td>\n",
       "    </tr>\n",
       "    <tr>\n",
       "      <th>5</th>\n",
       "      <td>0.4557</td>\n",
       "      <td>0.0023</td>\n",
       "      <td>1.0123</td>\n",
       "      <td>0.0050</td>\n",
       "    </tr>\n",
       "    <tr>\n",
       "      <th>6</th>\n",
       "      <td>79.5067</td>\n",
       "      <td>0.4034</td>\n",
       "      <td>86.8895</td>\n",
       "      <td>0.4288</td>\n",
       "    </tr>\n",
       "    <tr>\n",
       "      <th>7</th>\n",
       "      <td>0.8937</td>\n",
       "      <td>0.0045</td>\n",
       "      <td>0.8957</td>\n",
       "      <td>0.0044</td>\n",
       "    </tr>\n",
       "    <tr>\n",
       "      <th>8</th>\n",
       "      <td>1.4074</td>\n",
       "      <td>0.0071</td>\n",
       "      <td>0.3196</td>\n",
       "      <td>0.0016</td>\n",
       "    </tr>\n",
       "  </tbody>\n",
       "</table>\n",
       "</div>"
      ],
      "text/plain": [
       "        area_x  percentage_x   area_y  percentage_y\n",
       "group                                              \n",
       "0      46.8949        0.2379  47.1609        0.2327\n",
       "1      34.7733        0.1764  33.6527        0.1661\n",
       "2       7.6023        0.0386   8.5238        0.0421\n",
       "3       0.4759        0.0024   0.5105        0.0025\n",
       "4      25.0691        0.1272  23.6761        0.1168\n",
       "5       0.4557        0.0023   1.0123        0.0050\n",
       "6      79.5067        0.4034  86.8895        0.4288\n",
       "7       0.8937        0.0045   0.8957        0.0044\n",
       "8       1.4074        0.0071   0.3196        0.0016"
      ]
     },
     "execution_count": 34,
     "metadata": {},
     "output_type": "execute_result"
    }
   ],
   "source": [
    "new_df = pd.merge(left = df_16, right = df_22, on = 'group' )\n",
    "new_df"
   ]
  },
  {
   "cell_type": "code",
   "execution_count": 8,
   "id": "345c0a50-7d53-4fe6-8e02-4ef0344883b4",
   "metadata": {},
   "outputs": [
    {
     "data": {
      "text/plain": [
       "{'0': {'area': 46.8949, 'percentage': 0.2379},\n",
       " '1': {'area': 34.7733, 'percentage': 0.1764},\n",
       " '2': {'area': 7.6023, 'percentage': 0.0386},\n",
       " '3': {'area': 0.4759, 'percentage': 0.0024},\n",
       " '4': {'area': 25.0691, 'percentage': 0.1272},\n",
       " '5': {'area': 0.4557, 'percentage': 0.0023},\n",
       " '6': {'area': 79.5067, 'percentage': 0.4034},\n",
       " '7': {'area': 0.8937, 'percentage': 0.0045},\n",
       " '8': {'area': 1.4074, 'percentage': 0.0071}}"
      ]
     },
     "execution_count": 8,
     "metadata": {},
     "output_type": "execute_result"
    }
   ],
   "source": [
    "## Convert the result to a dictionary \n",
    "import pandas as pd\n",
    "\n",
    "df= pd.DataFrame(df)\n",
    "df_dict = df.to_dict('index')\n",
    "df_dict"
   ]
  },
  {
   "cell_type": "code",
   "execution_count": null,
   "id": "1200e1a9-bd90-4744-87d9-e09775987826",
   "metadata": {},
   "outputs": [],
   "source": []
  },
  {
   "cell_type": "markdown",
   "id": "8ca37c03-42fb-4b15-a165-5f9dca360072",
   "metadata": {},
   "source": [
    "## Q3: Using Landsat 8 remote sensing images to compute the Normalized Difference Vegetation Index (NDVI) values in the study area and visualize it on a GEE map. Dataset: ee.Image('LANDSAT/LC08/C01/T1_TOA/LC08_044034_20140318')\n",
    "\n",
    "#https://developers.google.com/earth-engine/datasets/catalog/LANDSAT_LC08_C02_T1_TOA#bands"
   ]
  },
  {
   "cell_type": "code",
   "execution_count": 24,
   "id": "39c7d7ae-915b-4bc0-a79c-b4b921a2f724",
   "metadata": {},
   "outputs": [
    {
     "data": {
      "application/vnd.jupyter.widget-view+json": {
       "model_id": "29cb771c15844513b62cb1e9042b6830",
       "version_major": 2,
       "version_minor": 0
      },
      "text/plain": [
       "Map(center=[37.471602850590656, -122.14451407746262], controls=(WidgetControl(options=['position', 'transparen…"
      ]
     },
     "metadata": {},
     "output_type": "display_data"
    }
   ],
   "source": [
    "image = ee.Image('LANDSAT/LC08/C01/T1_TOA/LC08_044034_20140318')\n",
    "Map=geemap.Map()\n",
    "Map.centerObject(image, 9)\n",
    "Map.addLayer(image, {'bands': ['B6', 'B4', 'B3']}, 'Landsat 8')\n",
    "Map"
   ]
  },
  {
   "cell_type": "code",
   "execution_count": 25,
   "id": "243c98cf-9046-4141-938b-2e4f56b9050a",
   "metadata": {},
   "outputs": [],
   "source": [
    "#select bands\n",
    "NIR = image.select('B5')\n",
    "Red = image.select('B4')"
   ]
  },
  {
   "cell_type": "code",
   "execution_count": 26,
   "id": "b07847c8-e7bd-4220-9bc1-afdd77138c8d",
   "metadata": {},
   "outputs": [
    {
     "data": {
      "application/vnd.jupyter.widget-view+json": {
       "model_id": "29cb771c15844513b62cb1e9042b6830",
       "version_major": 2,
       "version_minor": 0
      },
      "text/plain": [
       "Map(bottom=51101.0, center=[37.471602850590656, -122.14451407746262], controls=(WidgetControl(options=['positi…"
      ]
     },
     "metadata": {},
     "output_type": "display_data"
    }
   ],
   "source": [
    "ndvi = NIR.subtract(Red).divide(NIR.add(Red))\n",
    "# ndvi1999 = landsat1999.normalizedDifference(['B4', 'B3'])\n",
    "\n",
    "palette = [\n",
    "    'FFFFFF', 'CE7E45', 'DF923D', 'F1B555', 'FCD163', '99B718', '74A901',\n",
    "    '66A000', '529400', '3E8601', '207401', '056201', '004C00', '023B01',\n",
    "    '012E01', '011D01', '011301']\n",
    "\n",
    "Map.addLayer(ndvi, {'palette': palette}, \"NDVI 1999\")\n",
    "Map"
   ]
  },
  {
   "cell_type": "markdown",
   "id": "88aaad83-196c-4d6b-ab56-b2a207cfdacd",
   "metadata": {},
   "source": [
    "## Q4: Set your own region of interest polygon and generate a landsat timelapse animation GIF file.\n",
    "https://geemap.org/geemap/#geemap.geemap.Map.add_landsat_ts_gif"
   ]
  },
  {
   "cell_type": "code",
   "execution_count": 30,
   "id": "dbdb6659-c5a4-4689-b697-184ff1349844",
   "metadata": {},
   "outputs": [
    {
     "data": {
      "application/vnd.jupyter.widget-view+json": {
       "model_id": "0cbf09f5cac44f4ebfb5cceab01eb50b",
       "version_major": 2,
       "version_minor": 0
      },
      "text/plain": [
       "Map(center=[20, 0], controls=(WidgetControl(options=['position', 'transparent_bg'], widget=Dropdown(layout=Lay…"
      ]
     },
     "metadata": {},
     "output_type": "display_data"
    }
   ],
   "source": [
    "Map = geemap.Map()\n",
    "Map.add_basemap('HYBRID')\n",
    "Map.centerObject(region)\n",
    "images = geemap.dynamic_world_timeseries(\n",
    "    region, start_date, end_date_2, frequency=\"quarter\", return_type=\"hillshade\"\n",
    ")\n",
    "Map.ts_inspector(images, date_format='YYYY-MM')\n",
    "Map.add_legend(title=\"Dynamic World Land Cover\", builtin_legend='Dynamic_World')\n",
    "Map"
   ]
  },
  {
   "cell_type": "code",
   "execution_count": 18,
   "id": "50fb6872-a4ec-469e-aa06-7f52acebd29c",
   "metadata": {},
   "outputs": [
    {
     "name": "stdout",
     "output_type": "stream",
     "text": [
      "Generating URL...\n",
      "Downloading GIF image from https://earthengine.googleapis.com/v1alpha/projects/earthengine-legacy/videoThumbnails/4b38811821acb97fa19cbd1c95bf238f-808c9b7d67b09ef1f10473e53bdb6d2e:getPixels\n",
      "Please wait ...\n",
      "The GIF image has been saved to: C:\\Users\\ramak\\Desktop\\Geog573_Lab\\Lab06\\output_files\\Aral_sea_ts.gif\n",
      "ffmpeg is not installed on your computer.\n",
      "Adding GIF to the map ...\n",
      "The timelapse has been added to the map.\n"
     ]
    }
   ],
   "source": [
    "import os\n",
    "#out_dir = os.path.join(os.path.expanduser(\"~\"), 'Downloads')\n",
    "#if not os.path.exists(out_dir):\n",
    " #   os.makedirs(out_dir)\n",
    "    \n",
    "work_dir = 'output_files'\n",
    "\n",
    "Map = geemap.Map()\n",
    "label = 'Land use/cover Changes at Aral_sea | Analyst: Ramakrishna_Raju'\n",
    "#label_1 = 'Analyst: Ramakrishna_Raju'\n",
    "#  set your own region\n",
    "region = ee.Geometry.Polygon([[\n",
    "        [59.0747, 45.2083],\n",
    "        [61.6349, 45.2083],\n",
    "        [61.6349, 46.6897],\n",
    "        [59.0747, 46.6897],\n",
    "        [59.0747, 45.2083]\n",
    "]])\n",
    "\n",
    "Map.add_landsat_ts_gif(\n",
    "    label=label,\n",
    "    font_size=14,\n",
    "    roi=region,\n",
    "    start_year=1985,\n",
    "    bands=['Red', 'Green', 'Blue'],\n",
    "    font_color='white',\n",
    "    frames_per_second=10,\n",
    "    progress_bar_color='blue',\n",
    "    out_gif=work_dir+'/Aral_sea_ts.gif',\n",
    ")\n",
    "\n",
    "#Map.save(work_dir+'/map.html')\n",
    "\n"
   ]
  },
  {
   "cell_type": "code",
   "execution_count": null,
   "id": "64bcaaa5-e8c2-4216-a890-c9664df62e2b",
   "metadata": {},
   "outputs": [],
   "source": []
  }
 ],
 "metadata": {
  "kernelspec": {
   "display_name": "Python 3 (ipykernel)",
   "language": "python",
   "name": "python3"
  },
  "language_info": {
   "codemirror_mode": {
    "name": "ipython",
    "version": 3
   },
   "file_extension": ".py",
   "mimetype": "text/x-python",
   "name": "python",
   "nbconvert_exporter": "python",
   "pygments_lexer": "ipython3",
   "version": "3.9.7"
  }
 },
 "nbformat": 4,
 "nbformat_minor": 5
}
