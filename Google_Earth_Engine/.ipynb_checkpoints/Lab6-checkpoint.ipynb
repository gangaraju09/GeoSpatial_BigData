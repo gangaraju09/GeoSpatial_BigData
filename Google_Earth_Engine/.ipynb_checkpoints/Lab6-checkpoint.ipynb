{
  "nbformat": 4,
  "nbformat_minor": 0,
  "metadata": {
    "colab": {
      "provenance": []
    },
    "kernelspec": {
      "name": "python3",
      "display_name": "Python 3"
    },
    "language_info": {
      "name": "python"
    }
  },
  "cells": [
    {
      "cell_type": "markdown",
      "source": [
        "# Geog 573 Advanced Geocomputing and Geospatial Big Data Analytics\n",
        "# Prof. Song Gao (song.gao@wisc.edu)\n",
        "# TA: Yuhao Kang (yuhao.kang@wisc.edu)\n",
        "# Lab6 - Google Earth Engine with geemap"
      ],
      "metadata": {
        "id": "6Fymd_untBo_"
      }
    },
    {
      "cell_type": "markdown",
      "source": [
        "https://geemap.org/\n"
      ],
      "metadata": {
        "id": "XEIK-7l0tNke"
      }
    },
    {
      "cell_type": "code",
      "source": [
        "## install the packages first\n",
        "#!pip install geemap\n",
        "#!pip install -U google-api-python-client==1.12.8"
      ],
      "metadata": {
        "id": "086jQv8ztDaa"
      },
      "execution_count": null,
      "outputs": []
    },
    {
      "cell_type": "code",
      "source": [
        "## authentication after you create a new GEE account (academic on Google Earth Engine)\n",
        "## https://earthengine.google.com/\n",
        "import ee\n",
        "ee.Authenticate()"
      ],
      "metadata": {
        "id": "CMX3VAtktkUS"
      },
      "execution_count": null,
      "outputs": []
    },
    {
      "cell_type": "code",
      "source": [
        "import geemap\n",
        "Map = geemap.Map()\n",
        "Map"
      ],
      "metadata": {
        "id": "_fzsmhoCtxXx"
      },
      "execution_count": null,
      "outputs": []
    },
    {
      "cell_type": "markdown",
      "source": [
        "Q1: Load the [Dane County ZCTA polygons ](https://canvas.wisc.edu/files/30427639/download?download_frd=1)as GEE feature collections and overlay on top of a GEE basemap"
      ],
      "metadata": {
        "id": "XKjdVA-Lt3E0"
      }
    },
    {
      "cell_type": "code",
      "source": [
        "## To convert a shapefile to GEE object and add it to the Map:\n",
        "ee_object = geemap.shp_to_ee(shp_file_path)\n",
        "Map.addLayer(ee_object, {}, 'Layer name')\n",
        "\n",
        "##To convert a GeoJSON file to GEE object and add it to the Map:\n",
        "ee_object = geemap.geojson_to_ee(geojson_file_path)\n",
        "Map.addLayer(ee_object, {}, 'Layer name')"
      ],
      "metadata": {
        "id": "1t-sJClZuIMX"
      },
      "execution_count": null,
      "outputs": []
    },
    {
      "cell_type": "markdown",
      "source": [
        "Q2: Generate two-period maps (e.g., yr 2016 vs. yr 2022) of the 10-m spatial resolution of land cover-land use in Dane county using the Dynamic World data on GEE; write code to compute the zonal statistics to get the proportion of each land cover in Dane County. Print the two time-period outputs using the dictionary {class: percentage} ."
      ],
      "metadata": {
        "id": "_oQ7DyosumnZ"
      }
    },
    {
      "cell_type": "code",
      "source": [
        "import ee\n",
        "import geemap\n",
        "\n",
        "Map = geemap.Map()\n",
        "Map.add_basemap('HYBRID')\n",
        "\n",
        "# Set the region of interest by simply drawing a polygon on the map\n",
        "region = Map.user_roi\n",
        "if region is None:\n",
        "    region = ## set a Polygon for the Dane County bounary: ee.Geometry.Polygon()\n",
        "Map.centerObject(region)\n",
        "Map"
      ],
      "metadata": {
        "id": "ZbN805n4uzHK"
      },
      "execution_count": null,
      "outputs": []
    },
    {
      "cell_type": "code",
      "source": [
        "# Set the date range to query the data\n",
        "start_date = '2016-01-01'\n",
        "end_date = '2016-12-31'\n",
        "\n",
        "# Create Dynamic World land cover composite\n",
        "# The \"return_type\" can be hillshade, visualize, class, or probability. \n",
        "# If you want to use the resulting images for further analysis, you should use class.\n",
        "\n",
        "landcover = geemap.dynamic_world(region, start_date, end_date, return_type='hillshade')\n",
        "Map.addLayer(landcover, {}, 'Land Cover')\n",
        "# Add legend to the map\n",
        "Map.add_legend(title=\"Dynamic World Land Cover\", builtin_legend='Dynamic_World')\n",
        "Map.centerObject(region)\n",
        "Map"
      ],
      "metadata": {
        "id": "_TCd6pvmu-e5"
      },
      "execution_count": null,
      "outputs": []
    },
    {
      "cell_type": "code",
      "source": [
        "## Return \"class\" images for further zonal summary analysis \n",
        "classes = geemap.dynamic_world(region, start_date, end_date, return_type='class')\n",
        "df = geemap.image_area_by_group(classes, region=region, scale=10, denominator=1e6)\n",
        "df"
      ],
      "metadata": {
        "id": "hloZVe5tvLUV"
      },
      "execution_count": null,
      "outputs": []
    },
    {
      "cell_type": "code",
      "source": [
        "## Convert the result to a dictionary \n",
        "#..."
      ],
      "metadata": {
        "id": "iSirXbILvOTQ"
      },
      "execution_count": null,
      "outputs": []
    },
    {
      "cell_type": "markdown",
      "source": [
        "Q3: Using Landsat 8 remote sensing images to compute the Normalized Difference Vegetation Index (NDVI) values in the study area and visualize it on a GEE map. Dataset: ee.Image('LANDSAT/LC08/C01/T1_TOA/LC08_044034_20140318')\n",
        "\n",
        "#https://developers.google.com/earth-engine/datasets/catalog/LANDSAT_LC08_C02_T1_TOA#bands\n"
      ],
      "metadata": {
        "id": "rebhKwTtvfZg"
      }
    },
    {
      "cell_type": "code",
      "source": [
        "# Load a Landsat 8 dataset https://developers.google.com/earth-engine/datasets/catalog/landsat\n",
        "\n",
        "image = ee.Image('LANDSAT/LC08/C01/T1_TOA/LC08_044034_20140318')\n",
        "Map=geemap.Map()\n",
        "Map.centerObject(image, 9)\n",
        "Map.addLayer(image, {'bands': ['B6', 'B4', 'B3']}, 'Landsat 8')\n",
        "Map"
      ],
      "metadata": {
        "id": "snrRehyGvlSP"
      },
      "execution_count": null,
      "outputs": []
    },
    {
      "cell_type": "code",
      "source": [
        "#select bands\n",
        "# More bands information: https://developers.google.com/earth-engine/datasets/catalog/LANDSAT_LC08_C02_T1_TOA#bands\n",
        "\n",
        "NIR = image.select('B5')\n",
        "Red = image.select('B4')"
      ],
      "metadata": {
        "id": "dDdzb3iw_9ZZ"
      },
      "execution_count": null,
      "outputs": []
    },
    {
      "cell_type": "markdown",
      "source": [
        "Q4: Set your own region of interest polygon and generate a landsat timelapse animation GIF file.\n",
        "https://geemap.org/geemap/#geemap.geemap.Map.add_landsat_ts_gif"
      ],
      "metadata": {
        "id": "aUnayKw1AKwA"
      }
    },
    {
      "cell_type": "code",
      "source": [
        "import os\n",
        "out_dir = os.path.join(os.path.expanduser(\"~\"), 'Downloads')\n",
        "if not os.path.exists(out_dir):\n",
        "    os.makedirs(out_dir)\n",
        "\n",
        "Map = geemap.Map()\n",
        "label = 'Land Cover/Use Changes in Madison, WI'\n",
        "#  set your own region\n",
        "# region=\n",
        "\n",
        "Map.add_landsat_ts_gif(\n",
        "    label=label,\n",
        "    roi=region,\n",
        "    start_year=1985,\n",
        "    bands=['Red', 'Green', 'Blue'],\n",
        "    font_color='white',\n",
        "    frames_per_second=10,\n",
        "    progress_bar_color='blue',\n",
        "    out_gif=work_dir+'/landsat_ts.gif',\n",
        ")"
      ],
      "metadata": {
        "id": "4cqKTt8BARzi"
      },
      "execution_count": null,
      "outputs": []
    }
  ]
}