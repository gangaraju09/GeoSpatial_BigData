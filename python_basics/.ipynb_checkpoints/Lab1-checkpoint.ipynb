{
 "cells": [
  {
   "cell_type": "markdown",
   "metadata": {},
   "source": [
    "# Geog 573 Advanced Geocomputing and Geospatial Big Data Analytics\n",
    "# Prof. Song Gao (song.gao@wisc.edu)\n",
    "# TA: Yuhao Kang (yuhao.kang@wisc.edu)\n",
    "# Lab1 - Overview & Scientific Computing Basic"
   ]
  },
  {
   "cell_type": "code",
   "execution_count": 1,
   "metadata": {},
   "outputs": [],
   "source": [
    "import numpy as np\n",
    "import pandas as pd"
   ]
  },
  {
   "cell_type": "markdown",
   "metadata": {},
   "source": [
    "1. Create a new cell\n",
    "2. Move cells\n",
    "3. Copy and paste cells\n",
    "4. Upload files\n",
    "5. Download files\n",
    "6. Tab"
   ]
  },
  {
   "cell_type": "markdown",
   "metadata": {},
   "source": [
    "# DataFrame"
   ]
  },
  {
   "cell_type": "code",
   "execution_count": 2,
   "metadata": {},
   "outputs": [
    {
     "name": "stdout",
     "output_type": "stream",
     "text": [
      "          0\n",
      "0  Geog 573\n",
      "1  Geog 574\n",
      "2  Geog 575\n",
      "3  Geog 579\n",
      "     course\n",
      "0  Geog 573\n",
      "1  Geog 574\n",
      "2  Geog 575\n",
      "3  Geog 579\n"
     ]
    }
   ],
   "source": [
    "# convert list to dataframe\n",
    "# list of strings\n",
    "lst = ['Geog 573', 'Geog 574', 'Geog 575', 'Geog 579']\n",
    "\n",
    "# Calling DataFrame constructor on list\n",
    "df1 = pd.DataFrame(lst)\n",
    "df2 = pd.DataFrame(lst, columns=[\"course\"])\n",
    "print(df1)\n",
    "print(df2)"
   ]
  },
  {
   "cell_type": "code",
   "execution_count": 3,
   "metadata": {},
   "outputs": [
    {
     "name": "stdout",
     "output_type": "stream",
     "text": [
      "     course  teacher  student\n",
      "0  Geog 573     Song       30\n",
      "1  Geog 574  Qunying       25\n",
      "2  Geog 575   Robert       35\n",
      "3  Geog 579   A-Xing       28\n"
     ]
    }
   ],
   "source": [
    "# convert dictionary to dataframe\n",
    "# list of strings\n",
    "data = {'course': ['Geog 573', 'Geog 574', 'Geog 575', 'Geog 579'],\n",
    "      'teacher': ['Song', 'Qunying', 'Robert', 'A-Xing'],\n",
    "       'student': [30, 25, 35, 28]}\n",
    "\n",
    "# Calling DataFrame constructor on list\n",
    "df = pd.DataFrame(data)\n",
    "print(df.head())"
   ]
  },
  {
   "cell_type": "code",
   "execution_count": 4,
   "metadata": {},
   "outputs": [
    {
     "name": "stdout",
     "output_type": "stream",
     "text": [
      "0    Geog 573\n",
      "1    Geog 574\n",
      "2    Geog 575\n",
      "3    Geog 579\n",
      "Name: course, dtype: object\n",
      "0    Geog 573\n",
      "1    Geog 574\n",
      "2    Geog 575\n",
      "3    Geog 579\n",
      "Name: course, dtype: object\n"
     ]
    }
   ],
   "source": [
    "# print column\n",
    "print(df.course)\n",
    "print(df[\"course\"])"
   ]
  },
  {
   "cell_type": "code",
   "execution_count": 9,
   "metadata": {},
   "outputs": [
    {
     "name": "stdout",
     "output_type": "stream",
     "text": [
      "     course  teacher  student department\n",
      "0  Geog 573     Song       30  Geography\n",
      "1  Geog 574  Qunying       25  Geography\n",
      "2  Geog 575   Robert       35  Geography\n",
      "3  Geog 579   A-Xing       28  Geography\n"
     ]
    }
   ],
   "source": [
    "# create/modify a new column\n",
    "df[\"department\"] = \"Geography\"\n",
    "print(df)"
   ]
  },
  {
   "cell_type": "code",
   "execution_count": 10,
   "metadata": {},
   "outputs": [
    {
     "data": {
      "text/html": [
       "<div>\n",
       "<style scoped>\n",
       "    .dataframe tbody tr th:only-of-type {\n",
       "        vertical-align: middle;\n",
       "    }\n",
       "\n",
       "    .dataframe tbody tr th {\n",
       "        vertical-align: top;\n",
       "    }\n",
       "\n",
       "    .dataframe thead th {\n",
       "        text-align: right;\n",
       "    }\n",
       "</style>\n",
       "<table border=\"1\" class=\"dataframe\">\n",
       "  <thead>\n",
       "    <tr style=\"text-align: right;\">\n",
       "      <th></th>\n",
       "      <th>course</th>\n",
       "      <th>teacher</th>\n",
       "      <th>student</th>\n",
       "      <th>department</th>\n",
       "    </tr>\n",
       "  </thead>\n",
       "  <tbody>\n",
       "    <tr>\n",
       "      <th>0</th>\n",
       "      <td>Geog 573</td>\n",
       "      <td>Song</td>\n",
       "      <td>30</td>\n",
       "      <td>Geography</td>\n",
       "    </tr>\n",
       "    <tr>\n",
       "      <th>1</th>\n",
       "      <td>Geog 574</td>\n",
       "      <td>Qunying</td>\n",
       "      <td>25</td>\n",
       "      <td>Geography</td>\n",
       "    </tr>\n",
       "    <tr>\n",
       "      <th>2</th>\n",
       "      <td>Geog 575</td>\n",
       "      <td>Robert</td>\n",
       "      <td>35</td>\n",
       "      <td>Geography</td>\n",
       "    </tr>\n",
       "    <tr>\n",
       "      <th>3</th>\n",
       "      <td>Geog 579</td>\n",
       "      <td>A-Xing</td>\n",
       "      <td>28</td>\n",
       "      <td>Geography</td>\n",
       "    </tr>\n",
       "  </tbody>\n",
       "</table>\n",
       "</div>"
      ],
      "text/plain": [
       "     course  teacher  student department\n",
       "0  Geog 573     Song       30  Geography\n",
       "1  Geog 574  Qunying       25  Geography\n",
       "2  Geog 575   Robert       35  Geography\n",
       "3  Geog 579   A-Xing       28  Geography"
      ]
     },
     "execution_count": 10,
     "metadata": {},
     "output_type": "execute_result"
    }
   ],
   "source": [
    "df"
   ]
  },
  {
   "cell_type": "code",
   "execution_count": 11,
   "metadata": {},
   "outputs": [
    {
     "name": "stdout",
     "output_type": "stream",
     "text": [
      "Robert\n",
      "   teacher department\n",
      "1  Qunying  Geography\n",
      "2   Robert  Geography\n",
      "3   A-Xing  Geography\n"
     ]
    }
   ],
   "source": [
    "# get values at specific locations: df.loc[column, column]\n",
    "print(df.loc[2, \"teacher\"])\n",
    "print(df.loc[1:3, [\"teacher\",\"department\"]])"
   ]
  },
  {
   "cell_type": "code",
   "execution_count": 7,
   "metadata": {},
   "outputs": [
    {
     "name": "stdout",
     "output_type": "stream",
     "text": [
      "Robert\n",
      "   teacher  student\n",
      "1  Qunying       25\n",
      "2   Robert       35\n",
      "3   A-Xing       28\n"
     ]
    }
   ],
   "source": [
    "# get values at specific locations with index: df.iloc[index, column index]\n",
    "print(df.iloc[2, 1])\n",
    "print(df.iloc[1:, 1:3])"
   ]
  },
  {
   "cell_type": "code",
   "execution_count": 12,
   "metadata": {},
   "outputs": [
    {
     "name": "stdout",
     "output_type": "stream",
     "text": [
      "     course teacher_x  student_x department_x teacher_y  student_y  \\\n",
      "0  Geog 573      Song         30    Geography      Song         30   \n",
      "1  Geog 574   Qunying         25    Geography   Qunying         25   \n",
      "2  Geog 575    Robert         35    Geography    Robert         35   \n",
      "3  Geog 579    A-Xing         28    Geography    A-Xing         28   \n",
      "\n",
      "  department_y  \n",
      "0    Geography  \n",
      "1    Geography  \n",
      "2    Geography  \n",
      "3    Geography  \n"
     ]
    }
   ],
   "source": [
    "# merge dataframe\n",
    "df_merge = pd.merge(left=df, left_on=\"course\", right=df, right_on=\"course\")\n",
    "print(df_merge)"
   ]
  },
  {
   "cell_type": "code",
   "execution_count": 14,
   "metadata": {},
   "outputs": [
    {
     "data": {
      "text/html": [
       "<div>\n",
       "<style scoped>\n",
       "    .dataframe tbody tr th:only-of-type {\n",
       "        vertical-align: middle;\n",
       "    }\n",
       "\n",
       "    .dataframe tbody tr th {\n",
       "        vertical-align: top;\n",
       "    }\n",
       "\n",
       "    .dataframe thead th {\n",
       "        text-align: right;\n",
       "    }\n",
       "</style>\n",
       "<table border=\"1\" class=\"dataframe\">\n",
       "  <thead>\n",
       "    <tr style=\"text-align: right;\">\n",
       "      <th></th>\n",
       "      <th>course</th>\n",
       "      <th>teacher</th>\n",
       "      <th>student</th>\n",
       "      <th>department</th>\n",
       "    </tr>\n",
       "  </thead>\n",
       "  <tbody>\n",
       "    <tr>\n",
       "      <th>3</th>\n",
       "      <td>Geog 579</td>\n",
       "      <td>A-Xing</td>\n",
       "      <td>28</td>\n",
       "      <td>Geography</td>\n",
       "    </tr>\n",
       "    <tr>\n",
       "      <th>2</th>\n",
       "      <td>Geog 575</td>\n",
       "      <td>Robert</td>\n",
       "      <td>35</td>\n",
       "      <td>Geography</td>\n",
       "    </tr>\n",
       "    <tr>\n",
       "      <th>1</th>\n",
       "      <td>Geog 574</td>\n",
       "      <td>Qunying</td>\n",
       "      <td>25</td>\n",
       "      <td>Geography</td>\n",
       "    </tr>\n",
       "    <tr>\n",
       "      <th>0</th>\n",
       "      <td>Geog 573</td>\n",
       "      <td>Song</td>\n",
       "      <td>30</td>\n",
       "      <td>Geography</td>\n",
       "    </tr>\n",
       "  </tbody>\n",
       "</table>\n",
       "</div>"
      ],
      "text/plain": [
       "     course  teacher  student department\n",
       "3  Geog 579   A-Xing       28  Geography\n",
       "2  Geog 575   Robert       35  Geography\n",
       "1  Geog 574  Qunying       25  Geography\n",
       "0  Geog 573     Song       30  Geography"
      ]
     },
     "execution_count": 14,
     "metadata": {},
     "output_type": "execute_result"
    }
   ],
   "source": [
    "# sort values\n",
    "df.sort_values(by='course', ascending=False)"
   ]
  },
  {
   "cell_type": "code",
   "execution_count": 10,
   "metadata": {},
   "outputs": [
    {
     "name": "stdout",
     "output_type": "stream",
     "text": [
      "25\n",
      "35\n"
     ]
    }
   ],
   "source": [
    "# get statistics\n",
    "print(df[\"student\"].min())\n",
    "print(df[\"student\"].max())"
   ]
  },
  {
   "cell_type": "code",
   "execution_count": 11,
   "metadata": {},
   "outputs": [
    {
     "data": {
      "text/html": [
       "<div>\n",
       "<style scoped>\n",
       "    .dataframe tbody tr th:only-of-type {\n",
       "        vertical-align: middle;\n",
       "    }\n",
       "\n",
       "    .dataframe tbody tr th {\n",
       "        vertical-align: top;\n",
       "    }\n",
       "\n",
       "    .dataframe thead th {\n",
       "        text-align: right;\n",
       "    }\n",
       "</style>\n",
       "<table border=\"1\" class=\"dataframe\">\n",
       "  <thead>\n",
       "    <tr style=\"text-align: right;\">\n",
       "      <th></th>\n",
       "      <th>student</th>\n",
       "    </tr>\n",
       "  </thead>\n",
       "  <tbody>\n",
       "    <tr>\n",
       "      <th>count</th>\n",
       "      <td>4.000000</td>\n",
       "    </tr>\n",
       "    <tr>\n",
       "      <th>mean</th>\n",
       "      <td>29.500000</td>\n",
       "    </tr>\n",
       "    <tr>\n",
       "      <th>std</th>\n",
       "      <td>4.203173</td>\n",
       "    </tr>\n",
       "    <tr>\n",
       "      <th>min</th>\n",
       "      <td>25.000000</td>\n",
       "    </tr>\n",
       "    <tr>\n",
       "      <th>25%</th>\n",
       "      <td>27.250000</td>\n",
       "    </tr>\n",
       "    <tr>\n",
       "      <th>50%</th>\n",
       "      <td>29.000000</td>\n",
       "    </tr>\n",
       "    <tr>\n",
       "      <th>75%</th>\n",
       "      <td>31.250000</td>\n",
       "    </tr>\n",
       "    <tr>\n",
       "      <th>max</th>\n",
       "      <td>35.000000</td>\n",
       "    </tr>\n",
       "  </tbody>\n",
       "</table>\n",
       "</div>"
      ],
      "text/plain": [
       "         student\n",
       "count   4.000000\n",
       "mean   29.500000\n",
       "std     4.203173\n",
       "min    25.000000\n",
       "25%    27.250000\n",
       "50%    29.000000\n",
       "75%    31.250000\n",
       "max    35.000000"
      ]
     },
     "execution_count": 11,
     "metadata": {},
     "output_type": "execute_result"
    }
   ],
   "source": [
    "# show statistics of the dataframe\n",
    "df.describe()"
   ]
  },
  {
   "cell_type": "markdown",
   "metadata": {},
   "source": [
    "# Tasks\n",
    "1. Download and install Anaconda. Try to install third-party packages such as geopandas.\n",
    "2. Practice all pandas dataframe-related functions to learn how to process data using pandas.\n",
    "3. Register a free Flickr, Google geocoding, and Twitter developer account before the Lab 3."
   ]
  },
  {
   "cell_type": "code",
   "execution_count": null,
   "metadata": {},
   "outputs": [],
   "source": []
  }
 ],
 "metadata": {
  "kernelspec": {
   "display_name": "Python 3 (ipykernel)",
   "language": "python",
   "name": "python3"
  },
  "language_info": {
   "codemirror_mode": {
    "name": "ipython",
    "version": 3
   },
   "file_extension": ".py",
   "mimetype": "text/x-python",
   "name": "python",
   "nbconvert_exporter": "python",
   "pygments_lexer": "ipython3",
   "version": "3.9.13"
  }
 },
 "nbformat": 4,
 "nbformat_minor": 4
}
