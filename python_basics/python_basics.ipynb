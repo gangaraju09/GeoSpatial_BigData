{
 "cells": [
  {
   "cell_type": "markdown",
   "id": "ae77832b-bc09-4d23-926c-c0310121ed29",
   "metadata": {},
   "source": [
    "# StudentName: Ramakrishna Raju Gangaraju, (gangaraju2@wisc.edu)\n",
    "## Subject: 573_ Lab01"
   ]
  },
  {
   "cell_type": "code",
   "execution_count": 93,
   "id": "31266144-e993-45d4-951a-f76c735be816",
   "metadata": {},
   "outputs": [],
   "source": [
    "import numpy as np\n",
    "import pandas as pd"
   ]
  },
  {
   "cell_type": "markdown",
   "id": "930df35d-a60f-4058-89ec-3d9378d87983",
   "metadata": {},
   "source": [
    "### Creating List with strings"
   ]
  },
  {
   "cell_type": "code",
   "execution_count": 2,
   "id": "6c5c4d59-2773-48b6-95b3-0c4c16a04025",
   "metadata": {},
   "outputs": [],
   "source": [
    "list1 = ['geog572', 'geog573','geog574','geog575','geog579','geog560']"
   ]
  },
  {
   "cell_type": "code",
   "execution_count": 30,
   "id": "f3d9cbb7-f690-41df-b6d0-720791a156d5",
   "metadata": {},
   "outputs": [
    {
     "data": {
      "text/html": [
       "<div>\n",
       "<style scoped>\n",
       "    .dataframe tbody tr th:only-of-type {\n",
       "        vertical-align: middle;\n",
       "    }\n",
       "\n",
       "    .dataframe tbody tr th {\n",
       "        vertical-align: top;\n",
       "    }\n",
       "\n",
       "    .dataframe thead th {\n",
       "        text-align: right;\n",
       "    }\n",
       "</style>\n",
       "<table border=\"1\" class=\"dataframe\">\n",
       "  <thead>\n",
       "    <tr style=\"text-align: right;\">\n",
       "      <th></th>\n",
       "      <th>Course Name</th>\n",
       "      <th>Faculty Name</th>\n",
       "    </tr>\n",
       "  </thead>\n",
       "  <tbody>\n",
       "    <tr>\n",
       "      <th>0</th>\n",
       "      <td>geog572</td>\n",
       "      <td>Rob</td>\n",
       "    </tr>\n",
       "    <tr>\n",
       "      <th>1</th>\n",
       "      <td>geog573</td>\n",
       "      <td>Song Gao</td>\n",
       "    </tr>\n",
       "    <tr>\n",
       "      <th>2</th>\n",
       "      <td>geog574</td>\n",
       "      <td>Qin</td>\n",
       "    </tr>\n",
       "    <tr>\n",
       "      <th>3</th>\n",
       "      <td>geog575</td>\n",
       "      <td>Rob</td>\n",
       "    </tr>\n",
       "    <tr>\n",
       "      <th>4</th>\n",
       "      <td>geog579</td>\n",
       "      <td>A-xing</td>\n",
       "    </tr>\n",
       "  </tbody>\n",
       "</table>\n",
       "</div>"
      ],
      "text/plain": [
       "  Course Name Faculty Name\n",
       "0     geog572          Rob\n",
       "1     geog573     Song Gao\n",
       "2     geog574          Qin\n",
       "3     geog575          Rob\n",
       "4     geog579       A-xing"
      ]
     },
     "execution_count": 30,
     "metadata": {},
     "output_type": "execute_result"
    }
   ],
   "source": [
    "df1 = pd.DataFrame({\"Course Name\": list1})\n",
    "df1['Faculty Name'] = ['Rob','Song Gao','Qin','Rob','A-xing','Song Gao']\n",
    "df1.head()"
   ]
  },
  {
   "cell_type": "code",
   "execution_count": 61,
   "id": "e6d1743b-697e-448d-8115-9b0753932e5f",
   "metadata": {},
   "outputs": [
    {
     "data": {
      "text/html": [
       "<div>\n",
       "<style scoped>\n",
       "    .dataframe tbody tr th:only-of-type {\n",
       "        vertical-align: middle;\n",
       "    }\n",
       "\n",
       "    .dataframe tbody tr th {\n",
       "        vertical-align: top;\n",
       "    }\n",
       "\n",
       "    .dataframe thead th {\n",
       "        text-align: right;\n",
       "    }\n",
       "</style>\n",
       "<table border=\"1\" class=\"dataframe\">\n",
       "  <thead>\n",
       "    <tr style=\"text-align: right;\">\n",
       "      <th></th>\n",
       "      <th>Hello</th>\n",
       "      <th>Faculty Name</th>\n",
       "    </tr>\n",
       "  </thead>\n",
       "  <tbody>\n",
       "    <tr>\n",
       "      <th>0</th>\n",
       "      <td>geog572</td>\n",
       "      <td>Rob</td>\n",
       "    </tr>\n",
       "    <tr>\n",
       "      <th>1</th>\n",
       "      <td>geog573</td>\n",
       "      <td>Song Gao</td>\n",
       "    </tr>\n",
       "    <tr>\n",
       "      <th>2</th>\n",
       "      <td>geog574</td>\n",
       "      <td>Qin</td>\n",
       "    </tr>\n",
       "    <tr>\n",
       "      <th>3</th>\n",
       "      <td>geog575</td>\n",
       "      <td>Rob</td>\n",
       "    </tr>\n",
       "    <tr>\n",
       "      <th>4</th>\n",
       "      <td>geog579</td>\n",
       "      <td>A-xing</td>\n",
       "    </tr>\n",
       "  </tbody>\n",
       "</table>\n",
       "</div>"
      ],
      "text/plain": [
       "     Hello Faculty Name\n",
       "0  geog572          Rob\n",
       "1  geog573     Song Gao\n",
       "2  geog574          Qin\n",
       "3  geog575          Rob\n",
       "4  geog579       A-xing"
      ]
     },
     "execution_count": 61,
     "metadata": {},
     "output_type": "execute_result"
    }
   ],
   "source": [
    "df2 = df1.rename(columns={\"Course Name\": \"Hello\"}, )\n",
    "df2.head()"
   ]
  },
  {
   "cell_type": "code",
   "execution_count": 32,
   "id": "bdc9b114-6b0f-4bff-9156-7bc45e3d17df",
   "metadata": {},
   "outputs": [
    {
     "data": {
      "text/html": [
       "<div>\n",
       "<style scoped>\n",
       "    .dataframe tbody tr th:only-of-type {\n",
       "        vertical-align: middle;\n",
       "    }\n",
       "\n",
       "    .dataframe tbody tr th {\n",
       "        vertical-align: top;\n",
       "    }\n",
       "\n",
       "    .dataframe thead th {\n",
       "        text-align: right;\n",
       "    }\n",
       "</style>\n",
       "<table border=\"1\" class=\"dataframe\">\n",
       "  <thead>\n",
       "    <tr style=\"text-align: right;\">\n",
       "      <th></th>\n",
       "      <th>Course Name</th>\n",
       "      <th>Faculty Name</th>\n",
       "    </tr>\n",
       "  </thead>\n",
       "  <tbody>\n",
       "    <tr>\n",
       "      <th>0</th>\n",
       "      <td>geog572</td>\n",
       "      <td>Rob</td>\n",
       "    </tr>\n",
       "    <tr>\n",
       "      <th>1</th>\n",
       "      <td>geog573</td>\n",
       "      <td>Song Gao</td>\n",
       "    </tr>\n",
       "    <tr>\n",
       "      <th>2</th>\n",
       "      <td>geog574</td>\n",
       "      <td>Qin</td>\n",
       "    </tr>\n",
       "    <tr>\n",
       "      <th>3</th>\n",
       "      <td>geog575</td>\n",
       "      <td>Rob</td>\n",
       "    </tr>\n",
       "    <tr>\n",
       "      <th>4</th>\n",
       "      <td>geog579</td>\n",
       "      <td>A-xing</td>\n",
       "    </tr>\n",
       "  </tbody>\n",
       "</table>\n",
       "</div>"
      ],
      "text/plain": [
       "  Course Name Faculty Name\n",
       "0     geog572          Rob\n",
       "1     geog573     Song Gao\n",
       "2     geog574          Qin\n",
       "3     geog575          Rob\n",
       "4     geog579       A-xing"
      ]
     },
     "execution_count": 32,
     "metadata": {},
     "output_type": "execute_result"
    }
   ],
   "source": [
    "df1.head()"
   ]
  },
  {
   "cell_type": "code",
   "execution_count": 82,
   "id": "f95a48d7-b71e-488c-b3fd-cd374e9ea46b",
   "metadata": {},
   "outputs": [],
   "source": [
    "data1 = {'course':['geog572', 'geog573','geog574','geog575','geog579','geog560'],\n",
    "        'prof': ['Rob','Song Gao','Qin','Rob','A-xing','Song Gao'],\n",
    "        'students':[30,40,25,35,45,20]}"
   ]
  },
  {
   "cell_type": "code",
   "execution_count": 83,
   "id": "a137002c-4784-4b07-846a-39149bc37c80",
   "metadata": {},
   "outputs": [],
   "source": [
    "data1= pd.DataFrame(data1)"
   ]
  },
  {
   "cell_type": "code",
   "execution_count": 84,
   "id": "560f5ee8-9e4f-4f65-b19e-cdf0e8af293d",
   "metadata": {},
   "outputs": [
    {
     "data": {
      "text/html": [
       "<div>\n",
       "<style scoped>\n",
       "    .dataframe tbody tr th:only-of-type {\n",
       "        vertical-align: middle;\n",
       "    }\n",
       "\n",
       "    .dataframe tbody tr th {\n",
       "        vertical-align: top;\n",
       "    }\n",
       "\n",
       "    .dataframe thead th {\n",
       "        text-align: right;\n",
       "    }\n",
       "</style>\n",
       "<table border=\"1\" class=\"dataframe\">\n",
       "  <thead>\n",
       "    <tr style=\"text-align: right;\">\n",
       "      <th></th>\n",
       "      <th>course</th>\n",
       "      <th>prof</th>\n",
       "      <th>students</th>\n",
       "    </tr>\n",
       "  </thead>\n",
       "  <tbody>\n",
       "    <tr>\n",
       "      <th>0</th>\n",
       "      <td>geog572</td>\n",
       "      <td>Rob</td>\n",
       "      <td>30</td>\n",
       "    </tr>\n",
       "    <tr>\n",
       "      <th>1</th>\n",
       "      <td>geog573</td>\n",
       "      <td>Song Gao</td>\n",
       "      <td>40</td>\n",
       "    </tr>\n",
       "    <tr>\n",
       "      <th>2</th>\n",
       "      <td>geog574</td>\n",
       "      <td>Qin</td>\n",
       "      <td>25</td>\n",
       "    </tr>\n",
       "    <tr>\n",
       "      <th>3</th>\n",
       "      <td>geog575</td>\n",
       "      <td>Rob</td>\n",
       "      <td>35</td>\n",
       "    </tr>\n",
       "    <tr>\n",
       "      <th>4</th>\n",
       "      <td>geog579</td>\n",
       "      <td>A-xing</td>\n",
       "      <td>45</td>\n",
       "    </tr>\n",
       "  </tbody>\n",
       "</table>\n",
       "</div>"
      ],
      "text/plain": [
       "    course      prof  students\n",
       "0  geog572       Rob        30\n",
       "1  geog573  Song Gao        40\n",
       "2  geog574       Qin        25\n",
       "3  geog575       Rob        35\n",
       "4  geog579    A-xing        45"
      ]
     },
     "execution_count": 84,
     "metadata": {},
     "output_type": "execute_result"
    }
   ],
   "source": [
    "data1.head()"
   ]
  },
  {
   "cell_type": "code",
   "execution_count": 85,
   "id": "2c307173-d701-4d5f-a348-1d9df5533d0a",
   "metadata": {},
   "outputs": [
    {
     "data": {
      "text/html": [
       "<div>\n",
       "<style scoped>\n",
       "    .dataframe tbody tr th:only-of-type {\n",
       "        vertical-align: middle;\n",
       "    }\n",
       "\n",
       "    .dataframe tbody tr th {\n",
       "        vertical-align: top;\n",
       "    }\n",
       "\n",
       "    .dataframe thead th {\n",
       "        text-align: right;\n",
       "    }\n",
       "</style>\n",
       "<table border=\"1\" class=\"dataframe\">\n",
       "  <thead>\n",
       "    <tr style=\"text-align: right;\">\n",
       "      <th></th>\n",
       "      <th>course</th>\n",
       "      <th>prof</th>\n",
       "      <th>students</th>\n",
       "      <th>department</th>\n",
       "    </tr>\n",
       "  </thead>\n",
       "  <tbody>\n",
       "    <tr>\n",
       "      <th>0</th>\n",
       "      <td>geog572</td>\n",
       "      <td>Rob</td>\n",
       "      <td>30</td>\n",
       "      <td>geography</td>\n",
       "    </tr>\n",
       "    <tr>\n",
       "      <th>1</th>\n",
       "      <td>geog573</td>\n",
       "      <td>Song Gao</td>\n",
       "      <td>40</td>\n",
       "      <td>geography</td>\n",
       "    </tr>\n",
       "    <tr>\n",
       "      <th>2</th>\n",
       "      <td>geog574</td>\n",
       "      <td>Qin</td>\n",
       "      <td>25</td>\n",
       "      <td>geography</td>\n",
       "    </tr>\n",
       "    <tr>\n",
       "      <th>3</th>\n",
       "      <td>geog575</td>\n",
       "      <td>Rob</td>\n",
       "      <td>35</td>\n",
       "      <td>geography</td>\n",
       "    </tr>\n",
       "    <tr>\n",
       "      <th>4</th>\n",
       "      <td>geog579</td>\n",
       "      <td>A-xing</td>\n",
       "      <td>45</td>\n",
       "      <td>geography</td>\n",
       "    </tr>\n",
       "  </tbody>\n",
       "</table>\n",
       "</div>"
      ],
      "text/plain": [
       "    course      prof  students department\n",
       "0  geog572       Rob        30  geography\n",
       "1  geog573  Song Gao        40  geography\n",
       "2  geog574       Qin        25  geography\n",
       "3  geog575       Rob        35  geography\n",
       "4  geog579    A-xing        45  geography"
      ]
     },
     "execution_count": 85,
     "metadata": {},
     "output_type": "execute_result"
    }
   ],
   "source": [
    "data1['department']='geography'\n",
    "data1.head()"
   ]
  },
  {
   "cell_type": "code",
   "execution_count": 86,
   "id": "bdc2c019-1ac5-4bfa-9bc4-dc5975e3d33f",
   "metadata": {},
   "outputs": [
    {
     "name": "stdout",
     "output_type": "stream",
     "text": [
      "Song Gao\n",
      "       prof  students\n",
      "1  Song Gao        40\n",
      "2       Qin        25\n"
     ]
    }
   ],
   "source": [
    "#to get values at specific location with index name\n",
    "\n",
    "print(data1.loc[1,'prof'])\n",
    "print(data1.loc[1:2, ['prof','students']])"
   ]
  },
  {
   "cell_type": "code",
   "execution_count": 87,
   "id": "1a1c17ac-dddf-4251-ad49-79f307492317",
   "metadata": {},
   "outputs": [
    {
     "name": "stdout",
     "output_type": "stream",
     "text": [
      "Qin\n",
      "       prof  students\n",
      "1  Song Gao        40\n",
      "2       Qin        25\n",
      "3       Rob        35\n"
     ]
    }
   ],
   "source": [
    "# get values at specific locations with index number\n",
    "print(data1.iloc[2, 1])\n",
    "print(data1.iloc[1:4, 1:3])"
   ]
  },
  {
   "cell_type": "code",
   "execution_count": 88,
   "id": "d536d316-ad47-4dba-9562-d6ac92723b68",
   "metadata": {},
   "outputs": [
    {
     "data": {
      "text/html": [
       "<div>\n",
       "<style scoped>\n",
       "    .dataframe tbody tr th:only-of-type {\n",
       "        vertical-align: middle;\n",
       "    }\n",
       "\n",
       "    .dataframe tbody tr th {\n",
       "        vertical-align: top;\n",
       "    }\n",
       "\n",
       "    .dataframe thead th {\n",
       "        text-align: right;\n",
       "    }\n",
       "</style>\n",
       "<table border=\"1\" class=\"dataframe\">\n",
       "  <thead>\n",
       "    <tr style=\"text-align: right;\">\n",
       "      <th></th>\n",
       "      <th>course</th>\n",
       "      <th>prof_x</th>\n",
       "      <th>students_x</th>\n",
       "      <th>department_x</th>\n",
       "      <th>prof_y</th>\n",
       "      <th>students_y</th>\n",
       "      <th>department_y</th>\n",
       "    </tr>\n",
       "  </thead>\n",
       "  <tbody>\n",
       "    <tr>\n",
       "      <th>0</th>\n",
       "      <td>geog572</td>\n",
       "      <td>Rob</td>\n",
       "      <td>30</td>\n",
       "      <td>geography</td>\n",
       "      <td>Rob</td>\n",
       "      <td>30</td>\n",
       "      <td>geography</td>\n",
       "    </tr>\n",
       "    <tr>\n",
       "      <th>1</th>\n",
       "      <td>geog573</td>\n",
       "      <td>Song Gao</td>\n",
       "      <td>40</td>\n",
       "      <td>geography</td>\n",
       "      <td>Song Gao</td>\n",
       "      <td>40</td>\n",
       "      <td>geography</td>\n",
       "    </tr>\n",
       "    <tr>\n",
       "      <th>2</th>\n",
       "      <td>geog574</td>\n",
       "      <td>Qin</td>\n",
       "      <td>25</td>\n",
       "      <td>geography</td>\n",
       "      <td>Qin</td>\n",
       "      <td>25</td>\n",
       "      <td>geography</td>\n",
       "    </tr>\n",
       "    <tr>\n",
       "      <th>3</th>\n",
       "      <td>geog575</td>\n",
       "      <td>Rob</td>\n",
       "      <td>35</td>\n",
       "      <td>geography</td>\n",
       "      <td>Rob</td>\n",
       "      <td>35</td>\n",
       "      <td>geography</td>\n",
       "    </tr>\n",
       "    <tr>\n",
       "      <th>4</th>\n",
       "      <td>geog579</td>\n",
       "      <td>A-xing</td>\n",
       "      <td>45</td>\n",
       "      <td>geography</td>\n",
       "      <td>A-xing</td>\n",
       "      <td>45</td>\n",
       "      <td>geography</td>\n",
       "    </tr>\n",
       "    <tr>\n",
       "      <th>5</th>\n",
       "      <td>geog560</td>\n",
       "      <td>Song Gao</td>\n",
       "      <td>20</td>\n",
       "      <td>geography</td>\n",
       "      <td>Song Gao</td>\n",
       "      <td>20</td>\n",
       "      <td>geography</td>\n",
       "    </tr>\n",
       "  </tbody>\n",
       "</table>\n",
       "</div>"
      ],
      "text/plain": [
       "    course    prof_x  students_x department_x    prof_y  students_y  \\\n",
       "0  geog572       Rob          30    geography       Rob          30   \n",
       "1  geog573  Song Gao          40    geography  Song Gao          40   \n",
       "2  geog574       Qin          25    geography       Qin          25   \n",
       "3  geog575       Rob          35    geography       Rob          35   \n",
       "4  geog579    A-xing          45    geography    A-xing          45   \n",
       "5  geog560  Song Gao          20    geography  Song Gao          20   \n",
       "\n",
       "  department_y  \n",
       "0    geography  \n",
       "1    geography  \n",
       "2    geography  \n",
       "3    geography  \n",
       "4    geography  \n",
       "5    geography  "
      ]
     },
     "execution_count": 88,
     "metadata": {},
     "output_type": "execute_result"
    }
   ],
   "source": [
    "# merge dataframe\n",
    "data_merge = pd.merge(left=data1, left_on=\"course\", right=data1, right_on=\"course\")\n",
    "data_merge"
   ]
  },
  {
   "cell_type": "code",
   "execution_count": 89,
   "id": "9451840b-b9fc-4cd0-8131-be8be7c9cf3e",
   "metadata": {},
   "outputs": [
    {
     "data": {
      "text/html": [
       "<div>\n",
       "<style scoped>\n",
       "    .dataframe tbody tr th:only-of-type {\n",
       "        vertical-align: middle;\n",
       "    }\n",
       "\n",
       "    .dataframe tbody tr th {\n",
       "        vertical-align: top;\n",
       "    }\n",
       "\n",
       "    .dataframe thead th {\n",
       "        text-align: right;\n",
       "    }\n",
       "</style>\n",
       "<table border=\"1\" class=\"dataframe\">\n",
       "  <thead>\n",
       "    <tr style=\"text-align: right;\">\n",
       "      <th></th>\n",
       "      <th>course</th>\n",
       "      <th>prof</th>\n",
       "      <th>students</th>\n",
       "      <th>department</th>\n",
       "    </tr>\n",
       "  </thead>\n",
       "  <tbody>\n",
       "    <tr>\n",
       "      <th>1</th>\n",
       "      <td>geog573</td>\n",
       "      <td>Song Gao</td>\n",
       "      <td>40</td>\n",
       "      <td>geography</td>\n",
       "    </tr>\n",
       "    <tr>\n",
       "      <th>5</th>\n",
       "      <td>geog560</td>\n",
       "      <td>Song Gao</td>\n",
       "      <td>20</td>\n",
       "      <td>geography</td>\n",
       "    </tr>\n",
       "    <tr>\n",
       "      <th>0</th>\n",
       "      <td>geog572</td>\n",
       "      <td>Rob</td>\n",
       "      <td>30</td>\n",
       "      <td>geography</td>\n",
       "    </tr>\n",
       "    <tr>\n",
       "      <th>3</th>\n",
       "      <td>geog575</td>\n",
       "      <td>Rob</td>\n",
       "      <td>35</td>\n",
       "      <td>geography</td>\n",
       "    </tr>\n",
       "    <tr>\n",
       "      <th>2</th>\n",
       "      <td>geog574</td>\n",
       "      <td>Qin</td>\n",
       "      <td>25</td>\n",
       "      <td>geography</td>\n",
       "    </tr>\n",
       "    <tr>\n",
       "      <th>4</th>\n",
       "      <td>geog579</td>\n",
       "      <td>A-xing</td>\n",
       "      <td>45</td>\n",
       "      <td>geography</td>\n",
       "    </tr>\n",
       "  </tbody>\n",
       "</table>\n",
       "</div>"
      ],
      "text/plain": [
       "    course      prof  students department\n",
       "1  geog573  Song Gao        40  geography\n",
       "5  geog560  Song Gao        20  geography\n",
       "0  geog572       Rob        30  geography\n",
       "3  geog575       Rob        35  geography\n",
       "2  geog574       Qin        25  geography\n",
       "4  geog579    A-xing        45  geography"
      ]
     },
     "execution_count": 89,
     "metadata": {},
     "output_type": "execute_result"
    }
   ],
   "source": [
    "#sort values\n",
    "data1.sort_values(by = 'prof', ascending=False)"
   ]
  },
  {
   "cell_type": "code",
   "execution_count": 90,
   "id": "8c72c398-c0c4-4899-85a1-0e9665a6f2b6",
   "metadata": {},
   "outputs": [
    {
     "data": {
      "text/plain": [
       "45"
      ]
     },
     "execution_count": 90,
     "metadata": {},
     "output_type": "execute_result"
    }
   ],
   "source": [
    "#to get stats\n",
    "data1['students'].min()\n",
    "data1['students'].max()"
   ]
  },
  {
   "cell_type": "code",
   "execution_count": 91,
   "id": "34e70825-6657-49d0-a5ba-2874c2fa195a",
   "metadata": {},
   "outputs": [
    {
     "data": {
      "text/html": [
       "<div>\n",
       "<style scoped>\n",
       "    .dataframe tbody tr th:only-of-type {\n",
       "        vertical-align: middle;\n",
       "    }\n",
       "\n",
       "    .dataframe tbody tr th {\n",
       "        vertical-align: top;\n",
       "    }\n",
       "\n",
       "    .dataframe thead th {\n",
       "        text-align: right;\n",
       "    }\n",
       "</style>\n",
       "<table border=\"1\" class=\"dataframe\">\n",
       "  <thead>\n",
       "    <tr style=\"text-align: right;\">\n",
       "      <th></th>\n",
       "      <th>students</th>\n",
       "    </tr>\n",
       "  </thead>\n",
       "  <tbody>\n",
       "    <tr>\n",
       "      <th>count</th>\n",
       "      <td>6.000000</td>\n",
       "    </tr>\n",
       "    <tr>\n",
       "      <th>mean</th>\n",
       "      <td>32.500000</td>\n",
       "    </tr>\n",
       "    <tr>\n",
       "      <th>std</th>\n",
       "      <td>9.354143</td>\n",
       "    </tr>\n",
       "    <tr>\n",
       "      <th>min</th>\n",
       "      <td>20.000000</td>\n",
       "    </tr>\n",
       "    <tr>\n",
       "      <th>25%</th>\n",
       "      <td>26.250000</td>\n",
       "    </tr>\n",
       "    <tr>\n",
       "      <th>50%</th>\n",
       "      <td>32.500000</td>\n",
       "    </tr>\n",
       "    <tr>\n",
       "      <th>75%</th>\n",
       "      <td>38.750000</td>\n",
       "    </tr>\n",
       "    <tr>\n",
       "      <th>max</th>\n",
       "      <td>45.000000</td>\n",
       "    </tr>\n",
       "  </tbody>\n",
       "</table>\n",
       "</div>"
      ],
      "text/plain": [
       "        students\n",
       "count   6.000000\n",
       "mean   32.500000\n",
       "std     9.354143\n",
       "min    20.000000\n",
       "25%    26.250000\n",
       "50%    32.500000\n",
       "75%    38.750000\n",
       "max    45.000000"
      ]
     },
     "execution_count": 91,
     "metadata": {},
     "output_type": "execute_result"
    }
   ],
   "source": [
    "data1.describe()"
   ]
  },
  {
   "cell_type": "code",
   "execution_count": 92,
   "id": "9ad864db-0868-491d-8e1a-979062529063",
   "metadata": {},
   "outputs": [
    {
     "data": {
      "text/plain": [
       "course        object\n",
       "prof          object\n",
       "students       int64\n",
       "department    object\n",
       "dtype: object"
      ]
     },
     "execution_count": 92,
     "metadata": {},
     "output_type": "execute_result"
    }
   ],
   "source": [
    "data1.dtypes"
   ]
  },
  {
   "cell_type": "code",
   "execution_count": null,
   "id": "061d3487-47d9-47c5-ab66-35483cc9d6c3",
   "metadata": {},
   "outputs": [],
   "source": []
  },
  {
   "cell_type": "code",
   "execution_count": null,
   "id": "05c34536-5c35-426f-a9d2-8e5cb65c464d",
   "metadata": {},
   "outputs": [],
   "source": []
  }
 ],
 "metadata": {
  "kernelspec": {
   "display_name": "Python 3 (ipykernel)",
   "language": "python",
   "name": "python3"
  },
  "language_info": {
   "codemirror_mode": {
    "name": "ipython",
    "version": 3
   },
   "file_extension": ".py",
   "mimetype": "text/x-python",
   "name": "python",
   "nbconvert_exporter": "python",
   "pygments_lexer": "ipython3",
   "version": "3.9.16"
  }
 },
 "nbformat": 4,
 "nbformat_minor": 5
}
