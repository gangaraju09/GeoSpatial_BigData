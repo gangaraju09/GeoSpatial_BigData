{
 "cells": [
  {
   "cell_type": "code",
   "execution_count": 1,
   "id": "22d0af83",
   "metadata": {},
   "outputs": [],
   "source": [
    "from osgeo import gdal"
   ]
  },
  {
   "cell_type": "code",
   "execution_count": 6,
   "id": "29269341",
   "metadata": {},
   "outputs": [],
   "source": [
    "ds= gdal.Open(r\"A:\\UW-Madison\\GIS Spring 2022\\G378\\g378_rasterdata\\raster\\IndependenceSW.tiff\")"
   ]
  },
  {
   "cell_type": "code",
   "execution_count": 11,
   "id": "e3ea9fa5",
   "metadata": {},
   "outputs": [
    {
     "data": {
      "text/plain": [
       "{'AREA_OR_POINT': 'Area',\n",
       " 'TIFFTAG_DATETIME': '2000:11:29 00:00:00',\n",
       " 'TIFFTAG_DOCUMENTNAME': 'o39120d3sw_2',\n",
       " 'TIFFTAG_IMAGEDESCRIPTION': 'INDEPENDENCE LAKE SW 1:12000 DOQ-Q',\n",
       " 'TIFFTAG_SOFTWARE': 'GDAL 1.1.7,by gis.ca.gov'}"
      ]
     },
     "execution_count": 11,
     "metadata": {},
     "output_type": "execute_result"
    }
   ],
   "source": [
    "ds.GetMetadata()"
   ]
  },
  {
   "cell_type": "code",
   "execution_count": 12,
   "id": "c304c9bb",
   "metadata": {},
   "outputs": [],
   "source": [
    "from osgeo import gdal"
   ]
  },
  {
   "cell_type": "code",
   "execution_count": 17,
   "id": "bcb2e506",
   "metadata": {},
   "outputs": [],
   "source": [
    "da = gdal.Open(r\"A:\\UW-Madison\\GIS Spring 2022\\G378\\g378_rasterdata\\raster\\DRGqq.tif\")"
   ]
  },
  {
   "cell_type": "code",
   "execution_count": 18,
   "id": "2992db65",
   "metadata": {},
   "outputs": [
    {
     "data": {
      "text/plain": [
       "{'TIFFTAG_DOCUMENTNAME': 'dmagicCAA0S3x45',\n",
       " 'TIFFTAG_SOFTWARE': '@(#)ImageMagick 4.2.5 99/06/01 cristy@mystic.es.dupont.com'}"
      ]
     },
     "execution_count": 18,
     "metadata": {},
     "output_type": "execute_result"
    }
   ],
   "source": [
    "da.GetMetadata()"
   ]
  },
  {
   "cell_type": "code",
   "execution_count": 21,
   "id": "adac95fe",
   "metadata": {},
   "outputs": [
    {
     "data": {
      "text/plain": [
       "{'TIFFTAG_DOCUMENTNAME': 'dmagicCAA0S3x45',\n",
       " 'TIFFTAG_SOFTWARE': '@(#)ImageMagick 4.2.5 99/06/01 cristy@mystic.es.dupont.com'}"
      ]
     },
     "execution_count": 21,
     "metadata": {},
     "output_type": "execute_result"
    }
   ],
   "source": [
    "from osgeo import gdal\n",
    "de = gdal.Open(r\"A:\\UW-Madison\\GIS Spring 2022\\G378\\g378_rasterdata\\raster\\DRGqq.tif\")\n",
    "de.GetMetadata()"
   ]
  },
  {
   "cell_type": "code",
   "execution_count": null,
   "id": "d727ed21",
   "metadata": {},
   "outputs": [],
   "source": []
  }
 ],
 "metadata": {
  "kernelspec": {
   "display_name": "Python 3 (ipykernel)",
   "language": "python",
   "name": "python3"
  },
  "language_info": {
   "codemirror_mode": {
    "name": "ipython",
    "version": 3
   },
   "file_extension": ".py",
   "mimetype": "text/x-python",
   "name": "python",
   "nbconvert_exporter": "python",
   "pygments_lexer": "ipython3",
   "version": "3.9.7"
  }
 },
 "nbformat": 4,
 "nbformat_minor": 5
}
