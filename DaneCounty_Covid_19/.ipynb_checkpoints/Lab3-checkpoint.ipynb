{
 "cells": [
  {
   "cell_type": "markdown",
   "metadata": {
    "id": "kpOULv1DMFNI"
   },
   "source": [
    "# Geog 573 Advanced Geocomputing and Geospatial Big Data Analytics\n",
    "# Prof. Song Gao (song.gao@wisc.edu)\n",
    "# TA: Yuhao Kang (yuhao.kang@wisc.edu)\n",
    "# Lab3 - Data Processing"
   ]
  },
  {
   "cell_type": "markdown",
   "metadata": {
    "id": "MqUxIKssMFNN"
   },
   "source": [
    "1. Pandas basic functions.\n",
    "2. Learn GEOID.\n",
    "3. Aggregate Census Tract to Zip-code-tabular-areas (ZCTA)."
   ]
  },
  {
   "cell_type": "code",
   "execution_count": 11,
   "metadata": {
    "id": "ChiUiSlGMFNO"
   },
   "outputs": [],
   "source": [
    "import pandas as pd\n",
    "import geopandas as gpd\n",
    "import json"
   ]
  },
  {
   "cell_type": "markdown",
   "metadata": {
    "id": "L6ebKgmUMFNQ"
   },
   "source": [
    "# Load COVID-19 Data"
   ]
  },
  {
   "cell_type": "code",
   "execution_count": 12,
   "metadata": {
    "id": "YyqgGikZMFNQ"
   },
   "outputs": [],
   "source": [
    "# Load geojson file of COVID-19 data at the census tract level\n",
    "with open('COVID-19_Data_by_Census_Tract.geojson', 'r') as covid_file:\n",
    "    covid_geojson = json.load(covid_file)"
   ]
  },
  {
   "cell_type": "code",
   "execution_count": 20,
   "metadata": {
    "id": "mQcU7vk-MFNR"
   },
   "outputs": [],
   "source": [
    "# Extract positive information of each census tract\n",
    "covid_data = []\n",
    "for feature in covid_geojson['features'].itertuples(index=True):\n",
    "    covid ={}\n",
    "    covid['positive'] =getattr(feature, feature['properties']['POSITIVE'])\n",
    "    covid['ct'] =getattr(feature, feature['properties']['GEOID'])\n",
    "    covid['date'] =getattr(feature, feature['properties']['DATE'])\n",
    "    \n",
    "    covid_data.append((covid))"
   ]
  },
  {
   "cell_type": "code",
   "execution_count": 21,
   "metadata": {
    "id": "2cH0ZVevMFNR",
    "outputId": "3d0f0a9c-93db-4c30-b735-577a67c51049"
   },
   "outputs": [
    {
     "data": {
      "text/html": [
       "<div>\n",
       "<style scoped>\n",
       "    .dataframe tbody tr th:only-of-type {\n",
       "        vertical-align: middle;\n",
       "    }\n",
       "\n",
       "    .dataframe tbody tr th {\n",
       "        vertical-align: top;\n",
       "    }\n",
       "\n",
       "    .dataframe thead th {\n",
       "        text-align: right;\n",
       "    }\n",
       "</style>\n",
       "<table border=\"1\" class=\"dataframe\">\n",
       "  <thead>\n",
       "    <tr style=\"text-align: right;\">\n",
       "      <th></th>\n",
       "      <th>ct</th>\n",
       "      <th>date</th>\n",
       "      <th>positive</th>\n",
       "    </tr>\n",
       "  </thead>\n",
       "  <tbody>\n",
       "  </tbody>\n",
       "</table>\n",
       "</div>"
      ],
      "text/plain": [
       "Empty DataFrame\n",
       "Columns: [ct, date, positive]\n",
       "Index: []"
      ]
     },
     "execution_count": 21,
     "metadata": {},
     "output_type": "execute_result"
    }
   ],
   "source": [
    "# Construct the DataFrame of COVID-19 data\n",
    "covid_data = pd.DataFrame(covid_data, columns=[\"ct\", \"date\", \"positive\"])\n",
    "covid_data.head()"
   ]
  },
  {
   "cell_type": "code",
   "execution_count": null,
   "metadata": {
    "id": "Wy_ONUV5MFNT"
   },
   "outputs": [],
   "source": [
    "covid_data = pd.read_csv('covid_data.csv')"
   ]
  },
  {
   "cell_type": "code",
   "execution_count": null,
   "metadata": {
    "id": "0jUywKWnMFNT",
    "outputId": "5a8f0d42-0b43-49a2-d31f-89283a79a20a"
   },
   "outputs": [
    {
     "data": {
      "text/html": [
       "<div>\n",
       "<style scoped>\n",
       "    .dataframe tbody tr th:only-of-type {\n",
       "        vertical-align: middle;\n",
       "    }\n",
       "\n",
       "    .dataframe tbody tr th {\n",
       "        vertical-align: top;\n",
       "    }\n",
       "\n",
       "    .dataframe thead th {\n",
       "        text-align: right;\n",
       "    }\n",
       "</style>\n",
       "<table border=\"1\" class=\"dataframe\">\n",
       "  <thead>\n",
       "    <tr style=\"text-align: right;\">\n",
       "      <th></th>\n",
       "      <th>ct</th>\n",
       "      <th>date</th>\n",
       "      <th>positive</th>\n",
       "      <th>county</th>\n",
       "    </tr>\n",
       "  </thead>\n",
       "  <tbody>\n",
       "    <tr>\n",
       "      <th>0</th>\n",
       "      <td>55009940002</td>\n",
       "      <td>2021-12-08T20:00:00Z</td>\n",
       "      <td>789</td>\n",
       "      <td>55009</td>\n",
       "    </tr>\n",
       "    <tr>\n",
       "      <th>1</th>\n",
       "      <td>55009001600</td>\n",
       "      <td>2021-12-08T20:00:00Z</td>\n",
       "      <td>1223</td>\n",
       "      <td>55009</td>\n",
       "    </tr>\n",
       "    <tr>\n",
       "      <th>2</th>\n",
       "      <td>55009001801</td>\n",
       "      <td>2021-12-08T20:00:00Z</td>\n",
       "      <td>878</td>\n",
       "      <td>55009</td>\n",
       "    </tr>\n",
       "    <tr>\n",
       "      <th>3</th>\n",
       "      <td>55009001802</td>\n",
       "      <td>2021-12-08T20:00:00Z</td>\n",
       "      <td>764</td>\n",
       "      <td>55009</td>\n",
       "    </tr>\n",
       "    <tr>\n",
       "      <th>4</th>\n",
       "      <td>55009002001</td>\n",
       "      <td>2021-12-08T20:00:00Z</td>\n",
       "      <td>1520</td>\n",
       "      <td>55009</td>\n",
       "    </tr>\n",
       "  </tbody>\n",
       "</table>\n",
       "</div>"
      ],
      "text/plain": [
       "            ct                  date  positive county\n",
       "0  55009940002  2021-12-08T20:00:00Z       789  55009\n",
       "1  55009001600  2021-12-08T20:00:00Z      1223  55009\n",
       "2  55009001801  2021-12-08T20:00:00Z       878  55009\n",
       "3  55009001802  2021-12-08T20:00:00Z       764  55009\n",
       "4  55009002001  2021-12-08T20:00:00Z      1520  55009"
      ]
     },
     "execution_count": 5,
     "metadata": {},
     "output_type": "execute_result"
    }
   ],
   "source": [
    "# Assign GEOID at multiple levels\n",
    "covid_data[\"county\"] = covid_data[\"ct\"].apply(lambda x: str(x).zfill(11)[:5])\n",
    "covid_data.head()"
   ]
  },
  {
   "cell_type": "code",
   "execution_count": null,
   "metadata": {
    "id": "hLV-3NiSMFNU",
    "outputId": "2924dfae-cd46-4d82-ef74-2b8a503b3d45"
   },
   "outputs": [
    {
     "data": {
      "text/html": [
       "<div>\n",
       "<style scoped>\n",
       "    .dataframe tbody tr th:only-of-type {\n",
       "        vertical-align: middle;\n",
       "    }\n",
       "\n",
       "    .dataframe tbody tr th {\n",
       "        vertical-align: top;\n",
       "    }\n",
       "\n",
       "    .dataframe thead th {\n",
       "        text-align: right;\n",
       "    }\n",
       "</style>\n",
       "<table border=\"1\" class=\"dataframe\">\n",
       "  <thead>\n",
       "    <tr style=\"text-align: right;\">\n",
       "      <th></th>\n",
       "      <th>positive</th>\n",
       "    </tr>\n",
       "  </thead>\n",
       "  <tbody>\n",
       "    <tr>\n",
       "      <th>count</th>\n",
       "      <td>1393.000000</td>\n",
       "    </tr>\n",
       "    <tr>\n",
       "      <th>mean</th>\n",
       "      <td>647.326633</td>\n",
       "    </tr>\n",
       "    <tr>\n",
       "      <th>std</th>\n",
       "      <td>620.417482</td>\n",
       "    </tr>\n",
       "    <tr>\n",
       "      <th>min</th>\n",
       "      <td>91.000000</td>\n",
       "    </tr>\n",
       "    <tr>\n",
       "      <th>25%</th>\n",
       "      <td>411.000000</td>\n",
       "    </tr>\n",
       "    <tr>\n",
       "      <th>50%</th>\n",
       "      <td>594.000000</td>\n",
       "    </tr>\n",
       "    <tr>\n",
       "      <th>75%</th>\n",
       "      <td>798.000000</td>\n",
       "    </tr>\n",
       "    <tr>\n",
       "      <th>max</th>\n",
       "      <td>20630.000000</td>\n",
       "    </tr>\n",
       "  </tbody>\n",
       "</table>\n",
       "</div>"
      ],
      "text/plain": [
       "           positive\n",
       "count   1393.000000\n",
       "mean     647.326633\n",
       "std      620.417482\n",
       "min       91.000000\n",
       "25%      411.000000\n",
       "50%      594.000000\n",
       "75%      798.000000\n",
       "max    20630.000000"
      ]
     },
     "execution_count": 6,
     "metadata": {},
     "output_type": "execute_result"
    }
   ],
   "source": [
    "# Check the statistics of postive confirmed cases\n",
    "covid_data.describe()"
   ]
  },
  {
   "cell_type": "code",
   "execution_count": null,
   "metadata": {
    "id": "4HDmH1_TMFNV",
    "outputId": "61c3d95e-c102-49ee-fce2-c2d9d03ff534"
   },
   "outputs": [
    {
     "data": {
      "text/html": [
       "<div>\n",
       "<style scoped>\n",
       "    .dataframe tbody tr th:only-of-type {\n",
       "        vertical-align: middle;\n",
       "    }\n",
       "\n",
       "    .dataframe tbody tr th {\n",
       "        vertical-align: top;\n",
       "    }\n",
       "\n",
       "    .dataframe thead th {\n",
       "        text-align: right;\n",
       "    }\n",
       "</style>\n",
       "<table border=\"1\" class=\"dataframe\">\n",
       "  <thead>\n",
       "    <tr style=\"text-align: right;\">\n",
       "      <th></th>\n",
       "      <th>ct</th>\n",
       "      <th>date</th>\n",
       "      <th>positive</th>\n",
       "      <th>county</th>\n",
       "      <th>Risk_Label</th>\n",
       "    </tr>\n",
       "  </thead>\n",
       "  <tbody>\n",
       "    <tr>\n",
       "      <th>0</th>\n",
       "      <td>55009940002</td>\n",
       "      <td>2021-12-08T20:00:00Z</td>\n",
       "      <td>789</td>\n",
       "      <td>55009</td>\n",
       "      <td>High</td>\n",
       "    </tr>\n",
       "    <tr>\n",
       "      <th>1</th>\n",
       "      <td>55009001600</td>\n",
       "      <td>2021-12-08T20:00:00Z</td>\n",
       "      <td>1223</td>\n",
       "      <td>55009</td>\n",
       "      <td>High</td>\n",
       "    </tr>\n",
       "    <tr>\n",
       "      <th>2</th>\n",
       "      <td>55009001801</td>\n",
       "      <td>2021-12-08T20:00:00Z</td>\n",
       "      <td>878</td>\n",
       "      <td>55009</td>\n",
       "      <td>High</td>\n",
       "    </tr>\n",
       "    <tr>\n",
       "      <th>3</th>\n",
       "      <td>55009001802</td>\n",
       "      <td>2021-12-08T20:00:00Z</td>\n",
       "      <td>764</td>\n",
       "      <td>55009</td>\n",
       "      <td>High</td>\n",
       "    </tr>\n",
       "    <tr>\n",
       "      <th>4</th>\n",
       "      <td>55009002001</td>\n",
       "      <td>2021-12-08T20:00:00Z</td>\n",
       "      <td>1520</td>\n",
       "      <td>55009</td>\n",
       "      <td>High</td>\n",
       "    </tr>\n",
       "  </tbody>\n",
       "</table>\n",
       "</div>"
      ],
      "text/plain": [
       "            ct                  date  positive county Risk_Label\n",
       "0  55009940002  2021-12-08T20:00:00Z       789  55009       High\n",
       "1  55009001600  2021-12-08T20:00:00Z      1223  55009       High\n",
       "2  55009001801  2021-12-08T20:00:00Z       878  55009       High\n",
       "3  55009001802  2021-12-08T20:00:00Z       764  55009       High\n",
       "4  55009002001  2021-12-08T20:00:00Z      1520  55009       High"
      ]
     },
     "execution_count": 7,
     "metadata": {},
     "output_type": "execute_result"
    }
   ],
   "source": [
    "# Apply a pre-defined function\n",
    "def risk_label(x):\n",
    "    if x > 594:\n",
    "        return \"High\"\n",
    "    else:\n",
    "        return \"Low\"\n",
    "\n",
    "covid_data[\"Risk_Label\"] = covid_data[\"positive\"].apply(lambda x: risk_label(x))\n",
    "covid_data.head()"
   ]
  },
  {
   "cell_type": "markdown",
   "metadata": {
    "id": "wS22nrsRMFNW"
   },
   "source": [
    "# Load ZCTA Data"
   ]
  },
  {
   "cell_type": "code",
   "execution_count": null,
   "metadata": {
    "id": "U8K4X1ryMFNW",
    "outputId": "6570fcdb-7b0d-4475-b423-c36c7663d9fb"
   },
   "outputs": [
    {
     "data": {
      "text/html": [
       "<div>\n",
       "<style scoped>\n",
       "    .dataframe tbody tr th:only-of-type {\n",
       "        vertical-align: middle;\n",
       "    }\n",
       "\n",
       "    .dataframe tbody tr th {\n",
       "        vertical-align: top;\n",
       "    }\n",
       "\n",
       "    .dataframe thead th {\n",
       "        text-align: right;\n",
       "    }\n",
       "</style>\n",
       "<table border=\"1\" class=\"dataframe\">\n",
       "  <thead>\n",
       "    <tr style=\"text-align: right;\">\n",
       "      <th></th>\n",
       "      <th>ZCTA5</th>\n",
       "      <th>ALAND10</th>\n",
       "      <th>AWATER10</th>\n",
       "      <th>geometry</th>\n",
       "    </tr>\n",
       "  </thead>\n",
       "  <tbody>\n",
       "    <tr>\n",
       "      <th>0</th>\n",
       "      <td>53792</td>\n",
       "      <td>54498</td>\n",
       "      <td>0</td>\n",
       "      <td>POLYGON ((-89.43192 43.07882, -89.43091 43.078...</td>\n",
       "    </tr>\n",
       "    <tr>\n",
       "      <th>1</th>\n",
       "      <td>53583</td>\n",
       "      <td>197458833</td>\n",
       "      <td>9421762</td>\n",
       "      <td>MULTIPOLYGON (((-89.92825 43.26930, -89.92762 ...</td>\n",
       "    </tr>\n",
       "    <tr>\n",
       "      <th>2</th>\n",
       "      <td>53911</td>\n",
       "      <td>92481870</td>\n",
       "      <td>819539</td>\n",
       "      <td>POLYGON ((-89.44271 43.32252, -89.44263 43.337...</td>\n",
       "    </tr>\n",
       "    <tr>\n",
       "      <th>3</th>\n",
       "      <td>53571</td>\n",
       "      <td>1059152</td>\n",
       "      <td>0</td>\n",
       "      <td>POLYGON ((-89.36308 43.28130, -89.34449 43.281...</td>\n",
       "    </tr>\n",
       "    <tr>\n",
       "      <th>4</th>\n",
       "      <td>53715</td>\n",
       "      <td>3133139</td>\n",
       "      <td>503</td>\n",
       "      <td>POLYGON ((-89.40899 43.06206, -89.40899 43.070...</td>\n",
       "    </tr>\n",
       "  </tbody>\n",
       "</table>\n",
       "</div>"
      ],
      "text/plain": [
       "   ZCTA5    ALAND10  AWATER10  \\\n",
       "0  53792      54498         0   \n",
       "1  53583  197458833   9421762   \n",
       "2  53911   92481870    819539   \n",
       "3  53571    1059152         0   \n",
       "4  53715    3133139       503   \n",
       "\n",
       "                                            geometry  \n",
       "0  POLYGON ((-89.43192 43.07882, -89.43091 43.078...  \n",
       "1  MULTIPOLYGON (((-89.92825 43.26930, -89.92762 ...  \n",
       "2  POLYGON ((-89.44271 43.32252, -89.44263 43.337...  \n",
       "3  POLYGON ((-89.36308 43.28130, -89.34449 43.281...  \n",
       "4  POLYGON ((-89.40899 43.06206, -89.40899 43.070...  "
      ]
     },
     "execution_count": 8,
     "metadata": {},
     "output_type": "execute_result"
    }
   ],
   "source": [
    "# Load ZCTA data\n",
    "zcta_dane = gpd.read_file('ZCTAs_DaneCounty.shp')\n",
    "zcta_dane = zcta_dane.rename({\"ZCTA5CE10\": \"ZCTA5\"}, axis=1)\n",
    "zcta_dane.head()"
   ]
  },
  {
   "cell_type": "code",
   "execution_count": null,
   "metadata": {
    "id": "Bn3hHbzoMFNW",
    "outputId": "ab9cb430-d57a-4b84-ec6b-3d873a8aa059"
   },
   "outputs": [
    {
     "data": {
      "text/plain": [
       "<AxesSubplot:>"
      ]
     },
     "execution_count": 9,
     "metadata": {},
     "output_type": "execute_result"
    },
    {
     "data": {
      "image/png": "[encoded data removed]",
      "text/plain": [
       "<Figure size 432x288 with 1 Axes>"
      ]
     },
     "metadata": {
      "needs_background": "light"
     },
     "output_type": "display_data"
    }
   ],
   "source": [
    "# Plot ZCTA in Dane County\n",
    "zcta_dane.plot()"
   ]
  },
  {
   "cell_type": "markdown",
   "metadata": {
    "id": "o02Xw2PVMFNX"
   },
   "source": [
    "# Load Relationship File between ZCTA and CT"
   ]
  },
  {
   "cell_type": "code",
   "execution_count": null,
   "metadata": {
    "id": "whXFAYMGMFNX",
    "outputId": "22a07ff5-da57-4b84-af73-6ef7d712ea4c"
   },
   "outputs": [
    {
     "name": "stdout",
     "output_type": "stream",
     "text": [
      "Index(['ZCTA5', 'STATE', 'COUNTY', 'TRACT', 'GEOID', 'POPPT', 'HUPT', 'AREAPT',\n",
      "       ' AREALANDPT', 'ZPOP', 'ZHU', 'ZAREA', 'ZAREALAND', 'TRPOP', 'TRHU',\n",
      "       'TRAREA', 'TRAREALAND', 'ZPOPPCT', 'ZHUPCT', 'ZAREAPCT', 'ZAREALANDPCT',\n",
      "       'TRPOPPCT', 'TRHUPCT', 'TRAREAPCT', 'TRAREALANDPCT'],\n",
      "      dtype='object')\n"
     ]
    },
    {
     "data": {
      "text/html": [
       "<div>\n",
       "<style scoped>\n",
       "    .dataframe tbody tr th:only-of-type {\n",
       "        vertical-align: middle;\n",
       "    }\n",
       "\n",
       "    .dataframe tbody tr th {\n",
       "        vertical-align: top;\n",
       "    }\n",
       "\n",
       "    .dataframe thead th {\n",
       "        text-align: right;\n",
       "    }\n",
       "</style>\n",
       "<table border=\"1\" class=\"dataframe\">\n",
       "  <thead>\n",
       "    <tr style=\"text-align: right;\">\n",
       "      <th></th>\n",
       "      <th>ZCTA5</th>\n",
       "      <th>STATE</th>\n",
       "      <th>COUNTY</th>\n",
       "      <th>TRACT</th>\n",
       "      <th>GEOID</th>\n",
       "      <th>POPPT</th>\n",
       "      <th>HUPT</th>\n",
       "      <th>AREAPT</th>\n",
       "      <th>AREALANDPT</th>\n",
       "      <th>ZPOP</th>\n",
       "      <th>...</th>\n",
       "      <th>TRAREA</th>\n",
       "      <th>TRAREALAND</th>\n",
       "      <th>ZPOPPCT</th>\n",
       "      <th>ZHUPCT</th>\n",
       "      <th>ZAREAPCT</th>\n",
       "      <th>ZAREALANDPCT</th>\n",
       "      <th>TRPOPPCT</th>\n",
       "      <th>TRHUPCT</th>\n",
       "      <th>TRAREAPCT</th>\n",
       "      <th>TRAREALANDPCT</th>\n",
       "    </tr>\n",
       "  </thead>\n",
       "  <tbody>\n",
       "    <tr>\n",
       "      <th>0</th>\n",
       "      <td>601</td>\n",
       "      <td>72</td>\n",
       "      <td>1</td>\n",
       "      <td>956300</td>\n",
       "      <td>72001956300</td>\n",
       "      <td>4271</td>\n",
       "      <td>1706</td>\n",
       "      <td>44663250</td>\n",
       "      <td>44572589</td>\n",
       "      <td>18570</td>\n",
       "      <td>...</td>\n",
       "      <td>44924558</td>\n",
       "      <td>44833897</td>\n",
       "      <td>23.00</td>\n",
       "      <td>22.03</td>\n",
       "      <td>26.67</td>\n",
       "      <td>26.74</td>\n",
       "      <td>98.5</td>\n",
       "      <td>98.33</td>\n",
       "      <td>99.42</td>\n",
       "      <td>99.42</td>\n",
       "    </tr>\n",
       "    <tr>\n",
       "      <th>1</th>\n",
       "      <td>601</td>\n",
       "      <td>72</td>\n",
       "      <td>1</td>\n",
       "      <td>956400</td>\n",
       "      <td>72001956400</td>\n",
       "      <td>2384</td>\n",
       "      <td>1037</td>\n",
       "      <td>32830481</td>\n",
       "      <td>32492074</td>\n",
       "      <td>18570</td>\n",
       "      <td>...</td>\n",
       "      <td>37782601</td>\n",
       "      <td>37191697</td>\n",
       "      <td>12.84</td>\n",
       "      <td>13.39</td>\n",
       "      <td>19.61</td>\n",
       "      <td>19.50</td>\n",
       "      <td>79.6</td>\n",
       "      <td>80.14</td>\n",
       "      <td>86.89</td>\n",
       "      <td>87.36</td>\n",
       "    </tr>\n",
       "    <tr>\n",
       "      <th>2</th>\n",
       "      <td>601</td>\n",
       "      <td>72</td>\n",
       "      <td>1</td>\n",
       "      <td>956500</td>\n",
       "      <td>72001956500</td>\n",
       "      <td>3126</td>\n",
       "      <td>1240</td>\n",
       "      <td>44969548</td>\n",
       "      <td>44809680</td>\n",
       "      <td>18570</td>\n",
       "      <td>...</td>\n",
       "      <td>44969548</td>\n",
       "      <td>44809680</td>\n",
       "      <td>16.83</td>\n",
       "      <td>16.01</td>\n",
       "      <td>26.85</td>\n",
       "      <td>26.89</td>\n",
       "      <td>100.0</td>\n",
       "      <td>100.00</td>\n",
       "      <td>100.00</td>\n",
       "      <td>100.00</td>\n",
       "    </tr>\n",
       "    <tr>\n",
       "      <th>3</th>\n",
       "      <td>601</td>\n",
       "      <td>72</td>\n",
       "      <td>1</td>\n",
       "      <td>956600</td>\n",
       "      <td>72001956600</td>\n",
       "      <td>2329</td>\n",
       "      <td>972</td>\n",
       "      <td>1981101</td>\n",
       "      <td>1981101</td>\n",
       "      <td>18570</td>\n",
       "      <td>...</td>\n",
       "      <td>1981101</td>\n",
       "      <td>1981101</td>\n",
       "      <td>12.54</td>\n",
       "      <td>12.55</td>\n",
       "      <td>1.18</td>\n",
       "      <td>1.19</td>\n",
       "      <td>100.0</td>\n",
       "      <td>100.00</td>\n",
       "      <td>100.00</td>\n",
       "      <td>100.00</td>\n",
       "    </tr>\n",
       "    <tr>\n",
       "      <th>4</th>\n",
       "      <td>601</td>\n",
       "      <td>72</td>\n",
       "      <td>1</td>\n",
       "      <td>956700</td>\n",
       "      <td>72001956700</td>\n",
       "      <td>2053</td>\n",
       "      <td>948</td>\n",
       "      <td>1380041</td>\n",
       "      <td>1380041</td>\n",
       "      <td>18570</td>\n",
       "      <td>...</td>\n",
       "      <td>1380041</td>\n",
       "      <td>1380041</td>\n",
       "      <td>11.06</td>\n",
       "      <td>12.24</td>\n",
       "      <td>0.82</td>\n",
       "      <td>0.83</td>\n",
       "      <td>100.0</td>\n",
       "      <td>100.00</td>\n",
       "      <td>100.00</td>\n",
       "      <td>100.00</td>\n",
       "    </tr>\n",
       "  </tbody>\n",
       "</table>\n",
       "<p>5 rows × 25 columns</p>\n",
       "</div>"
      ],
      "text/plain": [
       "   ZCTA5  STATE  COUNTY   TRACT        GEOID  POPPT  HUPT    AREAPT  \\\n",
       "0    601     72       1  956300  72001956300   4271  1706  44663250   \n",
       "1    601     72       1  956400  72001956400   2384  1037  32830481   \n",
       "2    601     72       1  956500  72001956500   3126  1240  44969548   \n",
       "3    601     72       1  956600  72001956600   2329   972   1981101   \n",
       "4    601     72       1  956700  72001956700   2053   948   1380041   \n",
       "\n",
       "    AREALANDPT   ZPOP  ...    TRAREA  TRAREALAND  ZPOPPCT  ZHUPCT  ZAREAPCT  \\\n",
       "0     44572589  18570  ...  44924558    44833897    23.00   22.03     26.67   \n",
       "1     32492074  18570  ...  37782601    37191697    12.84   13.39     19.61   \n",
       "2     44809680  18570  ...  44969548    44809680    16.83   16.01     26.85   \n",
       "3      1981101  18570  ...   1981101     1981101    12.54   12.55      1.18   \n",
       "4      1380041  18570  ...   1380041     1380041    11.06   12.24      0.82   \n",
       "\n",
       "   ZAREALANDPCT  TRPOPPCT  TRHUPCT  TRAREAPCT  TRAREALANDPCT  \n",
       "0         26.74      98.5    98.33      99.42          99.42  \n",
       "1         19.50      79.6    80.14      86.89          87.36  \n",
       "2         26.89     100.0   100.00     100.00         100.00  \n",
       "3          1.19     100.0   100.00     100.00         100.00  \n",
       "4          0.83     100.0   100.00     100.00         100.00  \n",
       "\n",
       "[5 rows x 25 columns]"
      ]
     },
     "execution_count": 10,
     "metadata": {},
     "output_type": "execute_result"
    }
   ],
   "source": [
    "# Load relationship file between ZCTA and CT\n",
    "# https://www2.census.gov/geo/docs/maps-data/data/rel/zcta_tract_rel_10.txt\n",
    "\n",
    "zcta_ct_relationship = pd.read_table('zcta_tract_rel_10.txt', sep=',')\n",
    "print(zcta_ct_relationship.columns)\n",
    "zcta_ct_relationship.head()"
   ]
  },
  {
   "cell_type": "code",
   "execution_count": null,
   "metadata": {
    "id": "j2kipom_MFNY",
    "outputId": "5a4115c6-1d2f-4500-901f-851f46d6f896"
   },
   "outputs": [
    {
     "data": {
      "text/html": [
       "<div>\n",
       "<style scoped>\n",
       "    .dataframe tbody tr th:only-of-type {\n",
       "        vertical-align: middle;\n",
       "    }\n",
       "\n",
       "    .dataframe tbody tr th {\n",
       "        vertical-align: top;\n",
       "    }\n",
       "\n",
       "    .dataframe thead th {\n",
       "        text-align: right;\n",
       "    }\n",
       "</style>\n",
       "<table border=\"1\" class=\"dataframe\">\n",
       "  <thead>\n",
       "    <tr style=\"text-align: right;\">\n",
       "      <th></th>\n",
       "      <th>ZCTA5</th>\n",
       "      <th>STATE</th>\n",
       "      <th>COUNTY</th>\n",
       "      <th>TRACT</th>\n",
       "      <th>GEOID</th>\n",
       "      <th>POPPT</th>\n",
       "      <th>HUPT</th>\n",
       "      <th>AREAPT</th>\n",
       "      <th>AREALANDPT</th>\n",
       "      <th>ZPOP</th>\n",
       "      <th>...</th>\n",
       "      <th>ZPOPPCT</th>\n",
       "      <th>ZHUPCT</th>\n",
       "      <th>ZAREAPCT</th>\n",
       "      <th>ZAREALANDPCT</th>\n",
       "      <th>TRPOPPCT</th>\n",
       "      <th>TRHUPCT</th>\n",
       "      <th>TRAREAPCT</th>\n",
       "      <th>TRAREALANDPCT</th>\n",
       "      <th>ct</th>\n",
       "      <th>county</th>\n",
       "    </tr>\n",
       "  </thead>\n",
       "  <tbody>\n",
       "    <tr>\n",
       "      <th>0</th>\n",
       "      <td>00601</td>\n",
       "      <td>72</td>\n",
       "      <td>1</td>\n",
       "      <td>956300</td>\n",
       "      <td>72001956300</td>\n",
       "      <td>4271</td>\n",
       "      <td>1706</td>\n",
       "      <td>44663250</td>\n",
       "      <td>44572589</td>\n",
       "      <td>18570</td>\n",
       "      <td>...</td>\n",
       "      <td>23.0</td>\n",
       "      <td>22.03</td>\n",
       "      <td>26.67</td>\n",
       "      <td>26.74</td>\n",
       "      <td>98.5</td>\n",
       "      <td>98.33</td>\n",
       "      <td>99.42</td>\n",
       "      <td>99.42</td>\n",
       "      <td>72001956300</td>\n",
       "      <td>72001</td>\n",
       "    </tr>\n",
       "  </tbody>\n",
       "</table>\n",
       "<p>1 rows × 27 columns</p>\n",
       "</div>"
      ],
      "text/plain": [
       "   ZCTA5  STATE  COUNTY   TRACT        GEOID  POPPT  HUPT    AREAPT  \\\n",
       "0  00601     72       1  956300  72001956300   4271  1706  44663250   \n",
       "\n",
       "    AREALANDPT   ZPOP  ...  ZPOPPCT  ZHUPCT  ZAREAPCT  ZAREALANDPCT  TRPOPPCT  \\\n",
       "0     44572589  18570  ...     23.0   22.03     26.67         26.74      98.5   \n",
       "\n",
       "   TRHUPCT  TRAREAPCT  TRAREALANDPCT           ct  county  \n",
       "0    98.33      99.42          99.42  72001956300   72001  \n",
       "\n",
       "[1 rows x 27 columns]"
      ]
     },
     "execution_count": 11,
     "metadata": {},
     "output_type": "execute_result"
    }
   ],
   "source": [
    "# Assign GEOID at multiple levels\n",
    "zcta_ct_relationship[\"ct\"] = zcta_ct_relationship[\"GEOID\"].apply(lambda x: str(x).zfill(11))\n",
    "zcta_ct_relationship[\"county\"] = zcta_ct_relationship[\"GEOID\"].apply(lambda x: str(x).zfill(11)[:5])\n",
    "zcta_ct_relationship[\"ZCTA5\"] = zcta_ct_relationship[\"ZCTA5\"].apply(lambda x: str(x).zfill(5))\n",
    "zcta_ct_relationship.head(1)"
   ]
  },
  {
   "cell_type": "markdown",
   "metadata": {
    "id": "lQzKwTvZMFNY"
   },
   "source": [
    "# Aggregate the Number of Confirmed Cases from CT to ZCTA"
   ]
  },
  {
   "cell_type": "code",
   "execution_count": null,
   "metadata": {
    "id": "v1INhKbyMFNY",
    "outputId": "15d72615-d621-4a0d-a3d3-d72e006abb74"
   },
   "outputs": [
    {
     "data": {
      "text/html": [
       "<div>\n",
       "<style scoped>\n",
       "    .dataframe tbody tr th:only-of-type {\n",
       "        vertical-align: middle;\n",
       "    }\n",
       "\n",
       "    .dataframe tbody tr th {\n",
       "        vertical-align: top;\n",
       "    }\n",
       "\n",
       "    .dataframe thead th {\n",
       "        text-align: right;\n",
       "    }\n",
       "</style>\n",
       "<table border=\"1\" class=\"dataframe\">\n",
       "  <thead>\n",
       "    <tr style=\"text-align: right;\">\n",
       "      <th></th>\n",
       "      <th>ZCTA5</th>\n",
       "      <th>ALAND10</th>\n",
       "      <th>AWATER10</th>\n",
       "      <th>geometry</th>\n",
       "      <th>STATE</th>\n",
       "      <th>COUNTY</th>\n",
       "      <th>TRACT</th>\n",
       "      <th>GEOID</th>\n",
       "      <th>POPPT</th>\n",
       "      <th>HUPT</th>\n",
       "      <th>...</th>\n",
       "      <th>ZPOPPCT</th>\n",
       "      <th>ZHUPCT</th>\n",
       "      <th>ZAREAPCT</th>\n",
       "      <th>ZAREALANDPCT</th>\n",
       "      <th>TRPOPPCT</th>\n",
       "      <th>TRHUPCT</th>\n",
       "      <th>TRAREAPCT</th>\n",
       "      <th>TRAREALANDPCT</th>\n",
       "      <th>ct</th>\n",
       "      <th>county</th>\n",
       "    </tr>\n",
       "  </thead>\n",
       "  <tbody>\n",
       "    <tr>\n",
       "      <th>0</th>\n",
       "      <td>53792</td>\n",
       "      <td>54498</td>\n",
       "      <td>0</td>\n",
       "      <td>POLYGON ((-89.43192 43.07882, -89.43091 43.078...</td>\n",
       "      <td>55</td>\n",
       "      <td>25</td>\n",
       "      <td>3200</td>\n",
       "      <td>55025003200</td>\n",
       "      <td>0</td>\n",
       "      <td>0</td>\n",
       "      <td>...</td>\n",
       "      <td>0.00</td>\n",
       "      <td>0.00</td>\n",
       "      <td>100.00</td>\n",
       "      <td>100.00</td>\n",
       "      <td>0.00</td>\n",
       "      <td>0.00</td>\n",
       "      <td>2.15</td>\n",
       "      <td>2.20</td>\n",
       "      <td>55025003200</td>\n",
       "      <td>55025</td>\n",
       "    </tr>\n",
       "    <tr>\n",
       "      <th>1</th>\n",
       "      <td>53583</td>\n",
       "      <td>197458833</td>\n",
       "      <td>9421762</td>\n",
       "      <td>MULTIPOLYGON (((-89.92825 43.26930, -89.92762 ...</td>\n",
       "      <td>55</td>\n",
       "      <td>21</td>\n",
       "      <td>970800</td>\n",
       "      <td>55021970800</td>\n",
       "      <td>53</td>\n",
       "      <td>61</td>\n",
       "      <td>...</td>\n",
       "      <td>0.92</td>\n",
       "      <td>2.45</td>\n",
       "      <td>0.20</td>\n",
       "      <td>0.14</td>\n",
       "      <td>0.95</td>\n",
       "      <td>2.27</td>\n",
       "      <td>0.33</td>\n",
       "      <td>0.23</td>\n",
       "      <td>55021970800</td>\n",
       "      <td>55021</td>\n",
       "    </tr>\n",
       "    <tr>\n",
       "      <th>2</th>\n",
       "      <td>53583</td>\n",
       "      <td>197458833</td>\n",
       "      <td>9421762</td>\n",
       "      <td>MULTIPOLYGON (((-89.92825 43.26930, -89.92762 ...</td>\n",
       "      <td>55</td>\n",
       "      <td>25</td>\n",
       "      <td>12900</td>\n",
       "      <td>55025012900</td>\n",
       "      <td>1442</td>\n",
       "      <td>578</td>\n",
       "      <td>...</td>\n",
       "      <td>25.09</td>\n",
       "      <td>23.21</td>\n",
       "      <td>32.93</td>\n",
       "      <td>33.50</td>\n",
       "      <td>38.49</td>\n",
       "      <td>35.14</td>\n",
       "      <td>27.81</td>\n",
       "      <td>27.56</td>\n",
       "      <td>55025012900</td>\n",
       "      <td>55025</td>\n",
       "    </tr>\n",
       "    <tr>\n",
       "      <th>3</th>\n",
       "      <td>53583</td>\n",
       "      <td>197458833</td>\n",
       "      <td>9421762</td>\n",
       "      <td>MULTIPOLYGON (((-89.92825 43.26930, -89.92762 ...</td>\n",
       "      <td>55</td>\n",
       "      <td>25</td>\n",
       "      <td>13100</td>\n",
       "      <td>55025013100</td>\n",
       "      <td>14</td>\n",
       "      <td>6</td>\n",
       "      <td>...</td>\n",
       "      <td>0.24</td>\n",
       "      <td>0.24</td>\n",
       "      <td>0.11</td>\n",
       "      <td>0.12</td>\n",
       "      <td>0.31</td>\n",
       "      <td>0.30</td>\n",
       "      <td>0.18</td>\n",
       "      <td>0.18</td>\n",
       "      <td>55025013100</td>\n",
       "      <td>55025</td>\n",
       "    </tr>\n",
       "    <tr>\n",
       "      <th>4</th>\n",
       "      <td>53583</td>\n",
       "      <td>197458833</td>\n",
       "      <td>9421762</td>\n",
       "      <td>MULTIPOLYGON (((-89.92825 43.26930, -89.92762 ...</td>\n",
       "      <td>55</td>\n",
       "      <td>111</td>\n",
       "      <td>600</td>\n",
       "      <td>55111000600</td>\n",
       "      <td>974</td>\n",
       "      <td>403</td>\n",
       "      <td>...</td>\n",
       "      <td>16.95</td>\n",
       "      <td>16.18</td>\n",
       "      <td>10.94</td>\n",
       "      <td>11.45</td>\n",
       "      <td>14.81</td>\n",
       "      <td>14.25</td>\n",
       "      <td>10.43</td>\n",
       "      <td>10.47</td>\n",
       "      <td>55111000600</td>\n",
       "      <td>55111</td>\n",
       "    </tr>\n",
       "  </tbody>\n",
       "</table>\n",
       "<p>5 rows × 30 columns</p>\n",
       "</div>"
      ],
      "text/plain": [
       "   ZCTA5    ALAND10  AWATER10  \\\n",
       "0  53792      54498         0   \n",
       "1  53583  197458833   9421762   \n",
       "2  53583  197458833   9421762   \n",
       "3  53583  197458833   9421762   \n",
       "4  53583  197458833   9421762   \n",
       "\n",
       "                                            geometry  STATE  COUNTY   TRACT  \\\n",
       "0  POLYGON ((-89.43192 43.07882, -89.43091 43.078...     55      25    3200   \n",
       "1  MULTIPOLYGON (((-89.92825 43.26930, -89.92762 ...     55      21  970800   \n",
       "2  MULTIPOLYGON (((-89.92825 43.26930, -89.92762 ...     55      25   12900   \n",
       "3  MULTIPOLYGON (((-89.92825 43.26930, -89.92762 ...     55      25   13100   \n",
       "4  MULTIPOLYGON (((-89.92825 43.26930, -89.92762 ...     55     111     600   \n",
       "\n",
       "         GEOID  POPPT  HUPT  ...  ZPOPPCT  ZHUPCT  ZAREAPCT  ZAREALANDPCT  \\\n",
       "0  55025003200      0     0  ...     0.00    0.00    100.00        100.00   \n",
       "1  55021970800     53    61  ...     0.92    2.45      0.20          0.14   \n",
       "2  55025012900   1442   578  ...    25.09   23.21     32.93         33.50   \n",
       "3  55025013100     14     6  ...     0.24    0.24      0.11          0.12   \n",
       "4  55111000600    974   403  ...    16.95   16.18     10.94         11.45   \n",
       "\n",
       "   TRPOPPCT  TRHUPCT  TRAREAPCT  TRAREALANDPCT           ct  county  \n",
       "0      0.00     0.00       2.15           2.20  55025003200   55025  \n",
       "1      0.95     2.27       0.33           0.23  55021970800   55021  \n",
       "2     38.49    35.14      27.81          27.56  55025012900   55025  \n",
       "3      0.31     0.30       0.18           0.18  55025013100   55025  \n",
       "4     14.81    14.25      10.43          10.47  55111000600   55111  \n",
       "\n",
       "[5 rows x 30 columns]"
      ]
     },
     "execution_count": 12,
     "metadata": {},
     "output_type": "execute_result"
    }
   ],
   "source": [
    "# Join ZCTA and CT in the Dane County\n",
    "zcta_ct_relationship_dane = pd.merge(left=zcta_dane, right=zcta_ct_relationship, on=\"ZCTA5\")\n",
    "zcta_ct_relationship_dane.head()"
   ]
  },
  {
   "cell_type": "code",
   "execution_count": null,
   "metadata": {
    "id": "AXLxx_aNMFNZ",
    "outputId": "b152c98a-fa91-4be9-dd37-8b2aed25368b"
   },
   "outputs": [
    {
     "data": {
      "text/plain": [
       "((50, 4), (148897, 27), (273, 30))"
      ]
     },
     "execution_count": 13,
     "metadata": {},
     "output_type": "execute_result"
    }
   ],
   "source": [
    "zcta_dane.shape, zcta_ct_relationship.shape, zcta_ct_relationship_dane.shape"
   ]
  },
  {
   "cell_type": "code",
   "execution_count": null,
   "metadata": {
    "id": "9nllvlZSMFNZ",
    "outputId": "0d9411eb-efa1-4e9a-b6d1-7b896693754a"
   },
   "outputs": [
    {
     "data": {
      "text/html": [
       "<div>\n",
       "<style scoped>\n",
       "    .dataframe tbody tr th:only-of-type {\n",
       "        vertical-align: middle;\n",
       "    }\n",
       "\n",
       "    .dataframe tbody tr th {\n",
       "        vertical-align: top;\n",
       "    }\n",
       "\n",
       "    .dataframe thead th {\n",
       "        text-align: right;\n",
       "    }\n",
       "</style>\n",
       "<table border=\"1\" class=\"dataframe\">\n",
       "  <thead>\n",
       "    <tr style=\"text-align: right;\">\n",
       "      <th></th>\n",
       "      <th>ZCTA5</th>\n",
       "      <th>ALAND10</th>\n",
       "      <th>AWATER10</th>\n",
       "      <th>geometry</th>\n",
       "      <th>STATE</th>\n",
       "      <th>COUNTY</th>\n",
       "      <th>TRACT</th>\n",
       "      <th>GEOID</th>\n",
       "      <th>POPPT</th>\n",
       "      <th>HUPT</th>\n",
       "      <th>...</th>\n",
       "      <th>TRPOPPCT</th>\n",
       "      <th>TRHUPCT</th>\n",
       "      <th>TRAREAPCT</th>\n",
       "      <th>TRAREALANDPCT</th>\n",
       "      <th>ct</th>\n",
       "      <th>county_x</th>\n",
       "      <th>date</th>\n",
       "      <th>positive</th>\n",
       "      <th>county_y</th>\n",
       "      <th>Risk_Label</th>\n",
       "    </tr>\n",
       "  </thead>\n",
       "  <tbody>\n",
       "    <tr>\n",
       "      <th>0</th>\n",
       "      <td>53792</td>\n",
       "      <td>54498</td>\n",
       "      <td>0</td>\n",
       "      <td>POLYGON ((-89.43192 43.07882, -89.43091 43.078...</td>\n",
       "      <td>55</td>\n",
       "      <td>25</td>\n",
       "      <td>3200</td>\n",
       "      <td>55025003200</td>\n",
       "      <td>0</td>\n",
       "      <td>0</td>\n",
       "      <td>...</td>\n",
       "      <td>0.0</td>\n",
       "      <td>0.0</td>\n",
       "      <td>2.15</td>\n",
       "      <td>2.2</td>\n",
       "      <td>55025003200</td>\n",
       "      <td>55025</td>\n",
       "      <td>2021-12-08T20:00:00Z</td>\n",
       "      <td>91</td>\n",
       "      <td>55025</td>\n",
       "      <td>Low</td>\n",
       "    </tr>\n",
       "  </tbody>\n",
       "</table>\n",
       "<p>1 rows × 34 columns</p>\n",
       "</div>"
      ],
      "text/plain": [
       "   ZCTA5  ALAND10  AWATER10  \\\n",
       "0  53792    54498         0   \n",
       "\n",
       "                                            geometry  STATE  COUNTY  TRACT  \\\n",
       "0  POLYGON ((-89.43192 43.07882, -89.43091 43.078...     55      25   3200   \n",
       "\n",
       "         GEOID  POPPT  HUPT  ...  TRPOPPCT  TRHUPCT  TRAREAPCT  TRAREALANDPCT  \\\n",
       "0  55025003200      0     0  ...       0.0      0.0       2.15            2.2   \n",
       "\n",
       "            ct  county_x                  date  positive  county_y  Risk_Label  \n",
       "0  55025003200     55025  2021-12-08T20:00:00Z        91     55025         Low  \n",
       "\n",
       "[1 rows x 34 columns]"
      ]
     },
     "execution_count": 14,
     "metadata": {},
     "output_type": "execute_result"
    }
   ],
   "source": [
    "# Assign COVID-19 data to each CT in the Dane County\n",
    "zcta_ct_cases_dane = zcta_ct_relationship_dane.merge(covid_data, on=\"ct\")\n",
    "zcta_ct_cases_dane.head(1)"
   ]
  },
  {
   "cell_type": "code",
   "execution_count": null,
   "metadata": {
    "id": "nUo4L4dPMFNZ",
    "outputId": "0ae8342d-e341-48a7-8198-df639b7598c6"
   },
   "outputs": [
    {
     "data": {
      "text/plain": [
       "Index(['ZCTA5', 'ALAND10', 'AWATER10', 'geometry', 'STATE', 'COUNTY', 'TRACT',\n",
       "       'GEOID', 'POPPT', 'HUPT', 'AREAPT', ' AREALANDPT', 'ZPOP', 'ZHU',\n",
       "       'ZAREA', 'ZAREALAND', 'TRPOP', 'TRHU', 'TRAREA', 'TRAREALAND',\n",
       "       'ZPOPPCT', 'ZHUPCT', 'ZAREAPCT', 'ZAREALANDPCT', 'TRPOPPCT', 'TRHUPCT',\n",
       "       'TRAREAPCT', 'TRAREALANDPCT', 'ct', 'county_x', 'date', 'positive',\n",
       "       'county_y', 'Risk_Label'],\n",
       "      dtype='object')"
      ]
     },
     "execution_count": 15,
     "metadata": {},
     "output_type": "execute_result"
    }
   ],
   "source": [
    "zcta_ct_cases_dane.columns"
   ]
  },
  {
   "cell_type": "code",
   "execution_count": null,
   "metadata": {
    "id": "RsGm-xTkPOZg"
   },
   "outputs": [],
   "source": [
    "# Compute the weighted confirmed cases\n",
    "zcta_ct_cases_dane[\"pop_weighted_positive\"] = zcta_ct_cases_dane.apply(lambda x: your code, axis=1)\n",
    "zcta_ct_cases_dane[\"area_weighted_positive\"] = zcta_ct_cases_dane.apply(lambda x: your code, axis=1)\n",
    "# Compute the weighted confirmed cases at the ZCTA level\n",
    "zcta_cases_dane = zcta_ct_cases_dane.groupby(\"ZCTA5\").sum()"
   ]
  },
  {
   "cell_type": "markdown",
   "metadata": {
    "id": "LNzu2TWhMFNa"
   },
   "source": [
    "# Task"
   ]
  },
  {
   "cell_type": "markdown",
   "metadata": {
    "id": "BcbfwxW1MFNa"
   },
   "source": [
    "Submit the code (.ipynb) and CSV files at the ZCTA level.  \n",
    "Task 1:  \n",
    "You are a spatial data scientist working on a COVID-19 project that requires zip-code level data. \n",
    "However, the Wisconsin Department of Health Services only publishes daily updates of number of confirmed cases at the census tract level. \n",
    "Please download the latest data about the COVID-19 \"POSITIVE\" cases at the census tract level and aggregate to zip-code-tabular-areas (ZCTA) in Dane County, WI.\n",
    "Save the result file as a CSV file and name it as “Yourname_ZCTA_Positive.csv”. \n",
    "Compare the result differences between two different weighting aggregation approaches: population-based weights vs. area-based weights. \n",
    "Comment on your findings. \n",
    "(Hint: you can use df.corr() to check the correlation coefficient)\n",
    "\n",
    "Task 2:  \n",
    "Monitoring dynamic human mobility changes and travel flow patterns at different geographic scales is crucial for understanding human behavior changes during the pandemic. The open data created by the GeoDS Lab at UW-Madison is only available at the census tract, county, and state level. Please download one week of \"weekly flow data\" at the census tract level for Dane County, WI and convert them to ZCTA-to-ZCTA flow data matrix. Please name the result file as “Yourname_[Date]_ZCTA_Flow.csv”."
   ]
  },
  {
   "cell_type": "code",
   "execution_count": null,
   "metadata": {
    "id": "GXCW-MI5MFNb"
   },
   "outputs": [],
   "source": []
  }
 ],
 "metadata": {
  "colab": {
   "provenance": []
  },
  "kernelspec": {
   "display_name": "Python 3 (ipykernel)",
   "language": "python",
   "name": "python3"
  },
  "language_info": {
   "codemirror_mode": {
    "name": "ipython",
    "version": 3
   },
   "file_extension": ".py",
   "mimetype": "text/x-python",
   "name": "python",
   "nbconvert_exporter": "python",
   "pygments_lexer": "ipython3",
   "version": "3.9.7"
  }
 },
 "nbformat": 4,
 "nbformat_minor": 4
}
