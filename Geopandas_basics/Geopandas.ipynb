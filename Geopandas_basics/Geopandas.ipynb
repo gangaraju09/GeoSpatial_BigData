{
 "cells": [
  {
   "cell_type": "code",
   "execution_count": 3,
   "id": "ed6af68b-5948-4e7b-a45a-8a58bc78940a",
   "metadata": {},
   "outputs": [],
   "source": [
    "import os\n",
    "import pandas as pd\n",
    "import json"
   ]
  },
  {
   "cell_type": "code",
   "execution_count": 4,
   "id": "4d405b45-22e3-4991-8965-a88de6f23b48",
   "metadata": {},
   "outputs": [
    {
     "data": {
      "text/html": [
       "<div>\n",
       "<style scoped>\n",
       "    .dataframe tbody tr th:only-of-type {\n",
       "        vertical-align: middle;\n",
       "    }\n",
       "\n",
       "    .dataframe tbody tr th {\n",
       "        vertical-align: top;\n",
       "    }\n",
       "\n",
       "    .dataframe thead th {\n",
       "        text-align: right;\n",
       "    }\n",
       "</style>\n",
       "<table border=\"1\" class=\"dataframe\">\n",
       "  <thead>\n",
       "    <tr style=\"text-align: right;\">\n",
       "      <th></th>\n",
       "      <th>id</th>\n",
       "      <th>latitude</th>\n",
       "      <th>longitude</th>\n",
       "      <th>city</th>\n",
       "      <th>label</th>\n",
       "      <th>yr1970</th>\n",
       "      <th>yr1975</th>\n",
       "      <th>yr1980</th>\n",
       "      <th>yr1985</th>\n",
       "      <th>yr1990</th>\n",
       "      <th>yr1995</th>\n",
       "      <th>yr2000</th>\n",
       "      <th>yr2005</th>\n",
       "      <th>yr2010</th>\n",
       "    </tr>\n",
       "  </thead>\n",
       "  <tbody>\n",
       "    <tr>\n",
       "      <th>0</th>\n",
       "      <td>1</td>\n",
       "      <td>35.683208</td>\n",
       "      <td>139.808945</td>\n",
       "      <td>Tokyo</td>\n",
       "      <td>Tokyo</td>\n",
       "      <td>23.30</td>\n",
       "      <td>26.61</td>\n",
       "      <td>28.55</td>\n",
       "      <td>30.30</td>\n",
       "      <td>32.53</td>\n",
       "      <td>33.59</td>\n",
       "      <td>34.45</td>\n",
       "      <td>35.62</td>\n",
       "      <td>36.67</td>\n",
       "    </tr>\n",
       "    <tr>\n",
       "      <th>1</th>\n",
       "      <td>2</td>\n",
       "      <td>28.608280</td>\n",
       "      <td>77.200813</td>\n",
       "      <td>New_Delhi</td>\n",
       "      <td>New Delhi</td>\n",
       "      <td>3.53</td>\n",
       "      <td>4.43</td>\n",
       "      <td>5.56</td>\n",
       "      <td>7.33</td>\n",
       "      <td>9.73</td>\n",
       "      <td>12.41</td>\n",
       "      <td>15.73</td>\n",
       "      <td>19.49</td>\n",
       "      <td>22.16</td>\n",
       "    </tr>\n",
       "    <tr>\n",
       "      <th>2</th>\n",
       "      <td>3</td>\n",
       "      <td>-23.562839</td>\n",
       "      <td>-46.654640</td>\n",
       "      <td>Sao_Paulo</td>\n",
       "      <td>Sao Paulo</td>\n",
       "      <td>7.62</td>\n",
       "      <td>9.61</td>\n",
       "      <td>12.09</td>\n",
       "      <td>13.39</td>\n",
       "      <td>14.78</td>\n",
       "      <td>15.95</td>\n",
       "      <td>17.10</td>\n",
       "      <td>18.65</td>\n",
       "      <td>20.26</td>\n",
       "    </tr>\n",
       "    <tr>\n",
       "      <th>3</th>\n",
       "      <td>4</td>\n",
       "      <td>18.930130</td>\n",
       "      <td>72.830093</td>\n",
       "      <td>Mumbai</td>\n",
       "      <td>Mumbai</td>\n",
       "      <td>5.81</td>\n",
       "      <td>7.08</td>\n",
       "      <td>8.66</td>\n",
       "      <td>10.34</td>\n",
       "      <td>12.31</td>\n",
       "      <td>14.11</td>\n",
       "      <td>16.09</td>\n",
       "      <td>18.21</td>\n",
       "      <td>20.04</td>\n",
       "    </tr>\n",
       "    <tr>\n",
       "      <th>4</th>\n",
       "      <td>5</td>\n",
       "      <td>19.431959</td>\n",
       "      <td>-99.133163</td>\n",
       "      <td>Mexico_City</td>\n",
       "      <td>Mexico City</td>\n",
       "      <td>8.77</td>\n",
       "      <td>10.69</td>\n",
       "      <td>13.01</td>\n",
       "      <td>14.11</td>\n",
       "      <td>15.31</td>\n",
       "      <td>16.81</td>\n",
       "      <td>18.02</td>\n",
       "      <td>18.73</td>\n",
       "      <td>19.46</td>\n",
       "    </tr>\n",
       "  </tbody>\n",
       "</table>\n",
       "</div>"
      ],
      "text/plain": [
       "   id   latitude   longitude         city        label  yr1970  yr1975  \\\n",
       "0   1  35.683208  139.808945        Tokyo        Tokyo   23.30   26.61   \n",
       "1   2  28.608280   77.200813    New_Delhi    New Delhi    3.53    4.43   \n",
       "2   3 -23.562839  -46.654640    Sao_Paulo    Sao Paulo    7.62    9.61   \n",
       "3   4  18.930130   72.830093       Mumbai       Mumbai    5.81    7.08   \n",
       "4   5  19.431959  -99.133163  Mexico_City  Mexico City    8.77   10.69   \n",
       "\n",
       "   yr1980  yr1985  yr1990  yr1995  yr2000  yr2005  yr2010  \n",
       "0   28.55   30.30   32.53   33.59   34.45   35.62   36.67  \n",
       "1    5.56    7.33    9.73   12.41   15.73   19.49   22.16  \n",
       "2   12.09   13.39   14.78   15.95   17.10   18.65   20.26  \n",
       "3    8.66   10.34   12.31   14.11   16.09   18.21   20.04  \n",
       "4   13.01   14.11   15.31   16.81   18.02   18.73   19.46  "
      ]
     },
     "execution_count": 4,
     "metadata": {},
     "output_type": "execute_result"
    }
   ],
   "source": [
    "cityPop_df = pd.read_csv('CityPop.csv')\n",
    "cityPop_df.head()"
   ]
  },
  {
   "cell_type": "code",
   "execution_count": 10,
   "id": "a9def9fc-b142-4865-9a2d-a8a41208742b",
   "metadata": {},
   "outputs": [],
   "source": [
    "cityPop_df.to_csv('CityPop_new.csv', index = False)"
   ]
  },
  {
   "cell_type": "code",
   "execution_count": 11,
   "id": "dbcb572e-d52b-4720-acd9-4426b71f70fe",
   "metadata": {},
   "outputs": [
    {
     "name": "stdout",
     "output_type": "stream",
     "text": [
      "File export is success\n"
     ]
    }
   ],
   "source": [
    "def fileExist(filename):\n",
    "    try:\n",
    "        if os.path.exists(filename):\n",
    "            print('File export is success')\n",
    "        else:\n",
    "            print('file not exported')\n",
    "    except Exception as e:\n",
    "        print(str(e))\n",
    "\n",
    "fileExist('CityPop_new.csv')"
   ]
  },
  {
   "cell_type": "code",
   "execution_count": 6,
   "id": "a0692ec7-01f9-46c1-a0e4-505b64cea72c",
   "metadata": {},
   "outputs": [],
   "source": [
    "r = {'placetype': 'coffee shop','name': 'Starbucks','rating':'4.5'}"
   ]
  },
  {
   "cell_type": "code",
   "execution_count": 12,
   "id": "10a72ce7-2206-4f4c-85df-3f5f5ccfb398",
   "metadata": {},
   "outputs": [
    {
     "name": "stdout",
     "output_type": "stream",
     "text": [
      "{'placetype': 'coffee shop', 'name': 'Starbucks', 'rating': '4.5'}\n",
      "<class 'dict'>\n"
     ]
    }
   ],
   "source": [
    "print(r)\n",
    "print(type(r))"
   ]
  },
  {
   "cell_type": "markdown",
   "id": "e84a68c8-46c2-4adf-849b-69382cf1898f",
   "metadata": {},
   "source": [
    "### to create json file"
   ]
  },
  {
   "cell_type": "code",
   "execution_count": 13,
   "id": "90305ecf-b1b6-488a-85e0-a68391c61bf0",
   "metadata": {},
   "outputs": [
    {
     "name": "stdout",
     "output_type": "stream",
     "text": [
      "json data:  {\"placetype\": \"coffee shop\", \"name\": \"Starbucks\", \"rating\": \"4.5\"}\n",
      "<class 'str'>\n"
     ]
    }
   ],
   "source": [
    "json_data = json.dumps(r) #defined r data is dumping in json_data variable\n",
    "print('json data: ',json_data)\n",
    "print(type(json_data))"
   ]
  },
  {
   "cell_type": "markdown",
   "id": "fcac6044-8e9c-4cd8-8786-e60156513fe4",
   "metadata": {},
   "source": [
    "### to save created json data"
   ]
  },
  {
   "cell_type": "code",
   "execution_count": 14,
   "id": "bd5c6cee-4cd6-4574-9fe5-73694945b707",
   "metadata": {},
   "outputs": [
    {
     "name": "stdout",
     "output_type": "stream",
     "text": [
      "File export is success\n"
     ]
    }
   ],
   "source": [
    "with open('json.json', 'w') as json_file:\n",
    "    json_file.write(json_data)\n",
    "\n",
    "fileExist('json.json')"
   ]
  },
  {
   "cell_type": "markdown",
   "id": "4629d451-3a54-4178-831b-cbd624628cea",
   "metadata": {},
   "source": [
    "### to open a Json File"
   ]
  },
  {
   "cell_type": "code",
   "execution_count": 15,
   "id": "bc426c5d-559b-4497-a64d-28f0336fafab",
   "metadata": {},
   "outputs": [
    {
     "name": "stdout",
     "output_type": "stream",
     "text": [
      "{\"placetype\": \"coffee shop\", \"name\": \"Starbucks\", \"rating\": \"4.5\"}\n"
     ]
    }
   ],
   "source": [
    "json_loads = json.loads(json_data)\n",
    "print(json_data)"
   ]
  },
  {
   "cell_type": "code",
   "execution_count": 16,
   "id": "94decee5-db8f-4c20-8bb7-d1181196efbd",
   "metadata": {},
   "outputs": [
    {
     "name": "stdout",
     "output_type": "stream",
     "text": [
      "4.5\n",
      "<class 'dict'>\n"
     ]
    }
   ],
   "source": [
    "print(json_loads['rating'])\n",
    "print(type(json_loads))"
   ]
  },
  {
   "cell_type": "markdown",
   "id": "41335095-4a7e-4008-b721-60aac78770be",
   "metadata": {},
   "source": [
    "## 1. To convert CSV to json"
   ]
  },
  {
   "cell_type": "markdown",
   "id": "dc723f93-8c22-4354-8872-903834b859b1",
   "metadata": {},
   "source": [
    "##### first load data; cityPop_df = pd.read_csv('CityPop.csv')"
   ]
  },
  {
   "cell_type": "markdown",
   "id": "4117222e-f785-4aca-a9b3-d801d7dc3a8e",
   "metadata": {},
   "source": [
    "##### Check data types of attributes in data and load data in dictionaries format"
   ]
  },
  {
   "cell_type": "code",
   "execution_count": 17,
   "id": "98626e7c-a090-49e5-9c5e-4f6abb3a763e",
   "metadata": {},
   "outputs": [
    {
     "name": "stdout",
     "output_type": "stream",
     "text": [
      "int64\n",
      "float64\n",
      "float64\n"
     ]
    }
   ],
   "source": [
    "print(cityPop_df['id'].dtypes)\n",
    "print(cityPop_df['latitude'].dtypes)\n",
    "print(cityPop_df['longitude'].dtypes)"
   ]
  },
  {
   "cell_type": "code",
   "execution_count": 18,
   "id": "f64b9c02-76fd-41a2-8e51-8425e6c2893a",
   "metadata": {},
   "outputs": [
    {
     "name": "stdout",
     "output_type": "stream",
     "text": [
      "['id', 'latitude', 'longitude', 'city', 'label', 'yr1970', 'yr1975', 'yr1980', 'yr1985', 'yr1990', 'yr1995', 'yr2000', 'yr2005', 'yr2010']\n"
     ]
    }
   ],
   "source": [
    "header = list(cityPop_df.columns.values)\n",
    "print(header)"
   ]
  },
  {
   "cell_type": "code",
   "execution_count": 19,
   "id": "d9df18f3-b532-4ca9-a4f3-b628728c93bc",
   "metadata": {
    "collapsed": true,
    "jupyter": {
     "outputs_hidden": true
    },
    "tags": []
   },
   "outputs": [
    {
     "name": "stdout",
     "output_type": "stream",
     "text": [
      "id                    1\n",
      "latitude      35.683208\n",
      "longitude    139.808945\n",
      "city              Tokyo\n",
      "label             Tokyo\n",
      "yr1970             23.3\n",
      "yr1975            26.61\n",
      "yr1980            28.55\n",
      "yr1985             30.3\n",
      "yr1990            32.53\n",
      "yr1995            33.59\n",
      "yr2000            34.45\n",
      "yr2005            35.62\n",
      "yr2010            36.67\n",
      "Name: 0, dtype: object\n"
     ]
    }
   ],
   "source": [
    "pop_allyears= {}\n",
    "for index,row in cityPop_df.iterrows():\n",
    "    print(row)\n",
    "    \n",
    "    break"
   ]
  },
  {
   "cell_type": "code",
   "execution_count": 50,
   "id": "6f0cdc1e-5d1e-4377-b8c9-68f73ad03607",
   "metadata": {
    "collapsed": true,
    "jupyter": {
     "outputs_hidden": true
    },
    "tags": []
   },
   "outputs": [
    {
     "name": "stdout",
     "output_type": "stream",
     "text": [
      "[{'id': 1, 'latitude': 35.6832085, 'longitude': 139.8089447, 'city': 'Tokyo', 'label': 'Tokyo', 'yr1970': 23.3, 'yr1975': 26.61, 'yr1980': 28.55, 'yr1985': 30.3, 'yr1990': 32.53, 'yr1995': 33.59, 'yr2000': 34.45, 'yr2005': 35.62, 'yr2010': 36.67}, {'id': 2, 'latitude': 28.6082802, 'longitude': 77.2008133, 'city': 'New_Delhi', 'label': 'New Delhi', 'yr1970': 3.53, 'yr1975': 4.43, 'yr1980': 5.56, 'yr1985': 7.33, 'yr1990': 9.73, 'yr1995': 12.41, 'yr2000': 15.73, 'yr2005': 19.49, 'yr2010': 22.16}, {'id': 3, 'latitude': -23.5628395, 'longitude': -46.6546402, 'city': 'Sao_Paulo', 'label': 'Sao Paulo', 'yr1970': 7.62, 'yr1975': 9.61, 'yr1980': 12.09, 'yr1985': 13.39, 'yr1990': 14.78, 'yr1995': 15.95, 'yr2000': 17.1, 'yr2005': 18.65, 'yr2010': 20.26}, {'id': 4, 'latitude': 18.93013, 'longitude': 72.8300934, 'city': 'Mumbai', 'label': 'Mumbai', 'yr1970': 5.81, 'yr1975': 7.08, 'yr1980': 8.66, 'yr1985': 10.34, 'yr1990': 12.31, 'yr1995': 14.11, 'yr2000': 16.09, 'yr2005': 18.21, 'yr2010': 20.04}, {'id': 5, 'latitude': 19.4319592, 'longitude': -99.1331635, 'city': 'Mexico_City', 'label': 'Mexico City', 'yr1970': 8.77, 'yr1975': 10.69, 'yr1980': 13.01, 'yr1985': 14.11, 'yr1990': 15.31, 'yr1995': 16.81, 'yr2000': 18.02, 'yr2005': 18.73, 'yr2010': 19.46}, {'id': 6, 'latitude': 40.7820015, 'longitude': -73.8327026, 'city': 'New_York', 'label': 'New York', 'yr1970': 16.19, 'yr1975': 15.88, 'yr1980': 15.6, 'yr1985': 15.83, 'yr1990': 16.09, 'yr1995': 16.94, 'yr2000': 17.85, 'yr2005': 18.73, 'yr2010': 19.43}, {'id': 7, 'latitude': 31.2551594, 'longitude': 121.4747009, 'city': 'Shanghai', 'label': 'Shanghai', 'yr1970': 6.04, 'yr1975': 5.63, 'yr1980': 5.97, 'yr1985': 6.85, 'yr1990': 7.82, 'yr1995': 10.17, 'yr2000': 13.22, 'yr2005': 15.18, 'yr2010': 16.58}, {'id': 8, 'latitude': 22.5650902, 'longitude': 88.3707809, 'city': 'Kolkata', 'label': 'Kolkata', 'yr1970': 6.93, 'yr1975': 7.89, 'yr1980': 9.03, 'yr1985': 9.95, 'yr1990': 10.89, 'yr1995': 11.92, 'yr2000': 13.06, 'yr2005': 14.28, 'yr2010': 15.55}, {'id': 9, 'latitude': 23.7132301, 'longitude': 90.3995667, 'city': 'Dhaka', 'label': 'Dhaka', 'yr1970': 0.0, 'yr1975': 0.0, 'yr1980': 0.0, 'yr1985': 4.66, 'yr1990': 6.62, 'yr1995': 8.33, 'yr2000': 10.28, 'yr2005': 12.56, 'yr2010': 14.65}, {'id': 10, 'latitude': 24.9267101, 'longitude': 67.0343704, 'city': 'Karachi', 'label': 'Karachi', 'yr1970': 0.0, 'yr1975': 3.99, 'yr1980': 5.05, 'yr1985': 6.03, 'yr1990': 7.15, 'yr1995': 8.47, 'yr2000': 10.02, 'yr2005': 11.62, 'yr2010': 13.12}, {'id': 11, 'latitude': -34.6085091, 'longitude': -58.3734894, 'city': 'Buenos_Aires', 'label': 'Buenos Aires', 'yr1970': 8.1, 'yr1975': 8.74, 'yr1980': 9.42, 'yr1985': 9.96, 'yr1990': 10.51, 'yr1995': 11.15, 'yr2000': 11.85, 'yr2005': 12.55, 'yr2010': 13.07}, {'id': 12, 'latitude': 34.0534897, 'longitude': -118.2453232, 'city': 'Los_Angeles', 'label': 'Los Angeles', 'yr1970': 8.38, 'yr1975': 8.93, 'yr1980': 9.51, 'yr1985': 10.18, 'yr1990': 10.88, 'yr1995': 11.34, 'yr2000': 11.81, 'yr2005': 12.3, 'yr2010': 12.76}, {'id': 13, 'latitude': 39.9065704, 'longitude': 116.3876495, 'city': 'Beijing', 'label': 'Beijing', 'yr1970': 4.43, 'yr1975': 4.83, 'yr1980': 5.37, 'yr1985': 6.02, 'yr1990': 6.79, 'yr1995': 8.14, 'yr2000': 9.76, 'yr2005': 11.45, 'yr2010': 12.39}, {'id': 14, 'latitude': -22.9121609, 'longitude': -43.1750107, 'city': 'Rio_de_Janeiro', 'label': 'Rio de Janeiro', 'yr1970': 6.64, 'yr1975': 7.56, 'yr1980': 8.58, 'yr1985': 9.09, 'yr1990': 9.59, 'yr1995': 10.17, 'yr2000': 10.8, 'yr2005': 11.37, 'yr2010': 11.95}, {'id': 15, 'latitude': 14.58743, 'longitude': 120.9836807, 'city': 'Manila', 'label': 'Manila', 'yr1970': 3.53, 'yr1975': 5.0, 'yr1980': 5.95, 'yr1985': 6.89, 'yr1990': 7.97, 'yr1995': 9.4, 'yr2000': 9.96, 'yr2005': 10.76, 'yr2010': 11.63}, {'id': 16, 'latitude': 35.0763016, 'longitude': 133.5659943, 'city': 'Osaka_Kobe', 'label': 'Osaka-Kobe', 'yr1970': 9.41, 'yr1975': 9.84, 'yr1980': 9.99, 'yr1985': 10.35, 'yr1990': 11.04, 'yr1995': 11.05, 'yr2000': 11.17, 'yr2005': 11.26, 'yr2010': 11.34}, {'id': 17, 'latitude': 37.0051003, 'longitude': -89.1762695, 'city': 'Cairo', 'label': 'Cairo', 'yr1970': 5.58, 'yr1975': 6.45, 'yr1980': 7.35, 'yr1985': 8.33, 'yr1990': 9.06, 'yr1995': 9.71, 'yr2000': 10.17, 'yr2005': 10.56, 'yr2010': 11.0}, {'id': 18, 'latitude': 6.45471, 'longitude': 3.3887601, 'city': 'Lagos', 'label': 'Lagos', 'yr1970': 0.0, 'yr1975': 0.0, 'yr1980': 0.0, 'yr1985': 0.0, 'yr1990': 0.0, 'yr1995': 5.97, 'yr2000': 7.23, 'yr2005': 8.77, 'yr2010': 10.58}, {'id': 19, 'latitude': 55.7569695, 'longitude': 37.6150208, 'city': 'Moscow', 'label': 'Moscow', 'yr1970': 7.11, 'yr1975': 7.62, 'yr1980': 8.14, 'yr1985': 8.58, 'yr1990': 8.99, 'yr1995': 9.2, 'yr2000': 10.0, 'yr2005': 10.42, 'yr2010': 10.55}, {'id': 20, 'latitude': 41.0409584, 'longitude': 28.9857998, 'city': 'Istanbul', 'label': 'Istanbul', 'yr1970': 0.0, 'yr1975': 0.0, 'yr1980': 4.4, 'yr1985': 5.41, 'yr1990': 6.55, 'yr1995': 7.67, 'yr2000': 8.74, 'yr2005': 9.71, 'yr2010': 10.52}, {'id': 21, 'latitude': 48.8569298, 'longitude': 2.3412001, 'city': 'Paris', 'label': 'Paris', 'yr1970': 8.35, 'yr1975': 8.56, 'yr1980': 8.67, 'yr1985': 8.96, 'yr1990': 9.33, 'yr1995': 9.51, 'yr2000': 9.74, 'yr2005': 10.11, 'yr2010': 10.49}, {'id': 22, 'latitude': 37.5150185, 'longitude': 127.0164719, 'city': 'Seoul', 'label': 'Seoul', 'yr1970': 5.31, 'yr1975': 6.81, 'yr1980': 8.26, 'yr1985': 9.55, 'yr1990': 10.54, 'yr1995': 10.26, 'yr2000': 9.92, 'yr2005': 9.83, 'yr2010': 9.77}, {'id': 23, 'latitude': 29.5509491, 'longitude': 106.5193481, 'city': 'Chongqing', 'label': 'Chongqing', 'yr1970': 0.0, 'yr1975': 0.0, 'yr1980': 0.0, 'yr1985': 0.0, 'yr1990': 0.0, 'yr1995': 0.0, 'yr2000': 0.0, 'yr2005': 0.0, 'yr2010': 9.4}, {'id': 24, 'latitude': -6.1714902, 'longitude': 106.8275223, 'city': 'Jakarta', 'label': 'Jakarta', 'yr1970': 3.92, 'yr1975': 4.81, 'yr1980': 5.98, 'yr1985': 7.01, 'yr1990': 8.18, 'yr1995': 8.32, 'yr2000': 8.39, 'yr2005': 8.79, 'yr2010': 9.21}, {'id': 25, 'latitude': 41.8842506, 'longitude': -87.6324463, 'city': 'Chicago', 'label': 'Chicago', 'yr1970': 7.11, 'yr1975': 7.16, 'yr1980': 7.22, 'yr1985': 7.29, 'yr1990': 7.37, 'yr1995': 7.84, 'yr2000': 8.33, 'yr2005': 8.82, 'yr2010': 9.2}, {'id': 26, 'latitude': 22.5562191, 'longitude': 114.1187897, 'city': 'Shenzhen', 'label': 'Shenzhen', 'yr1970': 0.0, 'yr1975': 0.0, 'yr1980': 0.0, 'yr1985': 0.0, 'yr1990': 0.0, 'yr1995': 0.0, 'yr2000': 0.0, 'yr2005': 7.93, 'yr2010': 9.01}, {'id': 27, 'latitude': -12.0561399, 'longitude': -77.0268021, 'city': 'Lima', 'label': 'Lima', 'yr1970': 0.0, 'yr1975': 3.7, 'yr1980': 4.44, 'yr1985': 5.12, 'yr1990': 5.84, 'yr1995': 6.58, 'yr2000': 7.29, 'yr2005': 8.08, 'yr2010': 8.94}, {'id': 28, 'latitude': 23.1133709, 'longitude': 113.2552338, 'city': 'Guangzhou', 'label': 'Guangzhou', 'yr1970': 0.0, 'yr1975': 0.0, 'yr1980': 0.0, 'yr1985': 0.0, 'yr1990': 0.0, 'yr1995': 0.0, 'yr2000': 7.33, 'yr2005': 8.16, 'yr2010': 8.88}, {'id': 29, 'latitude': -4.3122201, 'longitude': 15.2895298, 'city': 'Kinshasa', 'label': 'Kinshasa', 'yr1970': 0.0, 'yr1975': 0.0, 'yr1980': 0.0, 'yr1985': 0.0, 'yr1990': 0.0, 'yr1995': 0.0, 'yr2000': 0.0, 'yr2005': 0.0, 'yr2010': 8.75}, {'id': 30, 'latitude': 51.5064316, 'longitude': -0.12719, 'city': 'London', 'label': 'London', 'yr1970': 7.51, 'yr1975': 7.55, 'yr1980': 7.66, 'yr1985': 7.67, 'yr1990': 7.65, 'yr1995': 7.91, 'yr2000': 8.22, 'yr2005': 8.51, 'yr2010': 8.63}, {'id': 31, 'latitude': 39.1449394, 'longitude': 117.2005692, 'city': 'Tianjin', 'label': 'Tianjin', 'yr1970': 3.32, 'yr1975': 0.0, 'yr1980': 0.0, 'yr1985': 0.0, 'yr1990': 0.0, 'yr1995': 0.0, 'yr2000': 6.67, 'yr2005': 7.28, 'yr2010': 0.0}, {'id': 32, 'latitude': 22.3361568, 'longitude': 114.1869659, 'city': 'Hong_Kong', 'label': 'Hong Kong', 'yr1970': 3.46, 'yr1975': 3.94, 'yr1980': 4.61, 'yr1985': 5.07, 'yr1990': 5.68, 'yr1995': 6.21, 'yr2000': 6.67, 'yr2005': 0.0, 'yr2010': 0.0}, {'id': 33, 'latitude': 35.6895409, 'longitude': 51.4146843, 'city': 'Tehran', 'label': 'Tehran', 'yr1970': 3.29, 'yr1975': 4.27, 'yr1980': 5.08, 'yr1985': 5.84, 'yr1990': 6.36, 'yr1995': 6.69, 'yr2000': 6.88, 'yr2005': 0.0, 'yr2010': 0.0}, {'id': 34, 'latitude': 13.0503302, 'longitude': 80.188591, 'city': 'Chennai', 'label': 'Chennai', 'yr1970': 0.0, 'yr1975': 0.0, 'yr1980': 0.0, 'yr1985': 4.75, 'yr1990': 5.34, 'yr1995': 5.84, 'yr2000': 0.0, 'yr2005': 0.0, 'yr2010': 0.0}, {'id': 35, 'latitude': 13.7533503, 'longitude': 100.5048294, 'city': 'Bangkok', 'label': 'Bangkok', 'yr1970': 0.0, 'yr1975': 3.84, 'yr1980': 4.72, 'yr1985': 5.28, 'yr1990': 5.89, 'yr1995': 6.11, 'yr2000': 0.0, 'yr2005': 0.0, 'yr2010': 0.0}, {'id': 36, 'latitude': 59.9331818, 'longitude': 30.3060303, 'city': 'Saint_Petersburg', 'label': 'St. Petersburg', 'yr1970': 3.98, 'yr1975': 4.33, 'yr1980': 4.64, 'yr1985': 4.84, 'yr1990': 4.99, 'yr1995': 0.0, 'yr2000': 0.0, 'yr2005': 0.0, 'yr2010': 0.0}, {'id': 37, 'latitude': 40.4514008, 'longitude': -3.5631499, 'city': 'Madrid', 'label': 'Madrid', 'yr1970': 3.52, 'yr1975': 3.89, 'yr1980': 4.25, 'yr1985': 0.0, 'yr1990': 0.0, 'yr1995': 0.0, 'yr2000': 0.0, 'yr2005': 0.0, 'yr2010': 0.0}, {'id': 38, 'latitude': 39.9522781, 'longitude': -75.1624527, 'city': 'Philadelphia', 'label': 'Philadelphia', 'yr1970': 4.4, 'yr1975': 4.47, 'yr1980': 4.54, 'yr1985': 0.0, 'yr1990': 0.0, 'yr1995': 0.0, 'yr2000': 0.0, 'yr2005': 0.0, 'yr2010': 0.0}, {'id': 39, 'latitude': 42.3316803, 'longitude': -83.0479202, 'city': 'Detroit', 'label': 'Detroit', 'yr1970': 3.97, 'yr1975': 3.89, 'yr1980': 0.0, 'yr1985': 0.0, 'yr1990': 0.0, 'yr1995': 0.0, 'yr2000': 0.0, 'yr2005': 0.0, 'yr2010': 0.0}]\n"
     ]
    }
   ],
   "source": [
    "citypop_list =[] ##\n",
    "for raw in cityPop_df.itertuples(index = True):\n",
    "    city ={}\n",
    "    city['id'] = getattr(raw,'id')\n",
    "    city['latitude'] = getattr(raw,'latitude')\n",
    "    city['longitude'] = getattr(raw,'longitude')\n",
    "    city['city'] = getattr(raw,'city')\n",
    "    city['label'] =  getattr(raw, \"label\")\n",
    "    city['yr1970'] = getattr(raw, \"yr1970\")\n",
    "    city['yr1975'] = getattr(raw, \"yr1975\")\n",
    "    city['yr1980'] = getattr(raw, \"yr1980\")\n",
    "    city['yr1985'] = getattr(raw, \"yr1985\")\n",
    "    city['yr1990'] = getattr(raw, \"yr1990\")\n",
    "    city['yr1995'] = getattr(raw, \"yr1995\")\n",
    "    city['yr2000'] = getattr(raw, \"yr2000\")\n",
    "    city['yr2005'] = getattr(raw, \"yr2005\")\n",
    "    city['yr2010'] = getattr(raw, \"yr2010\")\n",
    "    \n",
    "    citypop_list.append(city)\n",
    "\n",
    "print(citypop_list)"
   ]
  },
  {
   "cell_type": "markdown",
   "id": "892bdb31-3e33-4de5-aae1-e396c36d9ee3",
   "metadata": {},
   "source": [
    "### CSV to Json"
   ]
  },
  {
   "cell_type": "code",
   "execution_count": 22,
   "id": "6054ab79-ac9f-4735-a2c2-981ac9802dd7",
   "metadata": {},
   "outputs": [
    {
     "name": "stdout",
     "output_type": "stream",
     "text": [
      "File export is success\n"
     ]
    }
   ],
   "source": [
    "citypop_json = json.dumps(citypop_list)\n",
    "with open('citypop_json.json', 'w') as jsonfile:\n",
    "    jsonfile.write(citypop_json)\n",
    "\n",
    "fileExist('citypop_json.json')"
   ]
  },
  {
   "cell_type": "markdown",
   "id": "fc0e1bb4-266a-4b4a-a68c-3b9c19a7c1ba",
   "metadata": {},
   "source": [
    "## 2. Json to Geojson"
   ]
  },
  {
   "cell_type": "markdown",
   "id": "a79e4f9a-249f-4c7a-abfe-16a92ec832be",
   "metadata": {},
   "source": [
    "#### create data variable and load json data"
   ]
  },
  {
   "cell_type": "code",
   "execution_count": 28,
   "id": "003a556e-6cac-42be-be89-2f85486236fe",
   "metadata": {},
   "outputs": [],
   "source": [
    "with open('citypop_json.json','r') as jsonfile:\n",
    "    json_df = json.load(jsonfile)"
   ]
  },
  {
   "cell_type": "code",
   "execution_count": 29,
   "id": "040b21df-ad36-4a7a-90a4-0cfa64ebf07f",
   "metadata": {},
   "outputs": [],
   "source": [
    "geojson_df = { 'type': 'FeatureCollection', \n",
    "              'features': []\n",
    "             }"
   ]
  },
  {
   "cell_type": "markdown",
   "id": "1ab9a399-8591-4bec-a59b-b1e88c57a554",
   "metadata": {},
   "source": [
    "#### loop the json data to create geomentry features in one set and remaining atributes in another set"
   ]
  },
  {
   "cell_type": "code",
   "execution_count": 30,
   "id": "366cc4bf-4cc2-40e2-800f-1b94e9abe9d5",
   "metadata": {},
   "outputs": [],
   "source": [
    "for item in json_df:\n",
    "    feature = {\n",
    "        \"type\": \"Feature\",\n",
    "        \"geometry\": {\n",
    "            \"type\": \"Point\",\n",
    "            \"coordinates\": [item[\"longitude\"], item[\"latitude\"]]\n",
    "        },\n",
    "        \"properties\": item\n",
    "    }\n",
    "    geojson_df[\"features\"].append(feature)"
   ]
  },
  {
   "cell_type": "code",
   "execution_count": 31,
   "id": "99a6c8e1-7366-46d5-b512-13b5bc672d16",
   "metadata": {
    "tags": []
   },
   "outputs": [
    {
     "name": "stdout",
     "output_type": "stream",
     "text": [
      "{'type': 'FeatureCollection', 'features': [{'type': 'Feature', 'geometry': {'type': 'Point', 'coordinates': [139.8089447, 35.6832085]}, 'properties': {'id': 1, 'latitude': 35.6832085, 'longitude': 139.8089447, 'city': 'Tokyo', 'label': 'Tokyo', 'yr1970': 23.3, 'yr1975': 26.61, 'yr1980': 28.55, 'yr1985': 30.3, 'yr1990': 32.53, 'yr1995': 33.59, 'yr2000': 34.45, 'yr2005': 35.62, 'yr2010': 36.67}}, {'type': 'Feature', 'geometry': {'type': 'Point', 'coordinates': [77.2008133, 28.6082802]}, 'properties': {'id': 2, 'latitude': 28.6082802, 'longitude': 77.2008133, 'city': 'New_Delhi', 'label': 'New Delhi', 'yr1970': 3.53, 'yr1975': 4.43, 'yr1980': 5.56, 'yr1985': 7.33, 'yr1990': 9.73, 'yr1995': 12.41, 'yr2000': 15.73, 'yr2005': 19.49, 'yr2010': 22.16}}, {'type': 'Feature', 'geometry': {'type': 'Point', 'coordinates': [-46.6546402, -23.5628395]}, 'properties': {'id': 3, 'latitude': -23.5628395, 'longitude': -46.6546402, 'city': 'Sao_Paulo', 'label': 'Sao Paulo', 'yr1970': 7.62, 'yr1975': 9.61, 'yr1980': 12.09, 'yr1985': 13.39, 'yr1990': 14.78, 'yr1995': 15.95, 'yr2000': 17.1, 'yr2005': 18.65, 'yr2010': 20.26}}, {'type': 'Feature', 'geometry': {'type': 'Point', 'coordinates': [72.8300934, 18.93013]}, 'properties': {'id': 4, 'latitude': 18.93013, 'longitude': 72.8300934, 'city': 'Mumbai', 'label': 'Mumbai', 'yr1970': 5.81, 'yr1975': 7.08, 'yr1980': 8.66, 'yr1985': 10.34, 'yr1990': 12.31, 'yr1995': 14.11, 'yr2000': 16.09, 'yr2005': 18.21, 'yr2010': 20.04}}, {'type': 'Feature', 'geometry': {'type': 'Point', 'coordinates': [-99.1331635, 19.4319592]}, 'properties': {'id': 5, 'latitude': 19.4319592, 'longitude': -99.1331635, 'city': 'Mexico_City', 'label': 'Mexico City', 'yr1970': 8.77, 'yr1975': 10.69, 'yr1980': 13.01, 'yr1985': 14.11, 'yr1990': 15.31, 'yr1995': 16.81, 'yr2000': 18.02, 'yr2005': 18.73, 'yr2010': 19.46}}, {'type': 'Feature', 'geometry': {'type': 'Point', 'coordinates': [-73.8327026, 40.7820015]}, 'properties': {'id': 6, 'latitude': 40.7820015, 'longitude': -73.8327026, 'city': 'New_York', 'label': 'New York', 'yr1970': 16.19, 'yr1975': 15.88, 'yr1980': 15.6, 'yr1985': 15.83, 'yr1990': 16.09, 'yr1995': 16.94, 'yr2000': 17.85, 'yr2005': 18.73, 'yr2010': 19.43}}, {'type': 'Feature', 'geometry': {'type': 'Point', 'coordinates': [121.4747009, 31.2551594]}, 'properties': {'id': 7, 'latitude': 31.2551594, 'longitude': 121.4747009, 'city': 'Shanghai', 'label': 'Shanghai', 'yr1970': 6.04, 'yr1975': 5.63, 'yr1980': 5.97, 'yr1985': 6.85, 'yr1990': 7.82, 'yr1995': 10.17, 'yr2000': 13.22, 'yr2005': 15.18, 'yr2010': 16.58}}, {'type': 'Feature', 'geometry': {'type': 'Point', 'coordinates': [88.3707809, 22.5650902]}, 'properties': {'id': 8, 'latitude': 22.5650902, 'longitude': 88.3707809, 'city': 'Kolkata', 'label': 'Kolkata', 'yr1970': 6.93, 'yr1975': 7.89, 'yr1980': 9.03, 'yr1985': 9.95, 'yr1990': 10.89, 'yr1995': 11.92, 'yr2000': 13.06, 'yr2005': 14.28, 'yr2010': 15.55}}, {'type': 'Feature', 'geometry': {'type': 'Point', 'coordinates': [90.3995667, 23.7132301]}, 'properties': {'id': 9, 'latitude': 23.7132301, 'longitude': 90.3995667, 'city': 'Dhaka', 'label': 'Dhaka', 'yr1970': 0.0, 'yr1975': 0.0, 'yr1980': 0.0, 'yr1985': 4.66, 'yr1990': 6.62, 'yr1995': 8.33, 'yr2000': 10.28, 'yr2005': 12.56, 'yr2010': 14.65}}, {'type': 'Feature', 'geometry': {'type': 'Point', 'coordinates': [67.0343704, 24.9267101]}, 'properties': {'id': 10, 'latitude': 24.9267101, 'longitude': 67.0343704, 'city': 'Karachi', 'label': 'Karachi', 'yr1970': 0.0, 'yr1975': 3.99, 'yr1980': 5.05, 'yr1985': 6.03, 'yr1990': 7.15, 'yr1995': 8.47, 'yr2000': 10.02, 'yr2005': 11.62, 'yr2010': 13.12}}, {'type': 'Feature', 'geometry': {'type': 'Point', 'coordinates': [-58.3734894, -34.6085091]}, 'properties': {'id': 11, 'latitude': -34.6085091, 'longitude': -58.3734894, 'city': 'Buenos_Aires', 'label': 'Buenos Aires', 'yr1970': 8.1, 'yr1975': 8.74, 'yr1980': 9.42, 'yr1985': 9.96, 'yr1990': 10.51, 'yr1995': 11.15, 'yr2000': 11.85, 'yr2005': 12.55, 'yr2010': 13.07}}, {'type': 'Feature', 'geometry': {'type': 'Point', 'coordinates': [-118.2453232, 34.0534897]}, 'properties': {'id': 12, 'latitude': 34.0534897, 'longitude': -118.2453232, 'city': 'Los_Angeles', 'label': 'Los Angeles', 'yr1970': 8.38, 'yr1975': 8.93, 'yr1980': 9.51, 'yr1985': 10.18, 'yr1990': 10.88, 'yr1995': 11.34, 'yr2000': 11.81, 'yr2005': 12.3, 'yr2010': 12.76}}, {'type': 'Feature', 'geometry': {'type': 'Point', 'coordinates': [116.3876495, 39.9065704]}, 'properties': {'id': 13, 'latitude': 39.9065704, 'longitude': 116.3876495, 'city': 'Beijing', 'label': 'Beijing', 'yr1970': 4.43, 'yr1975': 4.83, 'yr1980': 5.37, 'yr1985': 6.02, 'yr1990': 6.79, 'yr1995': 8.14, 'yr2000': 9.76, 'yr2005': 11.45, 'yr2010': 12.39}}, {'type': 'Feature', 'geometry': {'type': 'Point', 'coordinates': [-43.1750107, -22.9121609]}, 'properties': {'id': 14, 'latitude': -22.9121609, 'longitude': -43.1750107, 'city': 'Rio_de_Janeiro', 'label': 'Rio de Janeiro', 'yr1970': 6.64, 'yr1975': 7.56, 'yr1980': 8.58, 'yr1985': 9.09, 'yr1990': 9.59, 'yr1995': 10.17, 'yr2000': 10.8, 'yr2005': 11.37, 'yr2010': 11.95}}, {'type': 'Feature', 'geometry': {'type': 'Point', 'coordinates': [120.9836807, 14.58743]}, 'properties': {'id': 15, 'latitude': 14.58743, 'longitude': 120.9836807, 'city': 'Manila', 'label': 'Manila', 'yr1970': 3.53, 'yr1975': 5.0, 'yr1980': 5.95, 'yr1985': 6.89, 'yr1990': 7.97, 'yr1995': 9.4, 'yr2000': 9.96, 'yr2005': 10.76, 'yr2010': 11.63}}, {'type': 'Feature', 'geometry': {'type': 'Point', 'coordinates': [133.5659943, 35.0763016]}, 'properties': {'id': 16, 'latitude': 35.0763016, 'longitude': 133.5659943, 'city': 'Osaka_Kobe', 'label': 'Osaka-Kobe', 'yr1970': 9.41, 'yr1975': 9.84, 'yr1980': 9.99, 'yr1985': 10.35, 'yr1990': 11.04, 'yr1995': 11.05, 'yr2000': 11.17, 'yr2005': 11.26, 'yr2010': 11.34}}, {'type': 'Feature', 'geometry': {'type': 'Point', 'coordinates': [-89.1762695, 37.0051003]}, 'properties': {'id': 17, 'latitude': 37.0051003, 'longitude': -89.1762695, 'city': 'Cairo', 'label': 'Cairo', 'yr1970': 5.58, 'yr1975': 6.45, 'yr1980': 7.35, 'yr1985': 8.33, 'yr1990': 9.06, 'yr1995': 9.71, 'yr2000': 10.17, 'yr2005': 10.56, 'yr2010': 11.0}}, {'type': 'Feature', 'geometry': {'type': 'Point', 'coordinates': [3.3887601, 6.45471]}, 'properties': {'id': 18, 'latitude': 6.45471, 'longitude': 3.3887601, 'city': 'Lagos', 'label': 'Lagos', 'yr1970': 0.0, 'yr1975': 0.0, 'yr1980': 0.0, 'yr1985': 0.0, 'yr1990': 0.0, 'yr1995': 5.97, 'yr2000': 7.23, 'yr2005': 8.77, 'yr2010': 10.58}}, {'type': 'Feature', 'geometry': {'type': 'Point', 'coordinates': [37.6150208, 55.7569695]}, 'properties': {'id': 19, 'latitude': 55.7569695, 'longitude': 37.6150208, 'city': 'Moscow', 'label': 'Moscow', 'yr1970': 7.11, 'yr1975': 7.62, 'yr1980': 8.14, 'yr1985': 8.58, 'yr1990': 8.99, 'yr1995': 9.2, 'yr2000': 10.0, 'yr2005': 10.42, 'yr2010': 10.55}}, {'type': 'Feature', 'geometry': {'type': 'Point', 'coordinates': [28.9857998, 41.0409584]}, 'properties': {'id': 20, 'latitude': 41.0409584, 'longitude': 28.9857998, 'city': 'Istanbul', 'label': 'Istanbul', 'yr1970': 0.0, 'yr1975': 0.0, 'yr1980': 4.4, 'yr1985': 5.41, 'yr1990': 6.55, 'yr1995': 7.67, 'yr2000': 8.74, 'yr2005': 9.71, 'yr2010': 10.52}}, {'type': 'Feature', 'geometry': {'type': 'Point', 'coordinates': [2.3412001, 48.8569298]}, 'properties': {'id': 21, 'latitude': 48.8569298, 'longitude': 2.3412001, 'city': 'Paris', 'label': 'Paris', 'yr1970': 8.35, 'yr1975': 8.56, 'yr1980': 8.67, 'yr1985': 8.96, 'yr1990': 9.33, 'yr1995': 9.51, 'yr2000': 9.74, 'yr2005': 10.11, 'yr2010': 10.49}}, {'type': 'Feature', 'geometry': {'type': 'Point', 'coordinates': [127.0164719, 37.5150185]}, 'properties': {'id': 22, 'latitude': 37.5150185, 'longitude': 127.0164719, 'city': 'Seoul', 'label': 'Seoul', 'yr1970': 5.31, 'yr1975': 6.81, 'yr1980': 8.26, 'yr1985': 9.55, 'yr1990': 10.54, 'yr1995': 10.26, 'yr2000': 9.92, 'yr2005': 9.83, 'yr2010': 9.77}}, {'type': 'Feature', 'geometry': {'type': 'Point', 'coordinates': [106.5193481, 29.5509491]}, 'properties': {'id': 23, 'latitude': 29.5509491, 'longitude': 106.5193481, 'city': 'Chongqing', 'label': 'Chongqing', 'yr1970': 0.0, 'yr1975': 0.0, 'yr1980': 0.0, 'yr1985': 0.0, 'yr1990': 0.0, 'yr1995': 0.0, 'yr2000': 0.0, 'yr2005': 0.0, 'yr2010': 9.4}}, {'type': 'Feature', 'geometry': {'type': 'Point', 'coordinates': [106.8275223, -6.1714902]}, 'properties': {'id': 24, 'latitude': -6.1714902, 'longitude': 106.8275223, 'city': 'Jakarta', 'label': 'Jakarta', 'yr1970': 3.92, 'yr1975': 4.81, 'yr1980': 5.98, 'yr1985': 7.01, 'yr1990': 8.18, 'yr1995': 8.32, 'yr2000': 8.39, 'yr2005': 8.79, 'yr2010': 9.21}}, {'type': 'Feature', 'geometry': {'type': 'Point', 'coordinates': [-87.6324463, 41.8842506]}, 'properties': {'id': 25, 'latitude': 41.8842506, 'longitude': -87.6324463, 'city': 'Chicago', 'label': 'Chicago', 'yr1970': 7.11, 'yr1975': 7.16, 'yr1980': 7.22, 'yr1985': 7.29, 'yr1990': 7.37, 'yr1995': 7.84, 'yr2000': 8.33, 'yr2005': 8.82, 'yr2010': 9.2}}, {'type': 'Feature', 'geometry': {'type': 'Point', 'coordinates': [114.1187897, 22.5562191]}, 'properties': {'id': 26, 'latitude': 22.5562191, 'longitude': 114.1187897, 'city': 'Shenzhen', 'label': 'Shenzhen', 'yr1970': 0.0, 'yr1975': 0.0, 'yr1980': 0.0, 'yr1985': 0.0, 'yr1990': 0.0, 'yr1995': 0.0, 'yr2000': 0.0, 'yr2005': 7.93, 'yr2010': 9.01}}, {'type': 'Feature', 'geometry': {'type': 'Point', 'coordinates': [-77.0268021, -12.0561399]}, 'properties': {'id': 27, 'latitude': -12.0561399, 'longitude': -77.0268021, 'city': 'Lima', 'label': 'Lima', 'yr1970': 0.0, 'yr1975': 3.7, 'yr1980': 4.44, 'yr1985': 5.12, 'yr1990': 5.84, 'yr1995': 6.58, 'yr2000': 7.29, 'yr2005': 8.08, 'yr2010': 8.94}}, {'type': 'Feature', 'geometry': {'type': 'Point', 'coordinates': [113.2552338, 23.1133709]}, 'properties': {'id': 28, 'latitude': 23.1133709, 'longitude': 113.2552338, 'city': 'Guangzhou', 'label': 'Guangzhou', 'yr1970': 0.0, 'yr1975': 0.0, 'yr1980': 0.0, 'yr1985': 0.0, 'yr1990': 0.0, 'yr1995': 0.0, 'yr2000': 7.33, 'yr2005': 8.16, 'yr2010': 8.88}}, {'type': 'Feature', 'geometry': {'type': 'Point', 'coordinates': [15.2895298, -4.3122201]}, 'properties': {'id': 29, 'latitude': -4.3122201, 'longitude': 15.2895298, 'city': 'Kinshasa', 'label': 'Kinshasa', 'yr1970': 0.0, 'yr1975': 0.0, 'yr1980': 0.0, 'yr1985': 0.0, 'yr1990': 0.0, 'yr1995': 0.0, 'yr2000': 0.0, 'yr2005': 0.0, 'yr2010': 8.75}}, {'type': 'Feature', 'geometry': {'type': 'Point', 'coordinates': [-0.12719, 51.5064316]}, 'properties': {'id': 30, 'latitude': 51.5064316, 'longitude': -0.12719, 'city': 'London', 'label': 'London', 'yr1970': 7.51, 'yr1975': 7.55, 'yr1980': 7.66, 'yr1985': 7.67, 'yr1990': 7.65, 'yr1995': 7.91, 'yr2000': 8.22, 'yr2005': 8.51, 'yr2010': 8.63}}, {'type': 'Feature', 'geometry': {'type': 'Point', 'coordinates': [117.2005692, 39.1449394]}, 'properties': {'id': 31, 'latitude': 39.1449394, 'longitude': 117.2005692, 'city': 'Tianjin', 'label': 'Tianjin', 'yr1970': 3.32, 'yr1975': 0.0, 'yr1980': 0.0, 'yr1985': 0.0, 'yr1990': 0.0, 'yr1995': 0.0, 'yr2000': 6.67, 'yr2005': 7.28, 'yr2010': 0.0}}, {'type': 'Feature', 'geometry': {'type': 'Point', 'coordinates': [114.1869659, 22.3361568]}, 'properties': {'id': 32, 'latitude': 22.3361568, 'longitude': 114.1869659, 'city': 'Hong_Kong', 'label': 'Hong Kong', 'yr1970': 3.46, 'yr1975': 3.94, 'yr1980': 4.61, 'yr1985': 5.07, 'yr1990': 5.68, 'yr1995': 6.21, 'yr2000': 6.67, 'yr2005': 0.0, 'yr2010': 0.0}}, {'type': 'Feature', 'geometry': {'type': 'Point', 'coordinates': [51.4146843, 35.6895409]}, 'properties': {'id': 33, 'latitude': 35.6895409, 'longitude': 51.4146843, 'city': 'Tehran', 'label': 'Tehran', 'yr1970': 3.29, 'yr1975': 4.27, 'yr1980': 5.08, 'yr1985': 5.84, 'yr1990': 6.36, 'yr1995': 6.69, 'yr2000': 6.88, 'yr2005': 0.0, 'yr2010': 0.0}}, {'type': 'Feature', 'geometry': {'type': 'Point', 'coordinates': [80.188591, 13.0503302]}, 'properties': {'id': 34, 'latitude': 13.0503302, 'longitude': 80.188591, 'city': 'Chennai', 'label': 'Chennai', 'yr1970': 0.0, 'yr1975': 0.0, 'yr1980': 0.0, 'yr1985': 4.75, 'yr1990': 5.34, 'yr1995': 5.84, 'yr2000': 0.0, 'yr2005': 0.0, 'yr2010': 0.0}}, {'type': 'Feature', 'geometry': {'type': 'Point', 'coordinates': [100.5048294, 13.7533503]}, 'properties': {'id': 35, 'latitude': 13.7533503, 'longitude': 100.5048294, 'city': 'Bangkok', 'label': 'Bangkok', 'yr1970': 0.0, 'yr1975': 3.84, 'yr1980': 4.72, 'yr1985': 5.28, 'yr1990': 5.89, 'yr1995': 6.11, 'yr2000': 0.0, 'yr2005': 0.0, 'yr2010': 0.0}}, {'type': 'Feature', 'geometry': {'type': 'Point', 'coordinates': [30.3060303, 59.9331818]}, 'properties': {'id': 36, 'latitude': 59.9331818, 'longitude': 30.3060303, 'city': 'Saint_Petersburg', 'label': 'St. Petersburg', 'yr1970': 3.98, 'yr1975': 4.33, 'yr1980': 4.64, 'yr1985': 4.84, 'yr1990': 4.99, 'yr1995': 0.0, 'yr2000': 0.0, 'yr2005': 0.0, 'yr2010': 0.0}}, {'type': 'Feature', 'geometry': {'type': 'Point', 'coordinates': [-3.5631499, 40.4514008]}, 'properties': {'id': 37, 'latitude': 40.4514008, 'longitude': -3.5631499, 'city': 'Madrid', 'label': 'Madrid', 'yr1970': 3.52, 'yr1975': 3.89, 'yr1980': 4.25, 'yr1985': 0.0, 'yr1990': 0.0, 'yr1995': 0.0, 'yr2000': 0.0, 'yr2005': 0.0, 'yr2010': 0.0}}, {'type': 'Feature', 'geometry': {'type': 'Point', 'coordinates': [-75.1624527, 39.9522781]}, 'properties': {'id': 38, 'latitude': 39.9522781, 'longitude': -75.1624527, 'city': 'Philadelphia', 'label': 'Philadelphia', 'yr1970': 4.4, 'yr1975': 4.47, 'yr1980': 4.54, 'yr1985': 0.0, 'yr1990': 0.0, 'yr1995': 0.0, 'yr2000': 0.0, 'yr2005': 0.0, 'yr2010': 0.0}}, {'type': 'Feature', 'geometry': {'type': 'Point', 'coordinates': [-83.0479202, 42.3316803]}, 'properties': {'id': 39, 'latitude': 42.3316803, 'longitude': -83.0479202, 'city': 'Detroit', 'label': 'Detroit', 'yr1970': 3.97, 'yr1975': 3.89, 'yr1980': 0.0, 'yr1985': 0.0, 'yr1990': 0.0, 'yr1995': 0.0, 'yr2000': 0.0, 'yr2005': 0.0, 'yr2010': 0.0}}]}\n"
     ]
    }
   ],
   "source": [
    "print(geojson_df)"
   ]
  },
  {
   "cell_type": "markdown",
   "id": "eeb360c4-0e6c-4f52-82b0-55740daeae11",
   "metadata": {},
   "source": [
    "### create a file to dump geojson data in to a geojson file format"
   ]
  },
  {
   "cell_type": "code",
   "execution_count": 32,
   "id": "caecd85a-cb2f-45e3-977f-0c4d31e1c7d7",
   "metadata": {},
   "outputs": [],
   "source": [
    "citypop_geojson = json.dumps(geojson_df)\n",
    "with open(\"citypop_geojson.json\", \"w\") as file:\n",
    "    file.write(citypop_geojson)"
   ]
  },
  {
   "cell_type": "markdown",
   "id": "0d463a99-88c5-489e-81c7-15209ed15193",
   "metadata": {},
   "source": [
    "## 3. geojson to Shape file conversion"
   ]
  },
  {
   "cell_type": "code",
   "execution_count": 33,
   "id": "85078952-01f0-42f1-acc4-9876041732a4",
   "metadata": {},
   "outputs": [],
   "source": [
    "import geopandas as gpd"
   ]
  },
  {
   "cell_type": "code",
   "execution_count": 34,
   "id": "48dff24e-7335-4ff2-bac7-0c9be7564049",
   "metadata": {
    "tags": []
   },
   "outputs": [
    {
     "data": {
      "text/html": [
       "<div>\n",
       "<style scoped>\n",
       "    .dataframe tbody tr th:only-of-type {\n",
       "        vertical-align: middle;\n",
       "    }\n",
       "\n",
       "    .dataframe tbody tr th {\n",
       "        vertical-align: top;\n",
       "    }\n",
       "\n",
       "    .dataframe thead th {\n",
       "        text-align: right;\n",
       "    }\n",
       "</style>\n",
       "<table border=\"1\" class=\"dataframe\">\n",
       "  <thead>\n",
       "    <tr style=\"text-align: right;\">\n",
       "      <th></th>\n",
       "      <th>id</th>\n",
       "      <th>latitude</th>\n",
       "      <th>longitude</th>\n",
       "      <th>city</th>\n",
       "      <th>label</th>\n",
       "      <th>yr1970</th>\n",
       "      <th>yr1975</th>\n",
       "      <th>yr1980</th>\n",
       "      <th>yr1985</th>\n",
       "      <th>yr1990</th>\n",
       "      <th>yr1995</th>\n",
       "      <th>yr2000</th>\n",
       "      <th>yr2005</th>\n",
       "      <th>yr2010</th>\n",
       "      <th>geometry</th>\n",
       "    </tr>\n",
       "  </thead>\n",
       "  <tbody>\n",
       "    <tr>\n",
       "      <th>0</th>\n",
       "      <td>1</td>\n",
       "      <td>35.683208</td>\n",
       "      <td>139.808945</td>\n",
       "      <td>Tokyo</td>\n",
       "      <td>Tokyo</td>\n",
       "      <td>23.30</td>\n",
       "      <td>26.61</td>\n",
       "      <td>28.55</td>\n",
       "      <td>30.30</td>\n",
       "      <td>32.53</td>\n",
       "      <td>33.59</td>\n",
       "      <td>34.45</td>\n",
       "      <td>35.62</td>\n",
       "      <td>36.67</td>\n",
       "      <td>POINT (139.80894 35.68321)</td>\n",
       "    </tr>\n",
       "    <tr>\n",
       "      <th>1</th>\n",
       "      <td>2</td>\n",
       "      <td>28.608280</td>\n",
       "      <td>77.200813</td>\n",
       "      <td>New_Delhi</td>\n",
       "      <td>New Delhi</td>\n",
       "      <td>3.53</td>\n",
       "      <td>4.43</td>\n",
       "      <td>5.56</td>\n",
       "      <td>7.33</td>\n",
       "      <td>9.73</td>\n",
       "      <td>12.41</td>\n",
       "      <td>15.73</td>\n",
       "      <td>19.49</td>\n",
       "      <td>22.16</td>\n",
       "      <td>POINT (77.20081 28.60828)</td>\n",
       "    </tr>\n",
       "    <tr>\n",
       "      <th>2</th>\n",
       "      <td>3</td>\n",
       "      <td>-23.562839</td>\n",
       "      <td>-46.654640</td>\n",
       "      <td>Sao_Paulo</td>\n",
       "      <td>Sao Paulo</td>\n",
       "      <td>7.62</td>\n",
       "      <td>9.61</td>\n",
       "      <td>12.09</td>\n",
       "      <td>13.39</td>\n",
       "      <td>14.78</td>\n",
       "      <td>15.95</td>\n",
       "      <td>17.10</td>\n",
       "      <td>18.65</td>\n",
       "      <td>20.26</td>\n",
       "      <td>POINT (-46.65464 -23.56284)</td>\n",
       "    </tr>\n",
       "    <tr>\n",
       "      <th>3</th>\n",
       "      <td>4</td>\n",
       "      <td>18.930130</td>\n",
       "      <td>72.830093</td>\n",
       "      <td>Mumbai</td>\n",
       "      <td>Mumbai</td>\n",
       "      <td>5.81</td>\n",
       "      <td>7.08</td>\n",
       "      <td>8.66</td>\n",
       "      <td>10.34</td>\n",
       "      <td>12.31</td>\n",
       "      <td>14.11</td>\n",
       "      <td>16.09</td>\n",
       "      <td>18.21</td>\n",
       "      <td>20.04</td>\n",
       "      <td>POINT (72.83009 18.93013)</td>\n",
       "    </tr>\n",
       "    <tr>\n",
       "      <th>4</th>\n",
       "      <td>5</td>\n",
       "      <td>19.431959</td>\n",
       "      <td>-99.133163</td>\n",
       "      <td>Mexico_City</td>\n",
       "      <td>Mexico City</td>\n",
       "      <td>8.77</td>\n",
       "      <td>10.69</td>\n",
       "      <td>13.01</td>\n",
       "      <td>14.11</td>\n",
       "      <td>15.31</td>\n",
       "      <td>16.81</td>\n",
       "      <td>18.02</td>\n",
       "      <td>18.73</td>\n",
       "      <td>19.46</td>\n",
       "      <td>POINT (-99.13316 19.43196)</td>\n",
       "    </tr>\n",
       "  </tbody>\n",
       "</table>\n",
       "</div>"
      ],
      "text/plain": [
       "   id   latitude   longitude         city        label  yr1970  yr1975  \\\n",
       "0   1  35.683208  139.808945        Tokyo        Tokyo   23.30   26.61   \n",
       "1   2  28.608280   77.200813    New_Delhi    New Delhi    3.53    4.43   \n",
       "2   3 -23.562839  -46.654640    Sao_Paulo    Sao Paulo    7.62    9.61   \n",
       "3   4  18.930130   72.830093       Mumbai       Mumbai    5.81    7.08   \n",
       "4   5  19.431959  -99.133163  Mexico_City  Mexico City    8.77   10.69   \n",
       "\n",
       "   yr1980  yr1985  yr1990  yr1995  yr2000  yr2005  yr2010  \\\n",
       "0   28.55   30.30   32.53   33.59   34.45   35.62   36.67   \n",
       "1    5.56    7.33    9.73   12.41   15.73   19.49   22.16   \n",
       "2   12.09   13.39   14.78   15.95   17.10   18.65   20.26   \n",
       "3    8.66   10.34   12.31   14.11   16.09   18.21   20.04   \n",
       "4   13.01   14.11   15.31   16.81   18.02   18.73   19.46   \n",
       "\n",
       "                      geometry  \n",
       "0   POINT (139.80894 35.68321)  \n",
       "1    POINT (77.20081 28.60828)  \n",
       "2  POINT (-46.65464 -23.56284)  \n",
       "3    POINT (72.83009 18.93013)  \n",
       "4   POINT (-99.13316 19.43196)  "
      ]
     },
     "execution_count": 34,
     "metadata": {},
     "output_type": "execute_result"
    }
   ],
   "source": [
    "citypop_gdf = gpd.read_file('citypop_geojson.json')\n",
    "citypop_gdf.head()"
   ]
  },
  {
   "cell_type": "code",
   "execution_count": 37,
   "id": "848065a3-8205-4050-ab06-9bcdfe644035",
   "metadata": {
    "tags": []
   },
   "outputs": [],
   "source": [
    "citypop_gdf.to_file('citypop_shp.shp')"
   ]
  },
  {
   "cell_type": "markdown",
   "id": "4ecd203e-68bc-4375-bbfc-c8ed1937cdeb",
   "metadata": {},
   "source": [
    "## Simple plot"
   ]
  },
  {
   "cell_type": "code",
   "execution_count": 39,
   "id": "7be93487-f1cc-4fb4-8419-55caaefa2431",
   "metadata": {},
   "outputs": [
    {
     "name": "stderr",
     "output_type": "stream",
     "text": [
      "A:\\Softwares\\anaconda3\\lib\\site-packages\\geopandas\\plotting.py:48: ShapelyDeprecationWarning: The 'type' attribute is deprecated, and will be removed in the future. You can use the 'geom_type' attribute instead.\n",
      "  if geom is not None and geom.type.startswith(prefix) and not geom.is_empty:\n"
     ]
    },
    {
     "data": {
      "text/plain": [
       "<matplotlib.legend.Legend at 0x2d89568dfd0>"
      ]
     },
     "execution_count": 39,
     "metadata": {},
     "output_type": "execute_result"
    },
    {
     "data": {
      "image/png": "[encoded data removed]",
      "text/plain": [
       "<Figure size 432x288 with 1 Axes>"
      ]
     },
     "metadata": {
      "needs_background": "light"
     },
     "output_type": "display_data"
    }
   ],
   "source": [
    "world = gpd.read_file(gpd.datasets.get_path('naturalearth_lowres'))\n",
    "base = world.plot(color='orange', edgecolor='grey')\n",
    "citypop_gdf.plot(ax=base, marker='+', color='red', markersize=10, label='cities')\n",
    "base.legend()"
   ]
  },
  {
   "cell_type": "code",
   "execution_count": null,
   "id": "7a601206-377d-41b2-a681-fb8cb7cbebf2",
   "metadata": {},
   "outputs": [],
   "source": []
  }
 ],
 "metadata": {
  "kernelspec": {
   "display_name": "Python 3 (ipykernel)",
   "language": "python",
   "name": "python3"
  },
  "language_info": {
   "codemirror_mode": {
    "name": "ipython",
    "version": 3
   },
   "file_extension": ".py",
   "mimetype": "text/x-python",
   "name": "python",
   "nbconvert_exporter": "python",
   "pygments_lexer": "ipython3",
   "version": "3.9.7"
  }
 },
 "nbformat": 4,
 "nbformat_minor": 5
}
