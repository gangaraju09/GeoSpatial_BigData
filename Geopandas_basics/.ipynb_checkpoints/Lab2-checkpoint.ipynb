{
 "cells": [
  {
   "cell_type": "markdown",
   "metadata": {},
   "source": [
    "# Geog 573 Advanced Geocomputing and Geospatial Big Data Analytics\n",
    "# Prof. Song Gao (song.gao@wisc.edu)\n",
    "# TA: Yuhao Kang (yuhao.kang@wisc.edu)\n",
    "# Lab2-Data Loading and Transformation"
   ]
  },
  {
   "cell_type": "markdown",
   "metadata": {},
   "source": [
    "1. Learn how to process CSV data.\n",
    "2. Learn how to process JSON data.\n",
    "3. Learn how to convert CSV to JSON data.\n",
    "4. Learn how to process GeoJSON and Shp data.\n",
    "5. Create simple maps using GeoPandas"
   ]
  },
  {
   "cell_type": "markdown",
   "metadata": {},
   "source": [
    "# CSV Processing"
   ]
  },
  {
   "cell_type": "code",
   "execution_count": null,
   "metadata": {},
   "outputs": [],
   "source": [
    "# Example\n",
    "attributes=\"place,address,year\"\n",
    "data=[]\n",
    "placename = \"Science Hall\"\n",
    "address = \"N Park St., Madison, WI 53593\"\n",
    "year = 2018\n",
    "alist= placename+','+address+','+str(year)\n",
    "data.append(alist)\n",
    "\n",
    "placename = \"Science Hall\"\n",
    "address = \"N Park St. Madison WI 53593\"\n",
    "year = 2019\n",
    "alist= placename+','+address+','+str(year)\n",
    "data.append(alist)\n",
    "\n",
    "for record in data:\n",
    "    recordList = record.split(',')\n",
    "    print (recordList)"
   ]
  },
  {
   "cell_type": "markdown",
   "metadata": {},
   "source": [
    "### Why their results are not the same?"
   ]
  },
  {
   "cell_type": "markdown",
   "metadata": {},
   "source": [
    "### Use Pandas to read and save csv"
   ]
  },
  {
   "cell_type": "code",
   "execution_count": null,
   "metadata": {},
   "outputs": [],
   "source": [
    "import pandas as pd # import pandas package"
   ]
  },
  {
   "cell_type": "code",
   "execution_count": null,
   "metadata": {},
   "outputs": [],
   "source": [
    "city_df = pd.read_csv('CityPop.csv') # read csv file\n",
    "city_df.head() # display the first 5 rows"
   ]
  },
  {
   "cell_type": "code",
   "execution_count": null,
   "metadata": {},
   "outputs": [],
   "source": [
    "city_df.to_csv('CityPop_new.csv', index = False) # save as another file without the index"
   ]
  },
  {
   "cell_type": "markdown",
   "metadata": {},
   "source": [
    "# JSON"
   ]
  },
  {
   "cell_type": "code",
   "execution_count": null,
   "metadata": {},
   "outputs": [],
   "source": [
    "import json"
   ]
  },
  {
   "cell_type": "code",
   "execution_count": null,
   "metadata": {},
   "outputs": [],
   "source": [
    "r = {'placetype': 'coffee shop', 'name': 'starbucks', 'rating': 4.5} # create a dictionary\n",
    "print (r) \n",
    "print(type(r))\n",
    "\n",
    "json_data = json.dumps(r) # create a json file\n",
    "print(\"json data: \", json_data)\n",
    "print(type(json_data))\n",
    "with open('json.json', 'w') as json_file: # save as a json file\n",
    "    json_file.write(json_data)\n",
    "\n",
    "json_load = json.loads(json_data) # load json file  \n",
    "print(\"load json: \", json_load)\n",
    "print(json_load['rating'])\n",
    "print(type(json_load))"
   ]
  },
  {
   "cell_type": "markdown",
   "metadata": {},
   "source": [
    "# Convert CSV to JSON"
   ]
  },
  {
   "cell_type": "code",
   "execution_count": null,
   "metadata": {},
   "outputs": [],
   "source": [
    "city_df = pd.read_csv('CityPop.csv') # read csv file\n",
    "city_df.head() # display the first 5 rows"
   ]
  },
  {
   "cell_type": "code",
   "execution_count": null,
   "metadata": {},
   "outputs": [],
   "source": [
    "## check the data attribute type\n",
    "print(city_df['id'].dtypes)\n",
    "print(city_df['latitude'].dtypes)\n",
    "print(city_df['label'].dtypes)"
   ]
  },
  {
   "cell_type": "code",
   "execution_count": null,
   "metadata": {},
   "outputs": [],
   "source": [
    "## get the header \n",
    "header=list(city_df.columns.values)\n",
    "print (header)"
   ]
  },
  {
   "cell_type": "code",
   "execution_count": null,
   "metadata": {},
   "outputs": [],
   "source": [
    "## iterate each row  \n",
    "pop_allyears = {} #embeded population dictionary for a city\n",
    "for index, row in city_df.iterrows(): \n",
    "    print (row)\n",
    "    cityname = row[3] # cityname\n",
    "    citylabel = row[4] # city label\n",
    "    pop_allyears['yr1970'] = row[5] # yr1970\n",
    "    pop_allyears['yr1975'] = row[6] # yr1975\n",
    "    pop_allyears['yr1980'] = row[7] # yr1980\n",
    "    break\n",
    "    #######"
   ]
  },
  {
   "cell_type": "code",
   "execution_count": null,
   "metadata": {},
   "outputs": [],
   "source": [
    "## add the data into a list of dictionaries\n",
    "city_pop_list = []# all cities\n",
    "for row in city_df.itertuples(index=True):\n",
    "    city = {} #embeded population dictionary for a city\n",
    "    city['id'] = getattr(row, \"id\")#\n",
    "    city['latitude'] = getattr(row, \"latitude\")#\n",
    "    city['longitude'] = getattr(row, \"longitude\")#\n",
    "    city['city'] =  getattr(row, \"city\")# cityname\n",
    "    city['label'] =  getattr(row, \"label\")# cityname\n",
    "    city['yr1970'] = getattr(row, \"yr1970\")# yr1970\n",
    "    city['yr1975'] = getattr(row, \"yr1975\") # yr1975\n",
    "    city['yr1980'] = getattr(row, \"yr1980\") # yr1980\n",
    "\n",
    "    city_pop_list.append(city)\n",
    "\n",
    "print (city_pop_list)"
   ]
  },
  {
   "cell_type": "code",
   "execution_count": null,
   "metadata": {},
   "outputs": [],
   "source": [
    " ## convert the dictionary to json\n",
    "import json\n",
    "city_pop_json = json.dumps(city_pop_list)\n",
    "print(type(city_pop_json)) "
   ]
  },
  {
   "cell_type": "code",
   "execution_count": null,
   "metadata": {},
   "outputs": [],
   "source": [
    "## add the data into a list of dictionaries\n",
    "city_pop_list = []# all cities\n",
    "for row in city_df.itertuples(index=True):\n",
    "    city = {} #embeded population dictionary for a city\n",
    "    city['id'] = getattr(row, \"id\")\n",
    "    city['latitude'] = getattr(row, \"latitude\")\n",
    "    city['longitude'] = getattr(row, \"longitude\")\n",
    "    city['city'] =  getattr(row, \"city\")\n",
    "    city['label'] =  getattr(row, \"label\")\n",
    "    city['yr1970'] = getattr(row, \"yr1970\")\n",
    "    city['yr1975'] = getattr(row, \"yr1975\")\n",
    "    city['yr1980'] = getattr(row, \"yr1980\")\n",
    "    city_pop_list.append(city)\n",
    "print (city_pop_list)\n",
    " ## convert the dictionary to json\n",
    "import json\n",
    "city_pop_json = json.dumps(city_pop_list)\n",
    "print(type(city_pop_json)) \n",
    "\n",
    "## output: write a json file\n",
    "with open('CityPop.json','w') as  fw:\n",
    "    fw.write(city_pop_json)\n",
    "print ('Done')"
   ]
  },
  {
   "cell_type": "markdown",
   "metadata": {},
   "source": [
    "# GeoJSON and Shp"
   ]
  },
  {
   "cell_type": "code",
   "execution_count": null,
   "metadata": {},
   "outputs": [],
   "source": [
    "import geopandas as gpd # import geopandas"
   ]
  },
  {
   "cell_type": "code",
   "execution_count": null,
   "metadata": {},
   "outputs": [],
   "source": [
    "!conda install geopandas\n",
    "!pip install geopandas"
   ]
  },
  {
   "cell_type": "code",
   "execution_count": null,
   "metadata": {},
   "outputs": [],
   "source": [
    "city_gdf = gpd.read_file('geojson.json') # read geojson file\n",
    "city_gdf.head()"
   ]
  },
  {
   "cell_type": "code",
   "execution_count": null,
   "metadata": {},
   "outputs": [],
   "source": [
    "city_gdf = gpd.read_file('geojson.json') # read geojson file\n",
    "city_gdf.to_file('CityPop.shp') # save as shp file"
   ]
  },
  {
   "cell_type": "code",
   "execution_count": null,
   "metadata": {},
   "outputs": [],
   "source": [
    "city_gdf = gpd.read_file('CityPop.shp') # read shp file"
   ]
  },
  {
   "cell_type": "markdown",
   "metadata": {},
   "source": [
    "# Simple Plot"
   ]
  },
  {
   "cell_type": "code",
   "execution_count": null,
   "metadata": {},
   "outputs": [],
   "source": [
    "world = gpd.read_file(gpd.datasets.get_path('naturalearth_lowres')) # read world data\n",
    "# visualization\n",
    "base = world.plot(color='yellow', edgecolor='red') # base map\n",
    "city_gdf.plot(ax=base, marker='+', color='blue', markersize=10) # plot cities on the map"
   ]
  },
  {
   "cell_type": "markdown",
   "metadata": {},
   "source": [
    "# Task"
   ]
  },
  {
   "cell_type": "markdown",
   "metadata": {},
   "source": [
    "Compress all three data files with code for submission.  \n",
    "Task 1:\n",
    "Convert the CityPop.csv file to a JSON file, save as CityPop.json.  \n",
    "Task 2:\n",
    "Convert the CityPop.json file to a GeoJSON file, save as CityPop_geojson.json.  \n",
    "Task 3:\n",
    "Convert the CityPop_geojson.json file to a Shp file, save as CityPop.shp.  \n",
    "Task 4: \n",
    "Load the CityPop.shp file and create a simple map with world map as basemap (hint: use gdf.plot()). Please try different style settings.    "
   ]
  }
 ],
 "metadata": {
  "kernelspec": {
   "display_name": "Python 3",
   "language": "python",
   "name": "python3"
  },
  "language_info": {
   "codemirror_mode": {
    "name": "ipython",
    "version": 3
   },
   "file_extension": ".py",
   "mimetype": "text/x-python",
   "name": "python",
   "nbconvert_exporter": "python",
   "pygments_lexer": "ipython3",
   "version": "3.8.3"
  }
 },
 "nbformat": 4,
 "nbformat_minor": 4
}
