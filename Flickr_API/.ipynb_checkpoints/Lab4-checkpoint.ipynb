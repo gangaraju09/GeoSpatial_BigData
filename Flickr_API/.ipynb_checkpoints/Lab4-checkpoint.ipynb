{
 "cells": [
  {
   "cell_type": "markdown",
   "metadata": {},
   "source": [
    "# Geog 573 Advanced Geocomputing and Geospatial Big Data Analytics\n",
    "# Prof. Song Gao (song.gao@wisc.edu)\n",
    "# Instructor: Yuhao Kang (yuhao.kang@wisc.edu)\n",
    "# Lab4 - Data Collection"
   ]
  },
  {
   "cell_type": "markdown",
   "metadata": {},
   "source": [
    "1. Install flickrapi: pip install flickrapi\n",
    "2. Collect Flickr photos using API.   \n",
    "Flickr API Documentation: https://www.flickr.com/services/api/  \n",
    "Python package flickrapi Documentation: https://stuvel.eu/flickrapi-doc/index.html  \n",
    "3. Use Flickr API to retrieve photo information.\n",
    "4. Pause program execution.\n",
    "5. Object-Oriented Programming."
   ]
  },
  {
   "cell_type": "markdown",
   "metadata": {},
   "source": [
    "# Collect Flickr Photos"
   ]
  },
  {
   "cell_type": "code",
   "execution_count": 2,
   "metadata": {
    "collapsed": true,
    "jupyter": {
     "outputs_hidden": true
    },
    "tags": []
   },
   "outputs": [
    {
     "name": "stdout",
     "output_type": "stream",
     "text": [
      "Collecting flickrapi\n",
      "  Downloading flickrapi-2.4.0-py2.py3-none-any.whl (26 kB)\n",
      "Collecting requests-oauthlib>=0.4.0\n",
      "  Downloading requests_oauthlib-1.3.1-py2.py3-none-any.whl (23 kB)\n",
      "Requirement already satisfied: six>=1.5.2 in /media/raid/yuhao/anaconda3/lib/python3.9/site-packages (from flickrapi) (1.16.0)\n",
      "Requirement already satisfied: requests>=2.2.1 in /media/raid/yuhao/anaconda3/lib/python3.9/site-packages (from flickrapi) (2.28.1)\n",
      "Collecting requests-toolbelt>=0.3.1\n",
      "  Downloading requests_toolbelt-0.10.1-py2.py3-none-any.whl (54 kB)\n",
      "\u001b[2K     \u001b[90m━━━━━━━━━━━━━━━━━━━━━━━━━━━━━━━━━━━━━━━━\u001b[0m \u001b[32m54.5/54.5 kB\u001b[0m \u001b[31m17.6 MB/s\u001b[0m eta \u001b[36m0:00:00\u001b[0m\n",
      "\u001b[?25hRequirement already satisfied: certifi>=2017.4.17 in /media/raid/yuhao/anaconda3/lib/python3.9/site-packages (from requests>=2.2.1->flickrapi) (2022.9.14)\n",
      "Requirement already satisfied: idna<4,>=2.5 in /media/raid/yuhao/anaconda3/lib/python3.9/site-packages (from requests>=2.2.1->flickrapi) (3.3)\n",
      "Requirement already satisfied: charset-normalizer<3,>=2 in /media/raid/yuhao/anaconda3/lib/python3.9/site-packages (from requests>=2.2.1->flickrapi) (2.0.4)\n",
      "Requirement already satisfied: urllib3<1.27,>=1.21.1 in /media/raid/yuhao/anaconda3/lib/python3.9/site-packages (from requests>=2.2.1->flickrapi) (1.26.11)\n",
      "Collecting oauthlib>=3.0.0\n",
      "  Downloading oauthlib-3.2.2-py3-none-any.whl (151 kB)\n",
      "\u001b[2K     \u001b[90m━━━━━━━━━━━━━━━━━━━━━━━━━━━━━━━━━━━━━━\u001b[0m \u001b[32m151.7/151.7 kB\u001b[0m \u001b[31m20.6 MB/s\u001b[0m eta \u001b[36m0:00:00\u001b[0m\n",
      "\u001b[?25hInstalling collected packages: oauthlib, requests-toolbelt, requests-oauthlib, flickrapi\n",
      "Successfully installed flickrapi-2.4.0 oauthlib-3.2.2 requests-oauthlib-1.3.1 requests-toolbelt-0.10.1\n",
      "\n",
      "\u001b[1m[\u001b[0m\u001b[34;49mnotice\u001b[0m\u001b[1;39;49m]\u001b[0m\u001b[39;49m A new release of pip available: \u001b[0m\u001b[31;49m22.3.1\u001b[0m\u001b[39;49m -> \u001b[0m\u001b[32;49m23.0\u001b[0m\n",
      "\u001b[1m[\u001b[0m\u001b[34;49mnotice\u001b[0m\u001b[1;39;49m]\u001b[0m\u001b[39;49m To update, run: \u001b[0m\u001b[32;49mpython3 -m pip install --upgrade pip\u001b[0m\n"
     ]
    }
   ],
   "source": [
    "!pip install flickrapi"
   ]
  },
  {
   "cell_type": "code",
   "execution_count": 3,
   "metadata": {},
   "outputs": [],
   "source": [
    "# import packages\n",
    "import flickrapi\n",
    "import getpass"
   ]
  },
  {
   "cell_type": "raw",
   "metadata": {},
   "source": [
    "Key: 199ed59000c39dd0844b59d01fa7570c\n",
    "Secret: 4a2ce28f1bb8a1fe"
   ]
  },
  {
   "cell_type": "code",
   "execution_count": 4,
   "metadata": {},
   "outputs": [
    {
     "name": "stdin",
     "output_type": "stream",
     "text": [
      " ········\n"
     ]
    }
   ],
   "source": [
    "API_KEY = getpass.getpass() # type in or copy 'YOUR API KEY' here"
   ]
  },
  {
   "cell_type": "code",
   "execution_count": 5,
   "metadata": {},
   "outputs": [
    {
     "name": "stdin",
     "output_type": "stream",
     "text": [
      " ········\n"
     ]
    }
   ],
   "source": [
    "API_SECRET = getpass.getpass() # type in or copy 'YOUR API SECRET' here"
   ]
  },
  {
   "cell_type": "code",
   "execution_count": 6,
   "metadata": {},
   "outputs": [],
   "source": [
    "# create the API class\n",
    "flickr = flickrapi.FlickrAPI(API_KEY, API_SECRET, cache=True)"
   ]
  },
  {
   "cell_type": "code",
   "execution_count": null,
   "metadata": {},
   "outputs": [],
   "source": [
    "19/33.52775/-112.26204"
   ]
  },
  {
   "cell_type": "code",
   "execution_count": 18,
   "metadata": {},
   "outputs": [
    {
     "name": "stdout",
     "output_type": "stream",
     "text": [
      "52324505297 https://live.staticflickr.com/65535/52324505297_e4277ce748_c.jpg\n",
      "51817378979 https://live.staticflickr.com/65535/51817378979_9bf495450e_c.jpg\n",
      "51816084187 https://live.staticflickr.com/65535/51816084187_56dc60af0b_c.jpg\n",
      "51815246871 https://live.staticflickr.com/65535/51815246871_ee42661bdf_c.jpg\n",
      "51815246866 https://live.staticflickr.com/65535/51815246866_931a46c18a_c.jpg\n",
      "51815246746 https://live.staticflickr.com/65535/51815246746_281df9130e_c.jpg\n",
      "51815959500 https://live.staticflickr.com/65535/51815959500_f4a956cf24_c.jpg\n",
      "51814271372 https://live.staticflickr.com/65535/51814271372_4829ce2824_c.jpg\n",
      "51814271227 https://live.staticflickr.com/65535/51814271227_8132dc1b17_c.jpg\n",
      "51815334018 https://live.staticflickr.com/65535/51815334018_eb9140b6d3_c.jpg\n",
      "51815573844 https://live.staticflickr.com/65535/51815573844_94a921fe8e_c.jpg\n"
     ]
    }
   ],
   "source": [
    "# retrieve a set of photos within 0.2 km of the Science Hall\n",
    "# photos = flickr.walk(lat=43.07586, lon=-89.40114, radius=0.2, extras='url_c')\n",
    "photos = flickr.walk(lat=33.52775, lon=-112.26204, radius=0.3, extras='url_c', max_upload_date='2023-02-12')\n",
    "# iterate photos in the photo set\n",
    "for i, photo_url in enumerate(photos):\n",
    "    if i > 10: # only collect the first 10 photos\n",
    "        break\n",
    "    # get the photo url\n",
    "    url = photo_url.get('url_c')\n",
    "    if url is not None:\n",
    "        print(photo_url.get('id'), photo_url.get('url_c'))"
   ]
  },
  {
   "cell_type": "code",
   "execution_count": 13,
   "metadata": {},
   "outputs": [
    {
     "name": "stdout",
     "output_type": "stream",
     "text": [
      "photo information:  b'{\"photo\":{\"id\":\"51817378979\",\"secret\":\"9bf495450e\",\"server\":\"65535\",\"farm\":66,\"dateuploaded\":\"1642025160\",\"isfavorite\":0,\"license\":\"0\",\"safety_level\":\"0\",\"rotation\":0,\"originalsecret\":\"538fcb6888\",\"originalformat\":\"jpg\",\"owner\":{\"nsid\":\"67928702@N00\",\"username\":\"Jeffrey McCalib\",\"realname\":\"Jeffrey McCalib\",\"location\":\"Camano Island, WA, USA\",\"iconserver\":\"4315\",\"iconfarm\":5,\"path_alias\":\"jeffreymccalib\",\"gift\":{\"gift_eligible\":true,\"eligible_durations\":[\"year\",\"month\",\"week\"],\"new_flow\":true}},\"title\":{\"_content\":\"Seahawks Cards from Sec 125\"},\"description\":{\"_content\":\"Final was Seahawks 38 Cardinals 30.  January 9, 2022\\\\n\"},\"visibility\":{\"ispublic\":1,\"isfriend\":0,\"isfamily\":0},\"dates\":{\"posted\":\"1642025160\",\"taken\":\"2022-01-09 16:50:27\",\"takengranularity\":0,\"takenunknown\":\"0\",\"lastupdate\":\"1642025637\"},\"views\":\"555\",\"editability\":{\"cancomment\":0,\"canaddmeta\":0},\"publiceditability\":{\"cancomment\":1,\"canaddmeta\":0},\"usage\":{\"candownload\":1,\"canblog\":0,\"canprint\":0,\"canshare\":1},\"comments\":{\"_content\":\"0\"},\"notes\":{\"note\":[]},\"people\":{\"haspeople\":0},\"tags\":{\"tag\":[{\"id\":\"5999050-51817378979-271\",\"author\":\"67928702@N00\",\"authorname\":\"Jeffrey McCalib\",\"raw\":\"arizona\",\"_content\":\"arizona\",\"machine_tag\":0},{\"id\":\"5999050-51817378979-21143\",\"author\":\"67928702@N00\",\"authorname\":\"Jeffrey McCalib\",\"raw\":\"seahawks\",\"_content\":\"seahawks\",\"machine_tag\":0},{\"id\":\"5999050-51817378979-2481\",\"author\":\"67928702@N00\",\"authorname\":\"Jeffrey McCalib\",\"raw\":\"football\",\"_content\":\"football\",\"machine_tag\":0},{\"id\":\"5999050-51817378979-6345\",\"author\":\"67928702@N00\",\"authorname\":\"Jeffrey McCalib\",\"raw\":\"nfl\",\"_content\":\"nfl\",\"machine_tag\":0},{\"id\":\"5999050-51817378979-483\",\"author\":\"67928702@N00\",\"authorname\":\"Jeffrey McCalib\",\"raw\":\"game\",\"_content\":\"game\",\"machine_tag\":0},{\"id\":\"5999050-51817378979-3989\",\"author\":\"67928702@N00\",\"authorname\":\"Jeffrey McCalib\",\"raw\":\"cheerleaders\",\"_content\":\"cheerleaders\",\"machine_tag\":0},{\"id\":\"5999050-51817378979-271371\",\"author\":\"67928702@N00\",\"authorname\":\"Jeffrey McCalib\",\"raw\":\"2022\",\"_content\":\"2022\",\"machine_tag\":0},{\"id\":\"5999050-51817378979-4304\",\"author\":\"67928702@N00\",\"authorname\":\"Jeffrey McCalib\",\"raw\":\"glendale\",\"_content\":\"glendale\",\"machine_tag\":0},{\"id\":\"5999050-51817378979-51464\",\"author\":\"67928702@N00\",\"authorname\":\"Jeffrey McCalib\",\"raw\":\"section\",\"_content\":\"section\",\"machine_tag\":0},{\"id\":\"5999050-51817378979-154665\",\"author\":\"67928702@N00\",\"authorname\":\"Jeffrey McCalib\",\"raw\":\"125\",\"_content\":\"125\",\"machine_tag\":0}]},\"location\":{\"latitude\":\"33.528363\",\"longitude\":\"-112.263439\",\"accuracy\":\"16\",\"context\":\"0\",\"locality\":{\"_content\":\"Shamrock Mobile Home Park\"},\"county\":{\"_content\":\"Maricopa\"},\"region\":{\"_content\":\"Arizona\"},\"country\":{\"_content\":\"United States\"},\"neighbourhood\":{\"_content\":\"\"}},\"geoperms\":{\"ispublic\":1,\"iscontact\":0,\"isfriend\":0,\"isfamily\":0},\"urls\":{\"url\":[{\"type\":\"photopage\",\"_content\":\"https:\\\\/\\\\/www.flickr.com\\\\/photos\\\\/jeffreymccalib\\\\/51817378979\\\\/\"}]},\"media\":\"photo\"},\"stat\":\"ok\"}'\n"
     ]
    }
   ],
   "source": [
    "# retrieve the information (json format) of the photo with id 49307295822\n",
    "photo_info = flickr.photos.getInfo(photo_id=51817378979, format='json')\n",
    "print(\"photo information: \", photo_info)"
   ]
  },
  {
   "cell_type": "code",
   "execution_count": 19,
   "metadata": {},
   "outputs": [
    {
     "name": "stdout",
     "output_type": "stream",
     "text": [
      "decode:  <class 'str'>\n",
      "information load:  {'photo': {'id': '51817378979', 'secret': '9bf495450e', 'server': '65535', 'farm': 66, 'dateuploaded': '1642025160', 'isfavorite': 0, 'license': '0', 'safety_level': '0', 'rotation': 0, 'originalsecret': '538fcb6888', 'originalformat': 'jpg', 'owner': {'nsid': '67928702@N00', 'username': 'Jeffrey McCalib', 'realname': 'Jeffrey McCalib', 'location': 'Camano Island, WA, USA', 'iconserver': '4315', 'iconfarm': 5, 'path_alias': 'jeffreymccalib', 'gift': {'gift_eligible': True, 'eligible_durations': ['year', 'month', 'week'], 'new_flow': True}}, 'title': {'_content': 'Seahawks Cards from Sec 125'}, 'description': {'_content': 'Final was Seahawks 38 Cardinals 30.  January 9, 2022\\n'}, 'visibility': {'ispublic': 1, 'isfriend': 0, 'isfamily': 0}, 'dates': {'posted': '1642025160', 'taken': '2022-01-09 16:50:27', 'takengranularity': 0, 'takenunknown': '0', 'lastupdate': '1642025637'}, 'views': '555', 'editability': {'cancomment': 0, 'canaddmeta': 0}, 'publiceditability': {'cancomment': 1, 'canaddmeta': 0}, 'usage': {'candownload': 1, 'canblog': 0, 'canprint': 0, 'canshare': 1}, 'comments': {'_content': '0'}, 'notes': {'note': []}, 'people': {'haspeople': 0}, 'tags': {'tag': [{'id': '5999050-51817378979-271', 'author': '67928702@N00', 'authorname': 'Jeffrey McCalib', 'raw': 'arizona', '_content': 'arizona', 'machine_tag': 0}, {'id': '5999050-51817378979-21143', 'author': '67928702@N00', 'authorname': 'Jeffrey McCalib', 'raw': 'seahawks', '_content': 'seahawks', 'machine_tag': 0}, {'id': '5999050-51817378979-2481', 'author': '67928702@N00', 'authorname': 'Jeffrey McCalib', 'raw': 'football', '_content': 'football', 'machine_tag': 0}, {'id': '5999050-51817378979-6345', 'author': '67928702@N00', 'authorname': 'Jeffrey McCalib', 'raw': 'nfl', '_content': 'nfl', 'machine_tag': 0}, {'id': '5999050-51817378979-483', 'author': '67928702@N00', 'authorname': 'Jeffrey McCalib', 'raw': 'game', '_content': 'game', 'machine_tag': 0}, {'id': '5999050-51817378979-3989', 'author': '67928702@N00', 'authorname': 'Jeffrey McCalib', 'raw': 'cheerleaders', '_content': 'cheerleaders', 'machine_tag': 0}, {'id': '5999050-51817378979-271371', 'author': '67928702@N00', 'authorname': 'Jeffrey McCalib', 'raw': '2022', '_content': '2022', 'machine_tag': 0}, {'id': '5999050-51817378979-4304', 'author': '67928702@N00', 'authorname': 'Jeffrey McCalib', 'raw': 'glendale', '_content': 'glendale', 'machine_tag': 0}, {'id': '5999050-51817378979-51464', 'author': '67928702@N00', 'authorname': 'Jeffrey McCalib', 'raw': 'section', '_content': 'section', 'machine_tag': 0}, {'id': '5999050-51817378979-154665', 'author': '67928702@N00', 'authorname': 'Jeffrey McCalib', 'raw': '125', '_content': '125', 'machine_tag': 0}]}, 'location': {'latitude': '33.528363', 'longitude': '-112.263439', 'accuracy': '16', 'context': '0', 'locality': {'_content': 'Shamrock Mobile Home Park'}, 'county': {'_content': 'Maricopa'}, 'region': {'_content': 'Arizona'}, 'country': {'_content': 'United States'}, 'neighbourhood': {'_content': ''}}, 'geoperms': {'ispublic': 1, 'iscontact': 0, 'isfriend': 0, 'isfamily': 0}, 'urls': {'url': [{'type': 'photopage', '_content': 'https://www.flickr.com/photos/jeffreymccalib/51817378979/'}]}, 'media': 'photo'}, 'stat': 'ok'}\n"
     ]
    }
   ],
   "source": [
    "import json\n",
    "# convert binary data to string \n",
    "print(\"decode: \", type(photo_info.decode()))\n",
    "photo_info_d = photo_info.decode()\n",
    "# load photo information\n",
    "photo_info_l = json.loads(photo_info_d)\n",
    "print(\"information load: \", photo_info_l)"
   ]
  },
  {
   "cell_type": "code",
   "execution_count": 26,
   "metadata": {},
   "outputs": [
    {
     "name": "stdout",
     "output_type": "stream",
     "text": [
      "photo id:  51713119281\n"
     ]
    }
   ],
   "source": [
    "# get specific attribute\n",
    "photo_id = photo_info_l[\"photo\"][\"id\"]\n",
    "print(\"photo id: \", photo_id)"
   ]
  },
  {
   "cell_type": "markdown",
   "metadata": {},
   "source": [
    "# Pause Program Execution"
   ]
  },
  {
   "cell_type": "code",
   "execution_count": 20,
   "metadata": {},
   "outputs": [
    {
     "name": "stdout",
     "output_type": "stream",
     "text": [
      "Start 10:37:53\n",
      "End 10:37:56\n"
     ]
    }
   ],
   "source": [
    "import time\n",
    "from datetime import datetime\n",
    "\n",
    "print(\"Start\", datetime.now().strftime(\"%H:%M:%S\")) # record the start time\n",
    "time.sleep(3) # sleep for three second\n",
    "print(\"End\", datetime.now().strftime(\"%H:%M:%S\")) # record the end time"
   ]
  },
  {
   "cell_type": "markdown",
   "metadata": {},
   "source": [
    "# Tasks\n",
    "Submit the code (.py) and CSV files with photos information.  \n",
    "Task 1:  \n",
    "Design your own data collection tasks with at least 5 criteria. \n",
    "For example, collect [50 photos] inside [1 km] of [Science Hall, Madison], taken in the [year 2018].  \n",
    "\n",
    "Task 2:   \n",
    "Finish your task! For each collected photo, please retrieve the following attributes of photo information, and save them as a CSV file:  \n",
    "Photo id, coordinates, tags, taken time, url, user id, username, realname, registered location, photos count…  \n",
    "Field missing is allowed.   \n",
    "Hint: To retrieve the user information of a photo, please check flickr.people.  "
   ]
  },
  {
   "cell_type": "code",
   "execution_count": null,
   "metadata": {},
   "outputs": [],
   "source": []
  }
 ],
 "metadata": {
  "kernelspec": {
   "display_name": "Python 3 (ipykernel)",
   "language": "python",
   "name": "python3"
  },
  "language_info": {
   "codemirror_mode": {
    "name": "ipython",
    "version": 3
   },
   "file_extension": ".py",
   "mimetype": "text/x-python",
   "name": "python",
   "nbconvert_exporter": "python",
   "pygments_lexer": "ipython3",
   "version": "3.9.13"
  }
 },
 "nbformat": 4,
 "nbformat_minor": 4
}
