{
 "cells": [
  {
   "cell_type": "markdown",
   "id": "c382ee12-1e81-42a8-ad52-a291e3802c09",
   "metadata": {},
   "source": [
    "## Task 1: computing the area, the centroid, and the minimum bounding envelop of a simple polygon. "
   ]
  },
  {
   "cell_type": "code",
   "execution_count": 37,
   "id": "a417340d-8f2c-4c57-a32e-1b856cc8bad2",
   "metadata": {},
   "outputs": [],
   "source": [
    "import pandas as pd\n",
    "import numpy as np\n",
    "from shapely.geometry import Point"
   ]
  },
  {
   "cell_type": "code",
   "execution_count": 2,
   "id": "1fa8d34f-6820-448e-a4ab-b8680b140658",
   "metadata": {},
   "outputs": [],
   "source": [
    "# Define point, polygon, area, centroid, envelop\n",
    "class Point:\n",
    "    def __init__(self,x,y):\n",
    "        self.lon = x\n",
    "        self.lat = y\n",
    "        \n",
    "class Polygon:\n",
    "    def __init__(self, points = []):\n",
    "        self.points = points\n",
    "\n",
    "    def getArea(self):\n",
    "        n = len(self.points)\n",
    "        area = 0.0\n",
    "        for i in range(n-1):\n",
    "            area += ((self.points[i+1].lon * self.points[i].lat) - (self.points[i].lon * self.points[i+1].lat))\n",
    "        return abs(area)/2\n",
    "        return area\n",
    "    \n",
    "    def getCentroid(self):\n",
    "        n = len(self.points)\n",
    "        cx = cy = 0.0\n",
    "        area = self.getArea()\n",
    "        for i in range(n-1):\n",
    "            value = ((self.points[i].lon * self.points[i+1].lat)-(self.points[i+1].lon * self.points[i].lat))\n",
    "            cx += (self.points[i].lon + self.points[i+1].lon) * value\n",
    "            cy += (self.points[i].lat + self.points[i+1].lat) * value\n",
    "        cx = round(cx / (6 * area),2)\n",
    "        cy = round(cy / (6 * area),2)\n",
    "        return (cx, cy)\n",
    "    \n",
    "    def getEnvelop(self):\n",
    "        min_lon = min([point.lon for point in self.points])\n",
    "        min_lat = min([point.lat for point in self.points])\n",
    "        max_lon = max([point.lon for point in self.points])\n",
    "        max_lat = max([point.lat for point in self.points])\n",
    "        return [(min_lon, min_lat), (max_lon, max_lat)]"
   ]
  },
  {
   "cell_type": "code",
   "execution_count": 3,
   "id": "2ae0bb0e-23de-4f15-ab76-267fd8db8fd8",
   "metadata": {},
   "outputs": [
    {
     "name": "stdout",
     "output_type": "stream",
     "text": [
      "The area of given Multipoints is : 7.5\n",
      "The centroid of obtained area is : (1.98, 3.2)\n",
      "The Mimimum bounding envelope of polygon is: [(1, 1), (6, 8)]\n"
     ]
    }
   ],
   "source": [
    "if __name__ == '__main__':\n",
    "    P1 = Point(2, 1)\n",
    "    P2 = Point(3, 5)\n",
    "    P3 = Point(6, 8)\n",
    "    P4 = Point(1, 4)\n",
    "    P5 = Point(1, 2)\n",
    "    parcel= Polygon([P1,P2,P3,P4,P5])\n",
    "    print(f\"The area of given Multipoints is : {parcel.getArea()}\")\n",
    "    print(f\"The centroid of obtained area is : {parcel.getCentroid()}\")\n",
    "    print(f'The Mimimum bounding envelope of polygon is: {parcel.getEnvelop()}')"
   ]
  },
  {
   "cell_type": "markdown",
   "id": "3ee3d5d4-58cc-4b61-bb08-01f44caac8fa",
   "metadata": {},
   "source": [
    "## Task -2: Collect 500 Flickr photos based on a geographic region, save the photo metadata in the CSV format. "
   ]
  },
  {
   "cell_type": "code",
   "execution_count": 9,
   "id": "8292e2d6-c1e3-433e-9667-ad6508196448",
   "metadata": {},
   "outputs": [],
   "source": [
    "import flickrapi\n",
    "import getpass\n",
    "from datetime import date\n",
    "import json"
   ]
  },
  {
   "cell_type": "code",
   "execution_count": 6,
   "id": "eb321092-8730-416e-8451-0c86f6deaf00",
   "metadata": {},
   "outputs": [
    {
     "name": "stdin",
     "output_type": "stream",
     "text": [
      "Enter your API Key ································\n",
      "Enter your API Secret ················\n"
     ]
    }
   ],
   "source": [
    "API_KEY = getpass.getpass(\"Enter your API Key\")\n",
    "API_SECRET = getpass.getpass(\"Enter your API Secret\")"
   ]
  },
  {
   "cell_type": "code",
   "execution_count": 7,
   "id": "7352b94e-d0de-4fa2-893c-fc194b84ef95",
   "metadata": {},
   "outputs": [],
   "source": [
    "# create the API class\n",
    "flickr = flickrapi.FlickrAPI(API_KEY, API_SECRET, cache=True)\n",
    "\n",
    "# retriving a set of photos within 15 km of the Disney World (28.377044063126185, -81.57033230607277)\n",
    "photos = flickr.walk(lat=28.3770, lon=-81.5703, radius=15, extras='url_c', max_upload_date=str(date.today()))\n",
    "\n",
    "# iterate photos in the photo set\n",
    "photos_id_list = []\n",
    "for i, photo_url in enumerate(photos):\n",
    "    if i > 500: # only collect the first 50 photos\n",
    "        break\n",
    "        \n",
    "    # get the photo url\n",
    "    url = photo_url.get('url_c')\n",
    "    url_id = photo_url.get('id')\n",
    "    if url is not None:\n",
    "        photos_id_list.append(url_id)\n",
    "        \n",
    "#print(photos_id_list)"
   ]
  },
  {
   "cell_type": "code",
   "execution_count": 13,
   "id": "c3fd7258-e936-4bd6-90da-8e605ef094d0",
   "metadata": {},
   "outputs": [],
   "source": [
    "# creating a list to store photo information\n",
    "photo_list = []\n",
    "\n",
    "for i in photos_id_list:\n",
    "    photo_info = flickr.photos.getInfo(photo_id=i, format='json')\n",
    "    photo_info_d = photo_info.decode()\n",
    "    photo_info_l = json.loads(photo_info_d)\n",
    "    user_info = flickr.people.getInfo(api_key = API_KEY, user_id = photo_info_l[\"photo\"][\"owner\"][\"nsid\"], format = 'json')\n",
    "    user_info_d = user_info.decode()\n",
    "    user_info_l = json.loads(user_info_d)\n",
    "    \n",
    "    photo_id = photo_info_l ['photo']['id']\n",
    "    latitude = photo_info_l ['photo'] ['location'] ['latitude']\n",
    "    longitude = photo_info_l ['photo'] ['location'] ['longitude']\n",
    "    taken_time = photo_info_l ['photo'] ['dates'] ['taken']\n",
    "    url = photo_info_l ['photo'] ['urls'] ['url'][0] ['_content']\n",
    "    user_id = photo_info_l ['photo'] ['owner'] ['nsid']\n",
    "    username = photo_info_l ['photo'] ['owner'] ['username']\n",
    "    realname = photo_info_l ['photo'] ['owner'] ['realname']\n",
    "    registered_location = photo_info_l ['photo']['owner']['location']\n",
    "    photos_count = user_info_l ['person'] ['photos'] ['count'] ['_content']\n",
    "    \n",
    "    tags = photo_info_l ['photo'] ['tags'] ['tag']\n",
    "    if tags:\n",
    "        user_tags = [tag['_content'] for tag in tags]\n",
    "        #print(user_tags)\n",
    "    else:\n",
    "        user_tags = []\n",
    "    \n",
    "    #print(f'photo_id: {photo_id}, latitude: {latitude}, longitude: {longitude}, tags: {user_tags} , taken_time: {taken_time}, url: {url}, user_id: {user_id}, username: {username}, realname: {realname}, registered_location: {registered_location}, photos_count: {photos_count}')\n",
    "    \n",
    "    photo_list.append([photo_id, latitude, longitude, user_tags, taken_time, url, user_id, username, realname, registered_location, photos_count])"
   ]
  },
  {
   "cell_type": "code",
   "execution_count": 15,
   "id": "81f6c4ba-8eb6-4d1c-a643-4f0cb1047b19",
   "metadata": {},
   "outputs": [],
   "source": [
    "# Create a dataframe for the collected photos information\n",
    "flickr_df = pd.DataFrame(photo_list, columns = ['photo_id', 'latitude', 'longitude', 'user_tags', 'taken_time', 'url', 'user_id', 'username', 'realname', 'registered_location', 'photos_count'])\n",
    "#flickr_df.head()\n",
    "flickr_df.to_csv('flickr_disney_world_photos.csv')"
   ]
  },
  {
   "cell_type": "code",
   "execution_count": 17,
   "id": "52e85ac5-d16c-4821-b340-d40a1b2f1c5d",
   "metadata": {},
   "outputs": [
    {
     "data": {
      "text/html": [
       "<div>\n",
       "<style scoped>\n",
       "    .dataframe tbody tr th:only-of-type {\n",
       "        vertical-align: middle;\n",
       "    }\n",
       "\n",
       "    .dataframe tbody tr th {\n",
       "        vertical-align: top;\n",
       "    }\n",
       "\n",
       "    .dataframe thead th {\n",
       "        text-align: right;\n",
       "    }\n",
       "</style>\n",
       "<table border=\"1\" class=\"dataframe\">\n",
       "  <thead>\n",
       "    <tr style=\"text-align: right;\">\n",
       "      <th></th>\n",
       "      <th>photo_id</th>\n",
       "      <th>latitude</th>\n",
       "      <th>longitude</th>\n",
       "      <th>user_tags</th>\n",
       "      <th>taken_time</th>\n",
       "      <th>url</th>\n",
       "      <th>user_id</th>\n",
       "      <th>username</th>\n",
       "      <th>realname</th>\n",
       "      <th>registered_location</th>\n",
       "      <th>photos_count</th>\n",
       "      <th>geometry</th>\n",
       "    </tr>\n",
       "  </thead>\n",
       "  <tbody>\n",
       "    <tr>\n",
       "      <th>0</th>\n",
       "      <td>52730288796</td>\n",
       "      <td>28.458472</td>\n",
       "      <td>-81.463745</td>\n",
       "      <td>[]</td>\n",
       "      <td>2023-03-06 13:38:36</td>\n",
       "      <td>https://www.flickr.com/photos/29958880@N00/527...</td>\n",
       "      <td>29958880@N00</td>\n",
       "      <td>jonmc</td>\n",
       "      <td>Jon Mc</td>\n",
       "      <td>Orlando, FL, United States</td>\n",
       "      <td>7202</td>\n",
       "      <td>POINT (-81.46375 28.45847)</td>\n",
       "    </tr>\n",
       "    <tr>\n",
       "      <th>1</th>\n",
       "      <td>52728419714</td>\n",
       "      <td>28.372627</td>\n",
       "      <td>-81.510223</td>\n",
       "      <td>[vacation, travel]</td>\n",
       "      <td>2019-03-21 09:52:30</td>\n",
       "      <td>https://www.flickr.com/photos/197836684@N06/52...</td>\n",
       "      <td>197836684@N06</td>\n",
       "      <td>vDelboy</td>\n",
       "      <td>Dale Carter</td>\n",
       "      <td>None</td>\n",
       "      <td>1072</td>\n",
       "      <td>POINT (-81.51022 28.37263)</td>\n",
       "    </tr>\n",
       "    <tr>\n",
       "      <th>2</th>\n",
       "      <td>52728417939</td>\n",
       "      <td>28.410333</td>\n",
       "      <td>-81.461834</td>\n",
       "      <td>[seaworld, orlando, vacation, travel]</td>\n",
       "      <td>2005-04-08 15:16:23</td>\n",
       "      <td>https://www.flickr.com/photos/197836684@N06/52...</td>\n",
       "      <td>197836684@N06</td>\n",
       "      <td>vDelboy</td>\n",
       "      <td>Dale Carter</td>\n",
       "      <td>None</td>\n",
       "      <td>1072</td>\n",
       "      <td>POINT (-81.46183 28.41033)</td>\n",
       "    </tr>\n",
       "    <tr>\n",
       "      <th>3</th>\n",
       "      <td>52723076532</td>\n",
       "      <td>28.356236</td>\n",
       "      <td>-81.562125</td>\n",
       "      <td>[disney202007]</td>\n",
       "      <td>2020-07-17 09:39:48</td>\n",
       "      <td>https://www.flickr.com/photos/frankfranc/52723...</td>\n",
       "      <td>89451823@N08</td>\n",
       "      <td>FrankHPhillips</td>\n",
       "      <td>Frank Phillips</td>\n",
       "      <td></td>\n",
       "      <td>2283</td>\n",
       "      <td>POINT (-81.56212 28.35624)</td>\n",
       "    </tr>\n",
       "    <tr>\n",
       "      <th>4</th>\n",
       "      <td>52724008210</td>\n",
       "      <td>28.356522</td>\n",
       "      <td>-81.561767</td>\n",
       "      <td>[disney202007]</td>\n",
       "      <td>2020-07-17 09:04:24</td>\n",
       "      <td>https://www.flickr.com/photos/frankfranc/52724...</td>\n",
       "      <td>89451823@N08</td>\n",
       "      <td>FrankHPhillips</td>\n",
       "      <td>Frank Phillips</td>\n",
       "      <td></td>\n",
       "      <td>2283</td>\n",
       "      <td>POINT (-81.56177 28.35652)</td>\n",
       "    </tr>\n",
       "  </tbody>\n",
       "</table>\n",
       "</div>"
      ],
      "text/plain": [
       "      photo_id   latitude   longitude                              user_tags  \\\n",
       "0  52730288796  28.458472  -81.463745                                     []   \n",
       "1  52728419714  28.372627  -81.510223                     [vacation, travel]   \n",
       "2  52728417939  28.410333  -81.461834  [seaworld, orlando, vacation, travel]   \n",
       "3  52723076532  28.356236  -81.562125                         [disney202007]   \n",
       "4  52724008210  28.356522  -81.561767                         [disney202007]   \n",
       "\n",
       "            taken_time                                                url  \\\n",
       "0  2023-03-06 13:38:36  https://www.flickr.com/photos/29958880@N00/527...   \n",
       "1  2019-03-21 09:52:30  https://www.flickr.com/photos/197836684@N06/52...   \n",
       "2  2005-04-08 15:16:23  https://www.flickr.com/photos/197836684@N06/52...   \n",
       "3  2020-07-17 09:39:48  https://www.flickr.com/photos/frankfranc/52723...   \n",
       "4  2020-07-17 09:04:24  https://www.flickr.com/photos/frankfranc/52724...   \n",
       "\n",
       "         user_id        username        realname         registered_location  \\\n",
       "0   29958880@N00           jonmc          Jon Mc  Orlando, FL, United States   \n",
       "1  197836684@N06         vDelboy     Dale Carter                        None   \n",
       "2  197836684@N06         vDelboy     Dale Carter                        None   \n",
       "3   89451823@N08  FrankHPhillips  Frank Phillips                               \n",
       "4   89451823@N08  FrankHPhillips  Frank Phillips                               \n",
       "\n",
       "   photos_count                    geometry  \n",
       "0          7202  POINT (-81.46375 28.45847)  \n",
       "1          1072  POINT (-81.51022 28.37263)  \n",
       "2          1072  POINT (-81.46183 28.41033)  \n",
       "3          2283  POINT (-81.56212 28.35624)  \n",
       "4          2283  POINT (-81.56177 28.35652)  "
      ]
     },
     "execution_count": 17,
     "metadata": {},
     "output_type": "execute_result"
    }
   ],
   "source": [
    "import geopandas as gpd\n",
    "\n",
    "#Creating a flickr photos geodataframe\n",
    "flickr_gdf = gpd.GeoDataFrame(data = flickr_df, geometry = gpd.points_from_xy(x = flickr_df.longitude, y = flickr_df.latitude, crs = 'EPSG:4326'))\n",
    "flickr_gdf.head()"
   ]
  },
  {
   "cell_type": "code",
   "execution_count": 18,
   "id": "a5fa47fe-bdc6-4b64-b10e-006454e23f18",
   "metadata": {},
   "outputs": [],
   "source": [
    "import matplotlib.pyplot as plt"
   ]
  },
  {
   "cell_type": "code",
   "execution_count": 21,
   "id": "80d85a3f-0bd5-4435-a31f-265a69f42854",
   "metadata": {},
   "outputs": [
    {
     "data": {
      "image/png": "[encoded data removed]",
      "text/plain": [
       "<Figure size 432x288 with 1 Axes>"
      ]
     },
     "metadata": {
      "needs_background": "light"
     },
     "output_type": "display_data"
    }
   ],
   "source": [
    "#flickr_gdf = flickr_gdf.to_crs(epsg = 4326) \n",
    "\n",
    "flickr_gdf.plot(color = 'red', marker = '+', alpha = 0.5)\n",
    "plt.xlabel('Longitude')\n",
    "plt.ylabel('Latitude')\n",
    "plt.title('Flickr Photo Locations within 15 km from Disney world, orlando, Florida')\n",
    "plt.show()"
   ]
  },
  {
   "cell_type": "code",
   "execution_count": 24,
   "id": "6c4c0f1e-1343-4f1e-8c64-8b7a05a00f84",
   "metadata": {},
   "outputs": [
    {
     "data": {
      "image/png": "[encoded data removed]",
      "text/plain": [
       "<Figure size 432x288 with 1 Axes>"
      ]
     },
     "metadata": {
      "needs_background": "light"
     },
     "output_type": "display_data"
    }
   ],
   "source": [
    "# read orange county, FL shape file\n",
    "\n",
    "zipfile ='Orange_County_Boundary.zip'\n",
    "orange_county = gpd.read_file(zipfile)\n",
    "ax = orange_county.plot(color='white', edgecolor='blue')\n",
    "plt.show()"
   ]
  },
  {
   "cell_type": "code",
   "execution_count": 25,
   "id": "f1a6afab-8a69-41dc-a4b6-557a55f7d2d2",
   "metadata": {},
   "outputs": [
    {
     "data": {
      "image/png": "[encoded data removed]",
      "text/plain": [
       "<Figure size 432x288 with 1 Axes>"
      ]
     },
     "metadata": {
      "needs_background": "light"
     },
     "output_type": "display_data"
    }
   ],
   "source": [
    "#locating flicker user location in orange county shapefile\n",
    "ax = orange_county.plot(color='#ffe3c6', edgecolor='white')\n",
    "flickr_gdf.plot(ax=ax, marker = '+', color='grey', label = 'Photo location', alpha = 0.5)\n",
    "\n",
    "plt.title('Flickr photo locations around Disney World, Florida')\n",
    "plt.legend()\n",
    "plt.show()"
   ]
  },
  {
   "cell_type": "code",
   "execution_count": 51,
   "id": "eed0e04e-7c87-45dc-bc7a-8591cb4d3812",
   "metadata": {},
   "outputs": [
    {
     "data": {
      "image/png": "[encoded data removed]",
      "text/plain": [
       "<Figure size 432x288 with 1 Axes>"
      ]
     },
     "metadata": {
      "needs_background": "light"
     },
     "output_type": "display_data"
    }
   ],
   "source": [
    "# plotting flicker photo within orange county\n",
    "\n",
    "orange_gs = orange_county.geometry[0]    # convert geopandas geometry into geoseries\n",
    "flickr_orange_gdf = flickr_gdf[flickr_gdf.within(orange_gs)]\n",
    "\n",
    "ax = orange_county.plot(color='#ffe3c6', edgecolor='white')\n",
    "flickr_orange_gdf.plot(ax=ax, marker = '+', color='grey', label = 'Photo location', alpha = 0.5)\n",
    "\n",
    "plt.title('Flickr photo location within orlando and arround disney world in orange county, Florida')\n",
    "plt.legend()\n",
    "plt.show()"
   ]
  },
  {
   "cell_type": "code",
   "execution_count": 27,
   "id": "e07e4bf5-5ba5-4362-970d-c8b951b1062a",
   "metadata": {},
   "outputs": [],
   "source": [
    "flickr_orange_gdf.to_csv('flickr_photos_within_orange_county_Disney_world_florida')"
   ]
  },
  {
   "cell_type": "markdown",
   "id": "2ee4b1fb-9da3-412b-97bb-ee604778595e",
   "metadata": {},
   "source": [
    "## Task 3: K means Clustering for Flickr photo locations"
   ]
  },
  {
   "cell_type": "code",
   "execution_count": 35,
   "id": "7124d27d-d5e1-4859-a333-a136416e6d47",
   "metadata": {},
   "outputs": [],
   "source": [
    "import random\n",
    "import math"
   ]
  },
  {
   "cell_type": "code",
   "execution_count": 47,
   "id": "e4c003f2-69db-4a1b-a9ca-fb00216b1b90",
   "metadata": {},
   "outputs": [],
   "source": [
    "#creating empty list to store photos geomentry data\n",
    "geom_data = []\n",
    "\n",
    "for row in flickr_orange_gdf.itertuples():\n",
    "    geom_data.append((float(row.longitude), float(row.latitude)))"
   ]
  },
  {
   "cell_type": "code",
   "execution_count": 48,
   "id": "7749e326-2db3-4c57-b820-cba831ab6e74",
   "metadata": {},
   "outputs": [],
   "source": [
    "#define a function which return random data point as the centroid for a cluster.\n",
    "def get_random_centroid(data_points):\n",
    "    return data_points[random.randint(0,len(data_points)-1)]\n",
    "\n",
    "#define a function which computes the Euclidean distance between a point and a centroid.\n",
    "def get_distance(point, centroid):\n",
    "    distance = math.sqrt((point[0]-centroid[0])**2 + (point[1]-centroid[1])**2)\n",
    "    return distance\n",
    "\n",
    "# define a function to calculates the new centroid for a cluster by taking the mean of all the data points assigned to that cluster.\n",
    "def update_centroid(data_points, cluster_labels, cluster_number):\n",
    "    sum_x = 0\n",
    "    sum_y = 0\n",
    "    count = 0\n",
    "    for point in data_points:\n",
    "        if cluster_labels[point] == cluster_number:\n",
    "            sum_x += point[0]\n",
    "            sum_y += point[1]\n",
    "            count += 1\n",
    "    if count > 0:\n",
    "        return (sum_x/count, sum_y/count)\n",
    "    else:\n",
    "        return get_random_centroid(data_points)"
   ]
  },
  {
   "cell_type": "code",
   "execution_count": 49,
   "id": "3c257b0f-7780-4b26-8fb4-ec5f8c7ae941",
   "metadata": {},
   "outputs": [],
   "source": [
    "def KMeans_Clustering(k, max_iterations, data_points):\n",
    "    centroids={} \n",
    "    cluster_labels = {} \n",
    "    \n",
    "    for i in range (k):   # loop to initializes the centroids dictionary by assigning a random centroid to each cluster.\n",
    "        centroids[i] = get_random_centroid(data_points)\n",
    "        \n",
    "    for j in range(max_iterations):   # loop to performs the KMeans clustering algorithm for the specified number of iterations.\n",
    "        \n",
    "        for eachpoint in data_points:  #  loop to assigns each data point to its nearest cluster by calculating the distance between the point and each centroid, and then assigning the point to the cluster with the closest centroid.\n",
    "            dist_min = 99999999\n",
    "            for i in range (k):\n",
    "                distance=get_distance(eachpoint,centroids[i])\n",
    "                if distance < dist_min:\n",
    "                    dist_min=distance\n",
    "                    cluster_labels[eachpoint]=i\n",
    "        \n",
    "       \n",
    "        for i in range (k):   #loop to updates the centroids for each cluster by calculating the mean of the points assigned to that cluster, or by selecting a random data point if there are no points assigned to the cluster.\n",
    "            centroids[i] = update_centroid(data_points, cluster_labels, i)\n",
    "    return cluster_labels\n"
   ]
  },
  {
   "cell_type": "code",
   "execution_count": 50,
   "id": "f00b56eb-aa7c-4c6e-bdb1-5d8a6c6610f9",
   "metadata": {},
   "outputs": [
    {
     "data": {
      "image/png": "[encoded data removed]",
      "text/plain": [
       "<Figure size 432x288 with 2 Axes>"
      ]
     },
     "metadata": {
      "needs_background": "light"
     },
     "output_type": "display_data"
    }
   ],
   "source": [
    "# Generate random data points\n",
    "data_points = geom_data\n",
    "\n",
    "# Perform KMeans clustering\n",
    "k = 3\n",
    "max_iterations = 100\n",
    "cluster_labels = KMeans_Clustering(k, max_iterations, data_points)\n",
    "\n",
    "# Separate the data points by their cluster label\n",
    "clusters = {}\n",
    "for point, label in cluster_labels.items():\n",
    "    if label not in clusters:\n",
    "        clusters[label] = []\n",
    "    clusters[label].append(point)\n",
    "\n",
    "# Plot the input data points\n",
    "plt.subplot(1,2,1)\n",
    "x = [data[0] for data in data_points]\n",
    "y = [data[1] for data in data_points]\n",
    "plt.scatter(x, y, color='blue', label='Input Data')\n",
    "plt.title('Input data')\n",
    "\n",
    "# Plot the output clusters\n",
    "plt.subplot(1,2,2)\n",
    "colors = ['red', 'green', 'purple']\n",
    "for label, points in clusters.items():\n",
    "    x, y = [val[0] for val in points], [val[1] for val in points]\n",
    "    plt.scatter(x, y, color=colors[label], label=f'Cluster {label+1}')\n",
    "\n",
    "plt.title(f'KMeans Clustering (k={k})')\n",
    "plt.legend()\n",
    "plt.tight_layout()"
   ]
  },
  {
   "cell_type": "code",
   "execution_count": null,
   "id": "0c396b5b-15a2-49c9-83f9-d2b82d840d2c",
   "metadata": {},
   "outputs": [],
   "source": []
  }
 ],
 "metadata": {
  "kernelspec": {
   "display_name": "Python 3 (ipykernel)",
   "language": "python",
   "name": "python3"
  },
  "language_info": {
   "codemirror_mode": {
    "name": "ipython",
    "version": 3
   },
   "file_extension": ".py",
   "mimetype": "text/x-python",
   "name": "python",
   "nbconvert_exporter": "python",
   "pygments_lexer": "ipython3",
   "version": "3.9.7"
  }
 },
 "nbformat": 4,
 "nbformat_minor": 5
}
