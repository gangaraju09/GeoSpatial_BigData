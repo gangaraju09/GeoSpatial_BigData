{
 "cells": [
  {
   "cell_type": "markdown",
   "metadata": {
    "tags": []
   },
   "source": [
    "# Geog 573 Advanced Geocomputing and Geospatial Big Data Analytics\n",
    "# Prof. Song Gao (song.gao@wisc.edu)\n",
    "# TA: Yuhao Kang (yuhao.kang@wisc.edu)\n",
    "# Lab6-Vector Analysis"
   ]
  },
  {
   "cell_type": "markdown",
   "metadata": {},
   "source": [
    "1. Google Maps Geocoding API\n",
    "2. Vector Computation  \n",
    "Calculate the area of a polygon  \n",
    "Calculate the centroid of a polygon  \n",
    "Calculate the minimum bounding envelop of a polygon  \n",
    "3. Use Shapely to create geographic objects  \n",
    "Create geographic objects  \n",
    "Check spatial relationships  \n",
    "4. Use GeoPandas to process geographic objects  \n",
    "GeoSeries  \n",
    "GeoDataFrame  \n",
    "5. Perform K-means clustering   "
   ]
  },
  {
   "cell_type": "markdown",
   "metadata": {
    "tags": []
   },
   "source": [
    "## Google Maps Geocoding API"
   ]
  },
  {
   "cell_type": "code",
   "execution_count": null,
   "metadata": {},
   "outputs": [],
   "source": [
    "!pip install googlemaps\n",
    "import googlemaps\n",
    "from datetime import datetime\n",
    "\n",
    "gmaps = googlemaps.Client(key='Your own API Key')\n",
    "\n",
    "# Geocoding an address\n",
    "geocode_result = gmaps.geocode('1600 Amphitheatre Parkway, Mountain View, CA')               \n",
    "geocode_result"
   ]
  },
  {
   "cell_type": "markdown",
   "metadata": {},
   "source": [
    "# Vector Computation"
   ]
  },
  {
   "cell_type": "code",
   "execution_count": 2,
   "metadata": {},
   "outputs": [
    {
     "name": "stdout",
     "output_type": "stream",
     "text": [
      "length:  7.0\n"
     ]
    }
   ],
   "source": [
    "import sys\n",
    "import os\n",
    "import math\n",
    "import json\n",
    "\n",
    "class Point:\n",
    "    def __init__(self,x,y):\n",
    "        self.lon = x\n",
    "        self.lat = y\n",
    "        \n",
    "class Polyline:\n",
    "    def __init__(self, points = []):\n",
    "        self.points = points\n",
    "        \n",
    "    def getLength(self): # Euclidean distance\n",
    "        Length = 0.0\n",
    "        for i in range(len(self.points)-1):\n",
    "            Length += math.sqrt((self.points[i+1].lon-self.points[i].lon)**2 +(self.points[i+1].lat-self.points[i].lat)**2)\n",
    "        return Length\n",
    "\n",
    "class Polygon:\n",
    "    def __init__(self, points = []):\n",
    "        self.points = points\n",
    "        \n",
    "    def getArea(self):\n",
    "        # Implement the method here\n",
    "        print(\"caculate the area of a polygon\")\n",
    "    \n",
    "    def getCentroid(self):\n",
    "        # Implement the method here\n",
    "        print(\"get the centroid of a polygon\")\n",
    "        \n",
    "    def getEnvelop(self):\n",
    "        # Implement the method here\n",
    "        print(\"get the minumum bounding envelop of a polygon\")\n",
    "\n",
    "if __name__ == \"__main__\":\n",
    "    pointA=Point(0, 0)\n",
    "    pointB=Point(3, 0)\n",
    "    pointC=Point(3, 4)\n",
    "    line= Polyline([pointA,pointB,pointC])\n",
    "    print (\"length: \", line.getLength())"
   ]
  },
  {
   "cell_type": "markdown",
   "metadata": {},
   "source": [
    "# Shapely"
   ]
  },
  {
   "cell_type": "code",
   "execution_count": 3,
   "metadata": {},
   "outputs": [],
   "source": [
    "from shapely.geometry import Point, MultiPoint, LineString, Polygon, shape\n",
    "import json\n",
    "import pylab"
   ]
  },
  {
   "cell_type": "code",
   "execution_count": 4,
   "metadata": {},
   "outputs": [],
   "source": [
    "# Create points\n",
    "point_r = Point(-1.5, 1.2)\n",
    "point_g = Point(-1.0, 1.0)\n",
    "point_b = Point(-0.5, 0.5)\n",
    "point_m = MultiPoint([[-0.6, 0.4], [0.8, 0.2]])\n",
    "point_s = shape(json.loads('{\"type\": \"Point\", \"coordinates\": [0.0, 0.0]}'))\n",
    "\n",
    "# Create lines\n",
    "line_r = LineString(((-0.5, 0.5), (0.5, 0.5)))\n",
    "line_g = LineString(((1.0, -1.0), (1.8, 0.5)))\n",
    "line_b = LineString(((-1.8, -1.2), (1.8, 0.5), (1.5, 1.2)))\n",
    "line_s = shape(json.loads('{\"type\": \"LineString\", \"coordinates\": [[0.0, 0.0], [-0.5, 0.5]]}'))\n",
    "\n",
    "# Create polygon\n",
    "polygon = Polygon(((-1.0, -1.0), (-1.0, 1.0), (1.0, 1.0), (1.0, -1.0)))"
   ]
  },
  {
   "cell_type": "code",
   "execution_count": 5,
   "metadata": {},
   "outputs": [
    {
     "name": "stderr",
     "output_type": "stream",
     "text": [
      "/tmp/ipykernel_138/1002649150.py:9: ShapelyDeprecationWarning: __getitem__ for multi-part geometries is deprecated and will be removed in Shapely 2.0. Use the `geoms` property to access the constituent parts of a multi-part geometry.\n",
      "  plot_point(point_m[0], 'y+')\n",
      "/tmp/ipykernel_138/1002649150.py:10: ShapelyDeprecationWarning: __getitem__ for multi-part geometries is deprecated and will be removed in Shapely 2.0. Use the `geoms` property to access the constituent parts of a multi-part geometry.\n",
      "  plot_point(point_m[1], 'y+')\n"
     ]
    },
    {
     "data": {
      "image/png": "[encoded data removed]",
      "text/plain": [
       "<Figure size 432x288 with 1 Axes>"
      ]
     },
     "metadata": {
      "needs_background": "light"
     },
     "output_type": "display_data"
    }
   ],
   "source": [
    "# Plot point\n",
    "def plot_point(pt, marker): # more markers and colors at https://matplotlib.org/api/_as_gen/matplotlib.pyplot.plot.html\n",
    "    pylab.plot([pt.x], [pt.y], marker)\n",
    "    \n",
    "plot_point(point_r, 'ro') \n",
    "plot_point(point_g, 'go')\n",
    "plot_point(point_b, 'b+')\n",
    "plot_point(point_s, 'kp')\n",
    "plot_point(point_m[0], 'y+')\n",
    "plot_point(point_m[1], 'y+')"
   ]
  },
  {
   "cell_type": "code",
   "execution_count": 6,
   "metadata": {},
   "outputs": [
    {
     "data": {
      "image/png": "[encoded data removed]",
      "text/plain": [
       "<Figure size 432x288 with 1 Axes>"
      ]
     },
     "metadata": {
      "needs_background": "light"
     },
     "output_type": "display_data"
    }
   ],
   "source": [
    "# Plot lines\n",
    "def plot_line(line, marker):\n",
    "    pts = list(line.xy)\n",
    "    pylab.plot(list(pts[0]), list(pts[1]), marker)\n",
    "    \n",
    "plot_line(line_r, 'r')\n",
    "plot_line(line_g, 'g')\n",
    "plot_line(line_b, 'b')\n",
    "plot_line(line_s, 'y')"
   ]
  },
  {
   "cell_type": "code",
   "execution_count": 7,
   "metadata": {},
   "outputs": [
    {
     "name": "stderr",
     "output_type": "stream",
     "text": [
      "/tmp/ipykernel_138/3433096736.py:7: ShapelyDeprecationWarning: The array interface is deprecated and will no longer work in Shapely 2.0. Convert the '.coords' to a numpy array instead.\n",
      "  plot_line(line_r, 'r')\n",
      "/tmp/ipykernel_138/3433096736.py:8: ShapelyDeprecationWarning: The array interface is deprecated and will no longer work in Shapely 2.0. Convert the '.coords' to a numpy array instead.\n",
      "  plot_line(line_g, 'g')\n",
      "/tmp/ipykernel_138/3433096736.py:9: ShapelyDeprecationWarning: The array interface is deprecated and will no longer work in Shapely 2.0. Convert the '.coords' to a numpy array instead.\n",
      "  plot_line(line_b, 'b')\n",
      "/tmp/ipykernel_138/3433096736.py:10: ShapelyDeprecationWarning: The array interface is deprecated and will no longer work in Shapely 2.0. Convert the '.coords' to a numpy array instead.\n",
      "  plot_line(line_s, 'y')\n"
     ]
    },
    {
     "data": {
      "image/png": "[encoded data removed]",
      "text/plain": [
       "<Figure size 432x288 with 1 Axes>"
      ]
     },
     "metadata": {
      "needs_background": "light"
     },
     "output_type": "display_data"
    }
   ],
   "source": [
    "from numpy import asarray\n",
    "# Plot lines\n",
    "def plot_line(g, o):\n",
    "    a = asarray(g)\n",
    "    pylab.plot(a[:,0], a[:,1], o)\n",
    "    \n",
    "plot_line(line_r, 'r')\n",
    "plot_line(line_g, 'g')\n",
    "plot_line(line_b, 'b')\n",
    "plot_line(line_s, 'y')"
   ]
  },
  {
   "cell_type": "code",
   "execution_count": 8,
   "metadata": {},
   "outputs": [
    {
     "name": "stderr",
     "output_type": "stream",
     "text": [
      "/tmp/ipykernel_138/770705966.py:6: ShapelyDeprecationWarning: The array interface is deprecated and will no longer work in Shapely 2.0. Convert the '.coords' to a numpy array instead.\n",
      "  fill_polygon(polygon, 'orange')\n"
     ]
    },
    {
     "data": {
      "image/png": "[encoded data removed]",
      "text/plain": [
       "<Figure size 432x288 with 1 Axes>"
      ]
     },
     "metadata": {
      "needs_background": "light"
     },
     "output_type": "display_data"
    }
   ],
   "source": [
    "# Plot polygons\n",
    "def fill_polygon(polygon, o):\n",
    "    pts = asarray(polygon.exterior) # extract the coordinates of a polygon\n",
    "    pylab.fill(pts[:,0], pts[:,1], o, alpha=0.8) # using RGBA color model with alpha\n",
    "\n",
    "fill_polygon(polygon, 'orange')"
   ]
  },
  {
   "cell_type": "code",
   "execution_count": 9,
   "metadata": {},
   "outputs": [
    {
     "name": "stderr",
     "output_type": "stream",
     "text": [
      "/tmp/ipykernel_138/2748548784.py:10: ShapelyDeprecationWarning: The array interface is deprecated and will no longer work in Shapely 2.0. Convert the '.coords' to a numpy array instead.\n",
      "  plot_line(line_r, 'r')\n",
      "/tmp/ipykernel_138/2748548784.py:11: ShapelyDeprecationWarning: The array interface is deprecated and will no longer work in Shapely 2.0. Convert the '.coords' to a numpy array instead.\n",
      "  plot_line(line_g, 'g')\n",
      "/tmp/ipykernel_138/2748548784.py:12: ShapelyDeprecationWarning: The array interface is deprecated and will no longer work in Shapely 2.0. Convert the '.coords' to a numpy array instead.\n",
      "  plot_line(line_b, 'b')\n",
      "/tmp/ipykernel_138/2748548784.py:13: ShapelyDeprecationWarning: The array interface is deprecated and will no longer work in Shapely 2.0. Convert the '.coords' to a numpy array instead.\n",
      "  plot_line(line_s, 'y')\n",
      "/tmp/ipykernel_138/2748548784.py:15: ShapelyDeprecationWarning: The array interface is deprecated and will no longer work in Shapely 2.0. Convert the '.coords' to a numpy array instead.\n",
      "  fill_polygon(polygon, 'orange')\n"
     ]
    },
    {
     "data": {
      "image/png": "[encoded data removed]",
      "text/plain": [
       "<Figure size 800x600 with 1 Axes>"
      ]
     },
     "metadata": {
      "needs_background": "light"
     },
     "output_type": "display_data"
    }
   ],
   "source": [
    "# Plot in one figure\n",
    "fig = pylab.figure(1, figsize=(4, 3), dpi=200)\n",
    "pylab.axis([-2.0, 2.0, -1.5, 1.5]) \n",
    "\n",
    "plot_point(point_r, 'ro') \n",
    "plot_point(point_g, 'go')\n",
    "plot_point(point_b, 'b+')\n",
    "plot_point(point_s, 'kp')\n",
    "\n",
    "plot_line(line_r, 'r')\n",
    "plot_line(line_g, 'g')\n",
    "plot_line(line_b, 'b')\n",
    "plot_line(line_s, 'y')\n",
    "\n",
    "fill_polygon(polygon, 'orange')\n",
    "\n",
    "pylab.show()"
   ]
  },
  {
   "cell_type": "markdown",
   "metadata": {},
   "source": [
    "## Point in Polygon Check"
   ]
  },
  {
   "cell_type": "code",
   "execution_count": 10,
   "metadata": {},
   "outputs": [
    {
     "name": "stdout",
     "output_type": "stream",
     "text": [
      "False\n",
      "False\n",
      "True\n",
      "True\n",
      "True\n",
      "True\n"
     ]
    }
   ],
   "source": [
    "# Check if points locate inside the polygon\n",
    "print(point_r.within(polygon))\n",
    "print(point_g.within(polygon))\n",
    "# Check if points intersect the polygon\n",
    "print(point_g.intersects(polygon))\n",
    "print(point_b.intersects(polygon))\n",
    "# Check if polyline locate inside the polygon\n",
    "print(line_r.within(polygon))\n",
    "# Check if polyline intersect the polygon\n",
    "print(line_b.intersects(line_g))"
   ]
  },
  {
   "cell_type": "markdown",
   "metadata": {},
   "source": [
    "# GeoPandas -- GeoSeries"
   ]
  },
  {
   "cell_type": "code",
   "execution_count": 36,
   "metadata": {},
   "outputs": [],
   "source": [
    "import pandas as pd\n",
    "import geopandas as gpd\n",
    "# Create a geoseries with two points, one line, and one polygon\n",
    "gs = gpd.GeoSeries([point_r, point_g, line_b, polygon])"
   ]
  },
  {
   "cell_type": "code",
   "execution_count": 37,
   "metadata": {},
   "outputs": [
    {
     "name": "stdout",
     "output_type": "stream",
     "text": [
      "0                             POINT (-1.50000 1.20000)\n",
      "1                             POINT (-1.00000 1.00000)\n",
      "2    LINESTRING (-1.80000 -1.20000, 1.80000 0.50000...\n",
      "3    POLYGON ((-1.00000 -1.00000, -1.00000 1.00000,...\n",
      "dtype: geometry\n",
      "0                             POINT (-1.50000 1.20000)\n",
      "1                             POINT (-1.00000 1.00000)\n",
      "2    LINESTRING (-1.80000 -1.20000, 1.80000 0.50000...\n",
      "3    POLYGON ((-1.00000 -1.00000, -1.00000 1.00000,...\n",
      "dtype: geometry\n",
      "area:\n",
      " 0    0.0\n",
      "1    0.0\n",
      "2    0.0\n",
      "3    4.0\n",
      "dtype: float64\n",
      "centroid:\n",
      " 0     POINT (-1.50000 1.20000)\n",
      "1     POINT (-1.00000 1.00000)\n",
      "2     POINT (0.26495 -0.15731)\n",
      "3    POINT (-0.00000 -0.00000)\n",
      "dtype: geometry\n",
      "intersect:\n",
      " 0    False\n",
      "1    False\n",
      "2    False\n",
      "3     True\n",
      "dtype: bool\n",
      "contains:\n",
      " 0    False\n",
      "1    False\n",
      "2    False\n",
      "3     True\n",
      "dtype: bool\n",
      "buffer:\n",
      " 0    POLYGON ((-1.30000 1.20000, -1.30096 1.18040, ...\n",
      "1    POLYGON ((-0.80000 1.00000, -0.80096 0.98040, ...\n",
      "2    POLYGON ((1.54020 0.59849, 1.31617 1.12122, 1....\n",
      "3    POLYGON ((-1.00000 -1.20000, -1.01960 -1.19904...\n",
      "dtype: geometry\n",
      "convex hull:\n",
      " 0                             POINT (-1.50000 1.20000)\n",
      "1                             POINT (-1.00000 1.00000)\n",
      "2    POLYGON ((-1.80000 -1.20000, 1.50000 1.20000, ...\n",
      "3    POLYGON ((-1.00000 -1.00000, -1.00000 1.00000,...\n",
      "dtype: geometry\n"
     ]
    },
    {
     "data": {
      "text/plain": [
       "<AxesSubplot:>"
      ]
     },
     "execution_count": 37,
     "metadata": {},
     "output_type": "execute_result"
    },
    {
     "data": {
      "image/png": "[encoded data removed]",
      "text/plain": [
       "<Figure size 432x288 with 1 Axes>"
      ]
     },
     "metadata": {
      "needs_background": "light"
     },
     "output_type": "display_data"
    },
    {
     "data": {
      "image/png": "[encoded data removed]",
      "text/plain": [
       "<Figure size 432x288 with 1 Axes>"
      ]
     },
     "metadata": {
      "needs_background": "light"
     },
     "output_type": "display_data"
    },
    {
     "data": {
      "image/png": "[encoded data removed]",
      "text/plain": [
       "<Figure size 432x288 with 1 Axes>"
      ]
     },
     "metadata": {
      "needs_background": "light"
     },
     "output_type": "display_data"
    }
   ],
   "source": [
    "print(gs)\n",
    "gs.plot() # Plot the geoseries\n",
    "print(gs.geometry)\n",
    "print(\"area:\\n\", gs.area)\n",
    "print(\"centroid:\\n\", gs.centroid)\n",
    "print(\"intersect:\\n\", gs.intersects(point_b))\n",
    "print(\"contains:\\n\", gs.contains(point_b))\n",
    "print(\"buffer:\\n\", gs.buffer(0.2))\n",
    "gs.buffer(0.2).plot() # Plot the geoseries with buffer\n",
    "print(\"convex hull:\\n\", gs.convex_hull)\n",
    "gs.convex_hull.plot() # Plot the geoseries's convex hull"
   ]
  },
  {
   "cell_type": "markdown",
   "metadata": {},
   "source": [
    "# GeoPandas -- GeoDataFrame"
   ]
  },
  {
   "cell_type": "code",
   "execution_count": 40,
   "metadata": {},
   "outputs": [
    {
     "data": {
      "text/html": [
       "<div>\n",
       "<style scoped>\n",
       "    .dataframe tbody tr th:only-of-type {\n",
       "        vertical-align: middle;\n",
       "    }\n",
       "\n",
       "    .dataframe tbody tr th {\n",
       "        vertical-align: top;\n",
       "    }\n",
       "\n",
       "    .dataframe thead th {\n",
       "        text-align: right;\n",
       "    }\n",
       "</style>\n",
       "<table border=\"1\" class=\"dataframe\">\n",
       "  <thead>\n",
       "    <tr style=\"text-align: right;\">\n",
       "      <th></th>\n",
       "      <th>pt_name</th>\n",
       "      <th>pt_types</th>\n",
       "      <th>geometry</th>\n",
       "    </tr>\n",
       "  </thead>\n",
       "  <tbody>\n",
       "    <tr>\n",
       "      <th>0</th>\n",
       "      <td>pt1</td>\n",
       "      <td>point</td>\n",
       "      <td>POINT (-1.50000 1.20000)</td>\n",
       "    </tr>\n",
       "    <tr>\n",
       "      <th>1</th>\n",
       "      <td>pt2</td>\n",
       "      <td>point</td>\n",
       "      <td>POINT (-1.00000 1.00000)</td>\n",
       "    </tr>\n",
       "    <tr>\n",
       "      <th>2</th>\n",
       "      <td>line1</td>\n",
       "      <td>line</td>\n",
       "      <td>LINESTRING (-1.80000 -1.20000, 1.80000 0.50000...</td>\n",
       "    </tr>\n",
       "    <tr>\n",
       "      <th>3</th>\n",
       "      <td>poly1</td>\n",
       "      <td>polyon</td>\n",
       "      <td>POLYGON ((-1.00000 -1.00000, -1.00000 1.00000,...</td>\n",
       "    </tr>\n",
       "  </tbody>\n",
       "</table>\n",
       "</div>"
      ],
      "text/plain": [
       "  pt_name pt_types                                           geometry\n",
       "0     pt1    point                           POINT (-1.50000 1.20000)\n",
       "1     pt2    point                           POINT (-1.00000 1.00000)\n",
       "2   line1     line  LINESTRING (-1.80000 -1.20000, 1.80000 0.50000...\n",
       "3   poly1   polyon  POLYGON ((-1.00000 -1.00000, -1.00000 1.00000,..."
      ]
     },
     "execution_count": 40,
     "metadata": {},
     "output_type": "execute_result"
    },
    {
     "data": {
      "image/png": "[encoded data removed]",
      "text/plain": [
       "<Figure size 432x288 with 1 Axes>"
      ]
     },
     "metadata": {
      "needs_background": "light"
     },
     "output_type": "display_data"
    }
   ],
   "source": [
    "# Create a geodataframe\n",
    "pt_name = [\"pt1\",\"pt2\", \"line1\", \"poly1\"] # Create a dataframe with attributes\n",
    "pt_types = [\"point\",\"point\", \"line\", \"polyon\"] # Create a dataframe with attributes\n",
    "\n",
    "\n",
    "df = pd.DataFrame({'a': pt_name, 'b': pt_types}) \n",
    "\n",
    "gdf = gpd.GeoDataFrame(df, geometry=gs) # Create a GeoDataFrame with attributes and geometry\n",
    "gdf.columns = [\"pt_name\", \"pt_types\", \"geometry\"]\n",
    "gdf.plot()\n",
    "gdf.head()"
   ]
  },
  {
   "cell_type": "code",
   "execution_count": 14,
   "metadata": {},
   "outputs": [
    {
     "data": {
      "text/html": [
       "<div>\n",
       "<style scoped>\n",
       "    .dataframe tbody tr th:only-of-type {\n",
       "        vertical-align: middle;\n",
       "    }\n",
       "\n",
       "    .dataframe tbody tr th {\n",
       "        vertical-align: top;\n",
       "    }\n",
       "\n",
       "    .dataframe thead th {\n",
       "        text-align: right;\n",
       "    }\n",
       "</style>\n",
       "<table border=\"1\" class=\"dataframe\">\n",
       "  <thead>\n",
       "    <tr style=\"text-align: right;\">\n",
       "      <th></th>\n",
       "      <th>id</th>\n",
       "      <th>latitude</th>\n",
       "      <th>longitude</th>\n",
       "      <th>city</th>\n",
       "      <th>label</th>\n",
       "      <th>yr1970</th>\n",
       "      <th>yr1975</th>\n",
       "      <th>yr1980</th>\n",
       "      <th>yr1985</th>\n",
       "      <th>yr1990</th>\n",
       "      <th>yr1995</th>\n",
       "      <th>yr2000</th>\n",
       "      <th>yr2005</th>\n",
       "      <th>yr2010</th>\n",
       "    </tr>\n",
       "  </thead>\n",
       "  <tbody>\n",
       "    <tr>\n",
       "      <th>0</th>\n",
       "      <td>1</td>\n",
       "      <td>35.683208</td>\n",
       "      <td>139.808945</td>\n",
       "      <td>Tokyo</td>\n",
       "      <td>Tokyo</td>\n",
       "      <td>23.30</td>\n",
       "      <td>26.61</td>\n",
       "      <td>28.55</td>\n",
       "      <td>30.30</td>\n",
       "      <td>32.53</td>\n",
       "      <td>33.59</td>\n",
       "      <td>34.45</td>\n",
       "      <td>35.62</td>\n",
       "      <td>36.67</td>\n",
       "    </tr>\n",
       "    <tr>\n",
       "      <th>1</th>\n",
       "      <td>2</td>\n",
       "      <td>28.608280</td>\n",
       "      <td>77.200813</td>\n",
       "      <td>New_Delhi</td>\n",
       "      <td>New Delhi</td>\n",
       "      <td>3.53</td>\n",
       "      <td>4.43</td>\n",
       "      <td>5.56</td>\n",
       "      <td>7.33</td>\n",
       "      <td>9.73</td>\n",
       "      <td>12.41</td>\n",
       "      <td>15.73</td>\n",
       "      <td>19.49</td>\n",
       "      <td>22.16</td>\n",
       "    </tr>\n",
       "    <tr>\n",
       "      <th>2</th>\n",
       "      <td>3</td>\n",
       "      <td>-23.562839</td>\n",
       "      <td>-46.654640</td>\n",
       "      <td>Sao_Paulo</td>\n",
       "      <td>Sao Paulo</td>\n",
       "      <td>7.62</td>\n",
       "      <td>9.61</td>\n",
       "      <td>12.09</td>\n",
       "      <td>13.39</td>\n",
       "      <td>14.78</td>\n",
       "      <td>15.95</td>\n",
       "      <td>17.10</td>\n",
       "      <td>18.65</td>\n",
       "      <td>20.26</td>\n",
       "    </tr>\n",
       "    <tr>\n",
       "      <th>3</th>\n",
       "      <td>4</td>\n",
       "      <td>18.930130</td>\n",
       "      <td>72.830093</td>\n",
       "      <td>Mumbai</td>\n",
       "      <td>Mumbai</td>\n",
       "      <td>5.81</td>\n",
       "      <td>7.08</td>\n",
       "      <td>8.66</td>\n",
       "      <td>10.34</td>\n",
       "      <td>12.31</td>\n",
       "      <td>14.11</td>\n",
       "      <td>16.09</td>\n",
       "      <td>18.21</td>\n",
       "      <td>20.04</td>\n",
       "    </tr>\n",
       "    <tr>\n",
       "      <th>4</th>\n",
       "      <td>5</td>\n",
       "      <td>19.431959</td>\n",
       "      <td>-99.133163</td>\n",
       "      <td>Mexico_City</td>\n",
       "      <td>Mexico City</td>\n",
       "      <td>8.77</td>\n",
       "      <td>10.69</td>\n",
       "      <td>13.01</td>\n",
       "      <td>14.11</td>\n",
       "      <td>15.31</td>\n",
       "      <td>16.81</td>\n",
       "      <td>18.02</td>\n",
       "      <td>18.73</td>\n",
       "      <td>19.46</td>\n",
       "    </tr>\n",
       "  </tbody>\n",
       "</table>\n",
       "</div>"
      ],
      "text/plain": [
       "   id   latitude   longitude         city        label  yr1970  yr1975  \\\n",
       "0   1  35.683208  139.808945        Tokyo        Tokyo   23.30   26.61   \n",
       "1   2  28.608280   77.200813    New_Delhi    New Delhi    3.53    4.43   \n",
       "2   3 -23.562839  -46.654640    Sao_Paulo    Sao Paulo    7.62    9.61   \n",
       "3   4  18.930130   72.830093       Mumbai       Mumbai    5.81    7.08   \n",
       "4   5  19.431959  -99.133163  Mexico_City  Mexico City    8.77   10.69   \n",
       "\n",
       "   yr1980  yr1985  yr1990  yr1995  yr2000  yr2005  yr2010  \n",
       "0   28.55   30.30   32.53   33.59   34.45   35.62   36.67  \n",
       "1    5.56    7.33    9.73   12.41   15.73   19.49   22.16  \n",
       "2   12.09   13.39   14.78   15.95   17.10   18.65   20.26  \n",
       "3    8.66   10.34   12.31   14.11   16.09   18.21   20.04  \n",
       "4   13.01   14.11   15.31   16.81   18.02   18.73   19.46  "
      ]
     },
     "execution_count": 14,
     "metadata": {},
     "output_type": "execute_result"
    }
   ],
   "source": [
    "# Load city population data\n",
    "city_pop = pd.read_csv('CityPop.csv')\n",
    "city_pop.head()"
   ]
  },
  {
   "cell_type": "code",
   "execution_count": 15,
   "metadata": {},
   "outputs": [
    {
     "data": {
      "text/html": [
       "<div>\n",
       "<style scoped>\n",
       "    .dataframe tbody tr th:only-of-type {\n",
       "        vertical-align: middle;\n",
       "    }\n",
       "\n",
       "    .dataframe tbody tr th {\n",
       "        vertical-align: top;\n",
       "    }\n",
       "\n",
       "    .dataframe thead th {\n",
       "        text-align: right;\n",
       "    }\n",
       "</style>\n",
       "<table border=\"1\" class=\"dataframe\">\n",
       "  <thead>\n",
       "    <tr style=\"text-align: right;\">\n",
       "      <th></th>\n",
       "      <th>id</th>\n",
       "      <th>latitude</th>\n",
       "      <th>longitude</th>\n",
       "      <th>city</th>\n",
       "      <th>label</th>\n",
       "      <th>yr1970</th>\n",
       "      <th>yr1975</th>\n",
       "      <th>yr1980</th>\n",
       "      <th>yr1985</th>\n",
       "      <th>yr1990</th>\n",
       "      <th>yr1995</th>\n",
       "      <th>yr2000</th>\n",
       "      <th>yr2005</th>\n",
       "      <th>yr2010</th>\n",
       "      <th>geometry</th>\n",
       "    </tr>\n",
       "  </thead>\n",
       "  <tbody>\n",
       "    <tr>\n",
       "      <th>0</th>\n",
       "      <td>1</td>\n",
       "      <td>35.683208</td>\n",
       "      <td>139.808945</td>\n",
       "      <td>Tokyo</td>\n",
       "      <td>Tokyo</td>\n",
       "      <td>23.30</td>\n",
       "      <td>26.61</td>\n",
       "      <td>28.55</td>\n",
       "      <td>30.30</td>\n",
       "      <td>32.53</td>\n",
       "      <td>33.59</td>\n",
       "      <td>34.45</td>\n",
       "      <td>35.62</td>\n",
       "      <td>36.67</td>\n",
       "      <td>POINT (139.80894 35.68321)</td>\n",
       "    </tr>\n",
       "    <tr>\n",
       "      <th>1</th>\n",
       "      <td>2</td>\n",
       "      <td>28.608280</td>\n",
       "      <td>77.200813</td>\n",
       "      <td>New_Delhi</td>\n",
       "      <td>New Delhi</td>\n",
       "      <td>3.53</td>\n",
       "      <td>4.43</td>\n",
       "      <td>5.56</td>\n",
       "      <td>7.33</td>\n",
       "      <td>9.73</td>\n",
       "      <td>12.41</td>\n",
       "      <td>15.73</td>\n",
       "      <td>19.49</td>\n",
       "      <td>22.16</td>\n",
       "      <td>POINT (77.20081 28.60828)</td>\n",
       "    </tr>\n",
       "    <tr>\n",
       "      <th>2</th>\n",
       "      <td>3</td>\n",
       "      <td>-23.562839</td>\n",
       "      <td>-46.654640</td>\n",
       "      <td>Sao_Paulo</td>\n",
       "      <td>Sao Paulo</td>\n",
       "      <td>7.62</td>\n",
       "      <td>9.61</td>\n",
       "      <td>12.09</td>\n",
       "      <td>13.39</td>\n",
       "      <td>14.78</td>\n",
       "      <td>15.95</td>\n",
       "      <td>17.10</td>\n",
       "      <td>18.65</td>\n",
       "      <td>20.26</td>\n",
       "      <td>POINT (-46.65464 -23.56284)</td>\n",
       "    </tr>\n",
       "    <tr>\n",
       "      <th>3</th>\n",
       "      <td>4</td>\n",
       "      <td>18.930130</td>\n",
       "      <td>72.830093</td>\n",
       "      <td>Mumbai</td>\n",
       "      <td>Mumbai</td>\n",
       "      <td>5.81</td>\n",
       "      <td>7.08</td>\n",
       "      <td>8.66</td>\n",
       "      <td>10.34</td>\n",
       "      <td>12.31</td>\n",
       "      <td>14.11</td>\n",
       "      <td>16.09</td>\n",
       "      <td>18.21</td>\n",
       "      <td>20.04</td>\n",
       "      <td>POINT (72.83009 18.93013)</td>\n",
       "    </tr>\n",
       "    <tr>\n",
       "      <th>4</th>\n",
       "      <td>5</td>\n",
       "      <td>19.431959</td>\n",
       "      <td>-99.133163</td>\n",
       "      <td>Mexico_City</td>\n",
       "      <td>Mexico City</td>\n",
       "      <td>8.77</td>\n",
       "      <td>10.69</td>\n",
       "      <td>13.01</td>\n",
       "      <td>14.11</td>\n",
       "      <td>15.31</td>\n",
       "      <td>16.81</td>\n",
       "      <td>18.02</td>\n",
       "      <td>18.73</td>\n",
       "      <td>19.46</td>\n",
       "      <td>POINT (-99.13316 19.43196)</td>\n",
       "    </tr>\n",
       "  </tbody>\n",
       "</table>\n",
       "</div>"
      ],
      "text/plain": [
       "   id   latitude   longitude         city        label  yr1970  yr1975  \\\n",
       "0   1  35.683208  139.808945        Tokyo        Tokyo   23.30   26.61   \n",
       "1   2  28.608280   77.200813    New_Delhi    New Delhi    3.53    4.43   \n",
       "2   3 -23.562839  -46.654640    Sao_Paulo    Sao Paulo    7.62    9.61   \n",
       "3   4  18.930130   72.830093       Mumbai       Mumbai    5.81    7.08   \n",
       "4   5  19.431959  -99.133163  Mexico_City  Mexico City    8.77   10.69   \n",
       "\n",
       "   yr1980  yr1985  yr1990  yr1995  yr2000  yr2005  yr2010  \\\n",
       "0   28.55   30.30   32.53   33.59   34.45   35.62   36.67   \n",
       "1    5.56    7.33    9.73   12.41   15.73   19.49   22.16   \n",
       "2   12.09   13.39   14.78   15.95   17.10   18.65   20.26   \n",
       "3    8.66   10.34   12.31   14.11   16.09   18.21   20.04   \n",
       "4   13.01   14.11   15.31   16.81   18.02   18.73   19.46   \n",
       "\n",
       "                      geometry  \n",
       "0   POINT (139.80894 35.68321)  \n",
       "1    POINT (77.20081 28.60828)  \n",
       "2  POINT (-46.65464 -23.56284)  \n",
       "3    POINT (72.83009 18.93013)  \n",
       "4   POINT (-99.13316 19.43196)  "
      ]
     },
     "execution_count": 15,
     "metadata": {},
     "output_type": "execute_result"
    },
    {
     "data": {
      "image/png": "[encoded data removed]",
      "text/plain": [
       "<Figure size 432x288 with 1 Axes>"
      ]
     },
     "metadata": {
      "needs_background": "light"
     },
     "output_type": "display_data"
    }
   ],
   "source": [
    "# Convert CSV to GeoDataFrame\n",
    "city_pop_gdf = gpd.GeoDataFrame(data=city_pop, geometry=gpd.points_from_xy(x=city_pop.longitude, y=city_pop.latitude))\n",
    "city_pop_gdf.plot()\n",
    "city_pop_gdf.head()"
   ]
  },
  {
   "cell_type": "code",
   "execution_count": 16,
   "metadata": {},
   "outputs": [
    {
     "data": {
      "text/plain": [
       "<AxesSubplot:>"
      ]
     },
     "execution_count": 16,
     "metadata": {},
     "output_type": "execute_result"
    },
    {
     "data": {
      "image/png": "[encoded data removed]",
      "text/plain": [
       "<Figure size 432x288 with 1 Axes>"
      ]
     },
     "metadata": {
      "needs_background": "light"
     },
     "output_type": "display_data"
    }
   ],
   "source": [
    "# Create a buffer polygon of the geodataframe\n",
    "gdf_buffer = gdf.buffer(0.2)\n",
    "ax = gdf_buffer.plot(color='green')\n",
    "gdf.plot(ax=ax)"
   ]
  },
  {
   "cell_type": "code",
   "execution_count": null,
   "metadata": {},
   "outputs": [],
   "source": []
  },
  {
   "cell_type": "code",
   "execution_count": 27,
   "metadata": {},
   "outputs": [
    {
     "data": {
      "text/html": [
       "<div>\n",
       "<style scoped>\n",
       "    .dataframe tbody tr th:only-of-type {\n",
       "        vertical-align: middle;\n",
       "    }\n",
       "\n",
       "    .dataframe tbody tr th {\n",
       "        vertical-align: top;\n",
       "    }\n",
       "\n",
       "    .dataframe thead th {\n",
       "        text-align: right;\n",
       "    }\n",
       "</style>\n",
       "<table border=\"1\" class=\"dataframe\">\n",
       "  <thead>\n",
       "    <tr style=\"text-align: right;\">\n",
       "      <th></th>\n",
       "      <th>BoroName</th>\n",
       "      <th>Shape_Leng</th>\n",
       "      <th>Shape_Area</th>\n",
       "      <th>geometry</th>\n",
       "    </tr>\n",
       "    <tr>\n",
       "      <th>BoroCode</th>\n",
       "      <th></th>\n",
       "      <th></th>\n",
       "      <th></th>\n",
       "      <th></th>\n",
       "    </tr>\n",
       "  </thead>\n",
       "  <tbody>\n",
       "    <tr>\n",
       "      <th>1</th>\n",
       "      <td>Manhattan</td>\n",
       "      <td>359299.096471</td>\n",
       "      <td>6.364715e+08</td>\n",
       "      <td>MULTIPOLYGON (((981219.056 188655.316, 980940....</td>\n",
       "    </tr>\n",
       "    <tr>\n",
       "      <th>2</th>\n",
       "      <td>Bronx</td>\n",
       "      <td>464392.991824</td>\n",
       "      <td>1.186925e+09</td>\n",
       "      <td>MULTIPOLYGON (((1012821.806 229228.265, 101278...</td>\n",
       "    </tr>\n",
       "    <tr>\n",
       "      <th>3</th>\n",
       "      <td>Brooklyn</td>\n",
       "      <td>741080.523166</td>\n",
       "      <td>1.937479e+09</td>\n",
       "      <td>MULTIPOLYGON (((1021176.479 151374.797, 102100...</td>\n",
       "    </tr>\n",
       "    <tr>\n",
       "      <th>4</th>\n",
       "      <td>Queens</td>\n",
       "      <td>896344.047763</td>\n",
       "      <td>3.045213e+09</td>\n",
       "      <td>MULTIPOLYGON (((1029606.077 156073.814, 102957...</td>\n",
       "    </tr>\n",
       "    <tr>\n",
       "      <th>5</th>\n",
       "      <td>Staten Island</td>\n",
       "      <td>330470.010332</td>\n",
       "      <td>1.623820e+09</td>\n",
       "      <td>MULTIPOLYGON (((970217.022 145643.332, 970227....</td>\n",
       "    </tr>\n",
       "  </tbody>\n",
       "</table>\n",
       "</div>"
      ],
      "text/plain": [
       "               BoroName     Shape_Leng    Shape_Area  \\\n",
       "BoroCode                                               \n",
       "1             Manhattan  359299.096471  6.364715e+08   \n",
       "2                 Bronx  464392.991824  1.186925e+09   \n",
       "3              Brooklyn  741080.523166  1.937479e+09   \n",
       "4                Queens  896344.047763  3.045213e+09   \n",
       "5         Staten Island  330470.010332  1.623820e+09   \n",
       "\n",
       "                                                   geometry  \n",
       "BoroCode                                                     \n",
       "1         MULTIPOLYGON (((981219.056 188655.316, 980940....  \n",
       "2         MULTIPOLYGON (((1012821.806 229228.265, 101278...  \n",
       "3         MULTIPOLYGON (((1021176.479 151374.797, 102100...  \n",
       "4         MULTIPOLYGON (((1029606.077 156073.814, 102957...  \n",
       "5         MULTIPOLYGON (((970217.022 145643.332, 970227....  "
      ]
     },
     "execution_count": 27,
     "metadata": {},
     "output_type": "execute_result"
    },
    {
     "data": {
      "image/png": "[encoded data removed]",
      "text/plain": [
       "<Figure size 432x288 with 1 Axes>"
      ]
     },
     "metadata": {
      "needs_background": "light"
     },
     "output_type": "display_data"
    }
   ],
   "source": [
    "# Load New York data\n",
    "nybb_path = gpd.datasets.get_path('nybb')\n",
    "boros = gpd.read_file(nybb_path)\n",
    "boros.set_index('BoroCode', inplace=True)\n",
    "boros.sort_index(inplace=True)\n",
    "boros.plot(edgecolor='white', column = 'BoroName')\n",
    "boros"
   ]
  },
  {
   "cell_type": "code",
   "execution_count": 28,
   "metadata": {},
   "outputs": [
    {
     "data": {
      "text/plain": [
       "BoroCode\n",
       "1    POLYGON ((977855.445 188082.322, 971830.134 19...\n",
       "2    POLYGON ((1017949.978 225426.885, 1015563.562 ...\n",
       "3    POLYGON ((988872.821 146772.032, 983670.606 14...\n",
       "4    POLYGON ((1000721.532 136681.776, 994611.996 2...\n",
       "5    POLYGON ((915517.688 120121.881, 915467.035 12...\n",
       "dtype: geometry"
      ]
     },
     "execution_count": 28,
     "metadata": {},
     "output_type": "execute_result"
    },
    {
     "data": {
      "image/png": "[encoded data removed]",
      "text/plain": [
       "<Figure size 432x288 with 1 Axes>"
      ]
     },
     "metadata": {
      "needs_background": "light"
     },
     "output_type": "display_data"
    }
   ],
   "source": [
    "# Get convex hull of each object in the geodataframe\n",
    "boros_convex_hull = boros['geometry'].convex_hull\n",
    "boros_convex_hull.plot(color=\"white\", edgecolor=\"blue\")\n",
    "boros_convex_hull"
   ]
  },
  {
   "cell_type": "code",
   "execution_count": 31,
   "metadata": {},
   "outputs": [
    {
     "data": {
      "text/html": [
       "<div>\n",
       "<style scoped>\n",
       "    .dataframe tbody tr th:only-of-type {\n",
       "        vertical-align: middle;\n",
       "    }\n",
       "\n",
       "    .dataframe tbody tr th {\n",
       "        vertical-align: top;\n",
       "    }\n",
       "\n",
       "    .dataframe thead th {\n",
       "        text-align: right;\n",
       "    }\n",
       "</style>\n",
       "<table border=\"1\" class=\"dataframe\">\n",
       "  <thead>\n",
       "    <tr style=\"text-align: right;\">\n",
       "      <th></th>\n",
       "      <th>continent</th>\n",
       "      <th>geometry</th>\n",
       "    </tr>\n",
       "  </thead>\n",
       "  <tbody>\n",
       "    <tr>\n",
       "      <th>0</th>\n",
       "      <td>Oceania</td>\n",
       "      <td>MULTIPOLYGON (((180.00000 -16.06713, 180.00000...</td>\n",
       "    </tr>\n",
       "    <tr>\n",
       "      <th>1</th>\n",
       "      <td>Africa</td>\n",
       "      <td>POLYGON ((33.90371 -0.95000, 34.07262 -1.05982...</td>\n",
       "    </tr>\n",
       "    <tr>\n",
       "      <th>2</th>\n",
       "      <td>Africa</td>\n",
       "      <td>POLYGON ((-8.66559 27.65643, -8.66512 27.58948...</td>\n",
       "    </tr>\n",
       "    <tr>\n",
       "      <th>3</th>\n",
       "      <td>North America</td>\n",
       "      <td>MULTIPOLYGON (((-122.84000 49.00000, -122.9742...</td>\n",
       "    </tr>\n",
       "    <tr>\n",
       "      <th>4</th>\n",
       "      <td>North America</td>\n",
       "      <td>MULTIPOLYGON (((-122.84000 49.00000, -120.0000...</td>\n",
       "    </tr>\n",
       "    <tr>\n",
       "      <th>...</th>\n",
       "      <td>...</td>\n",
       "      <td>...</td>\n",
       "    </tr>\n",
       "    <tr>\n",
       "      <th>172</th>\n",
       "      <td>Europe</td>\n",
       "      <td>POLYGON ((18.82982 45.90887, 18.82984 45.90888...</td>\n",
       "    </tr>\n",
       "    <tr>\n",
       "      <th>173</th>\n",
       "      <td>Europe</td>\n",
       "      <td>POLYGON ((20.07070 42.58863, 19.80161 42.50009...</td>\n",
       "    </tr>\n",
       "    <tr>\n",
       "      <th>174</th>\n",
       "      <td>Europe</td>\n",
       "      <td>POLYGON ((20.59025 41.85541, 20.52295 42.21787...</td>\n",
       "    </tr>\n",
       "    <tr>\n",
       "      <th>175</th>\n",
       "      <td>North America</td>\n",
       "      <td>POLYGON ((-61.68000 10.76000, -61.10500 10.890...</td>\n",
       "    </tr>\n",
       "    <tr>\n",
       "      <th>176</th>\n",
       "      <td>Africa</td>\n",
       "      <td>POLYGON ((30.83385 3.50917, 29.95350 4.17370, ...</td>\n",
       "    </tr>\n",
       "  </tbody>\n",
       "</table>\n",
       "<p>177 rows × 2 columns</p>\n",
       "</div>"
      ],
      "text/plain": [
       "         continent                                           geometry\n",
       "0          Oceania  MULTIPOLYGON (((180.00000 -16.06713, 180.00000...\n",
       "1           Africa  POLYGON ((33.90371 -0.95000, 34.07262 -1.05982...\n",
       "2           Africa  POLYGON ((-8.66559 27.65643, -8.66512 27.58948...\n",
       "3    North America  MULTIPOLYGON (((-122.84000 49.00000, -122.9742...\n",
       "4    North America  MULTIPOLYGON (((-122.84000 49.00000, -120.0000...\n",
       "..             ...                                                ...\n",
       "172         Europe  POLYGON ((18.82982 45.90887, 18.82984 45.90888...\n",
       "173         Europe  POLYGON ((20.07070 42.58863, 19.80161 42.50009...\n",
       "174         Europe  POLYGON ((20.59025 41.85541, 20.52295 42.21787...\n",
       "175  North America  POLYGON ((-61.68000 10.76000, -61.10500 10.890...\n",
       "176         Africa  POLYGON ((30.83385 3.50917, 29.95350 4.17370, ...\n",
       "\n",
       "[177 rows x 2 columns]"
      ]
     },
     "execution_count": 31,
     "metadata": {},
     "output_type": "execute_result"
    },
    {
     "data": {
      "image/png": "[encoded data removed]",
      "text/plain": [
       "<Figure size 432x288 with 1 Axes>"
      ]
     },
     "metadata": {
      "needs_background": "light"
     },
     "output_type": "display_data"
    }
   ],
   "source": [
    "# Load world data to dissolve countries into continents\n",
    "world = gpd.read_file(gpd.datasets.get_path('naturalearth_lowres'))\n",
    "world = world[['continent', 'geometry']]\n",
    "world.plot(edgecolor='white')\n",
    "world"
   ]
  },
  {
   "cell_type": "code",
   "execution_count": 32,
   "metadata": {},
   "outputs": [
    {
     "data": {
      "text/html": [
       "<div>\n",
       "<style scoped>\n",
       "    .dataframe tbody tr th:only-of-type {\n",
       "        vertical-align: middle;\n",
       "    }\n",
       "\n",
       "    .dataframe tbody tr th {\n",
       "        vertical-align: top;\n",
       "    }\n",
       "\n",
       "    .dataframe thead th {\n",
       "        text-align: right;\n",
       "    }\n",
       "</style>\n",
       "<table border=\"1\" class=\"dataframe\">\n",
       "  <thead>\n",
       "    <tr style=\"text-align: right;\">\n",
       "      <th></th>\n",
       "      <th>geometry</th>\n",
       "    </tr>\n",
       "    <tr>\n",
       "      <th>continent</th>\n",
       "      <th></th>\n",
       "    </tr>\n",
       "  </thead>\n",
       "  <tbody>\n",
       "    <tr>\n",
       "      <th>Africa</th>\n",
       "      <td>MULTIPOLYGON (((40.43725 -11.76171, 40.56081 -...</td>\n",
       "    </tr>\n",
       "    <tr>\n",
       "      <th>Antarctica</th>\n",
       "      <td>MULTIPOLYGON (((-61.13898 -79.98137, -60.61012...</td>\n",
       "    </tr>\n",
       "    <tr>\n",
       "      <th>Asia</th>\n",
       "      <td>MULTIPOLYGON (((120.29501 -10.25865, 118.96781...</td>\n",
       "    </tr>\n",
       "    <tr>\n",
       "      <th>Europe</th>\n",
       "      <td>MULTIPOLYGON (((-53.77852 2.37670, -54.08806 2...</td>\n",
       "    </tr>\n",
       "    <tr>\n",
       "      <th>North America</th>\n",
       "      <td>MULTIPOLYGON (((-78.21494 7.51225, -78.42916 8...</td>\n",
       "    </tr>\n",
       "    <tr>\n",
       "      <th>Oceania</th>\n",
       "      <td>MULTIPOLYGON (((171.94871 -41.51442, 172.09723...</td>\n",
       "    </tr>\n",
       "    <tr>\n",
       "      <th>Seven seas (open ocean)</th>\n",
       "      <td>POLYGON ((68.93500 -48.62500, 69.58000 -48.940...</td>\n",
       "    </tr>\n",
       "    <tr>\n",
       "      <th>South America</th>\n",
       "      <td>MULTIPOLYGON (((-57.75000 -51.55000, -58.05000...</td>\n",
       "    </tr>\n",
       "  </tbody>\n",
       "</table>\n",
       "</div>"
      ],
      "text/plain": [
       "                                                                  geometry\n",
       "continent                                                                 \n",
       "Africa                   MULTIPOLYGON (((40.43725 -11.76171, 40.56081 -...\n",
       "Antarctica               MULTIPOLYGON (((-61.13898 -79.98137, -60.61012...\n",
       "Asia                     MULTIPOLYGON (((120.29501 -10.25865, 118.96781...\n",
       "Europe                   MULTIPOLYGON (((-53.77852 2.37670, -54.08806 2...\n",
       "North America            MULTIPOLYGON (((-78.21494 7.51225, -78.42916 8...\n",
       "Oceania                  MULTIPOLYGON (((171.94871 -41.51442, 172.09723...\n",
       "Seven seas (open ocean)  POLYGON ((68.93500 -48.62500, 69.58000 -48.940...\n",
       "South America            MULTIPOLYGON (((-57.75000 -51.55000, -58.05000..."
      ]
     },
     "execution_count": 32,
     "metadata": {},
     "output_type": "execute_result"
    },
    {
     "data": {
      "image/png": "[encoded data removed]",
      "text/plain": [
       "<Figure size 432x288 with 1 Axes>"
      ]
     },
     "metadata": {
      "needs_background": "light"
     },
     "output_type": "display_data"
    }
   ],
   "source": [
    "# Dissolve data\n",
    "continents = world.dissolve(by='continent')\n",
    "continents.plot(edgecolor='white')\n",
    "continents"
   ]
  },
  {
   "cell_type": "code",
   "execution_count": 33,
   "metadata": {},
   "outputs": [
    {
     "data": {
      "text/html": [
       "<div>\n",
       "<style scoped>\n",
       "    .dataframe tbody tr th:only-of-type {\n",
       "        vertical-align: middle;\n",
       "    }\n",
       "\n",
       "    .dataframe tbody tr th {\n",
       "        vertical-align: top;\n",
       "    }\n",
       "\n",
       "    .dataframe thead th {\n",
       "        text-align: right;\n",
       "    }\n",
       "</style>\n",
       "<table border=\"1\" class=\"dataframe\">\n",
       "  <thead>\n",
       "    <tr style=\"text-align: right;\">\n",
       "      <th></th>\n",
       "      <th>id</th>\n",
       "      <th>latitude</th>\n",
       "      <th>longitude</th>\n",
       "      <th>city</th>\n",
       "      <th>label</th>\n",
       "      <th>yr1970</th>\n",
       "      <th>yr1975</th>\n",
       "      <th>yr1980</th>\n",
       "      <th>yr1985</th>\n",
       "      <th>yr1990</th>\n",
       "      <th>yr1995</th>\n",
       "      <th>yr2000</th>\n",
       "      <th>yr2005</th>\n",
       "      <th>yr2010</th>\n",
       "      <th>geometry</th>\n",
       "    </tr>\n",
       "  </thead>\n",
       "  <tbody>\n",
       "    <tr>\n",
       "      <th>0</th>\n",
       "      <td>1</td>\n",
       "      <td>35.683208</td>\n",
       "      <td>139.808945</td>\n",
       "      <td>Tokyo</td>\n",
       "      <td>Tokyo</td>\n",
       "      <td>23.30</td>\n",
       "      <td>26.61</td>\n",
       "      <td>28.55</td>\n",
       "      <td>30.30</td>\n",
       "      <td>32.53</td>\n",
       "      <td>33.59</td>\n",
       "      <td>34.45</td>\n",
       "      <td>35.62</td>\n",
       "      <td>36.67</td>\n",
       "      <td>POINT (139.80894 35.68321)</td>\n",
       "    </tr>\n",
       "    <tr>\n",
       "      <th>1</th>\n",
       "      <td>2</td>\n",
       "      <td>28.608280</td>\n",
       "      <td>77.200813</td>\n",
       "      <td>New_Delhi</td>\n",
       "      <td>New Delhi</td>\n",
       "      <td>3.53</td>\n",
       "      <td>4.43</td>\n",
       "      <td>5.56</td>\n",
       "      <td>7.33</td>\n",
       "      <td>9.73</td>\n",
       "      <td>12.41</td>\n",
       "      <td>15.73</td>\n",
       "      <td>19.49</td>\n",
       "      <td>22.16</td>\n",
       "      <td>POINT (77.20081 28.60828)</td>\n",
       "    </tr>\n",
       "    <tr>\n",
       "      <th>2</th>\n",
       "      <td>3</td>\n",
       "      <td>-23.562839</td>\n",
       "      <td>-46.654640</td>\n",
       "      <td>Sao_Paulo</td>\n",
       "      <td>Sao Paulo</td>\n",
       "      <td>7.62</td>\n",
       "      <td>9.61</td>\n",
       "      <td>12.09</td>\n",
       "      <td>13.39</td>\n",
       "      <td>14.78</td>\n",
       "      <td>15.95</td>\n",
       "      <td>17.10</td>\n",
       "      <td>18.65</td>\n",
       "      <td>20.26</td>\n",
       "      <td>POINT (-46.65464 -23.56284)</td>\n",
       "    </tr>\n",
       "    <tr>\n",
       "      <th>3</th>\n",
       "      <td>4</td>\n",
       "      <td>18.930130</td>\n",
       "      <td>72.830093</td>\n",
       "      <td>Mumbai</td>\n",
       "      <td>Mumbai</td>\n",
       "      <td>5.81</td>\n",
       "      <td>7.08</td>\n",
       "      <td>8.66</td>\n",
       "      <td>10.34</td>\n",
       "      <td>12.31</td>\n",
       "      <td>14.11</td>\n",
       "      <td>16.09</td>\n",
       "      <td>18.21</td>\n",
       "      <td>20.04</td>\n",
       "      <td>POINT (72.83009 18.93013)</td>\n",
       "    </tr>\n",
       "    <tr>\n",
       "      <th>4</th>\n",
       "      <td>5</td>\n",
       "      <td>19.431959</td>\n",
       "      <td>-99.133163</td>\n",
       "      <td>Mexico_City</td>\n",
       "      <td>Mexico City</td>\n",
       "      <td>8.77</td>\n",
       "      <td>10.69</td>\n",
       "      <td>13.01</td>\n",
       "      <td>14.11</td>\n",
       "      <td>15.31</td>\n",
       "      <td>16.81</td>\n",
       "      <td>18.02</td>\n",
       "      <td>18.73</td>\n",
       "      <td>19.46</td>\n",
       "      <td>POINT (-99.13316 19.43196)</td>\n",
       "    </tr>\n",
       "  </tbody>\n",
       "</table>\n",
       "</div>"
      ],
      "text/plain": [
       "   id   latitude   longitude         city        label  yr1970  yr1975  \\\n",
       "0   1  35.683208  139.808945        Tokyo        Tokyo   23.30   26.61   \n",
       "1   2  28.608280   77.200813    New_Delhi    New Delhi    3.53    4.43   \n",
       "2   3 -23.562839  -46.654640    Sao_Paulo    Sao Paulo    7.62    9.61   \n",
       "3   4  18.930130   72.830093       Mumbai       Mumbai    5.81    7.08   \n",
       "4   5  19.431959  -99.133163  Mexico_City  Mexico City    8.77   10.69   \n",
       "\n",
       "   yr1980  yr1985  yr1990  yr1995  yr2000  yr2005  yr2010  \\\n",
       "0   28.55   30.30   32.53   33.59   34.45   35.62   36.67   \n",
       "1    5.56    7.33    9.73   12.41   15.73   19.49   22.16   \n",
       "2   12.09   13.39   14.78   15.95   17.10   18.65   20.26   \n",
       "3    8.66   10.34   12.31   14.11   16.09   18.21   20.04   \n",
       "4   13.01   14.11   15.31   16.81   18.02   18.73   19.46   \n",
       "\n",
       "                      geometry  \n",
       "0   POINT (139.80894 35.68321)  \n",
       "1    POINT (77.20081 28.60828)  \n",
       "2  POINT (-46.65464 -23.56284)  \n",
       "3    POINT (72.83009 18.93013)  \n",
       "4   POINT (-99.13316 19.43196)  "
      ]
     },
     "execution_count": 33,
     "metadata": {},
     "output_type": "execute_result"
    },
    {
     "data": {
      "image/png": "[encoded data removed]",
      "text/plain": [
       "<Figure size 432x288 with 1 Axes>"
      ]
     },
     "metadata": {
      "needs_background": "light"
     },
     "output_type": "display_data"
    }
   ],
   "source": [
    "city_pop_gdf.plot()\n",
    "city_pop_gdf.head()"
   ]
  },
  {
   "cell_type": "code",
   "execution_count": 34,
   "metadata": {},
   "outputs": [
    {
     "data": {
      "text/html": [
       "<div>\n",
       "<style scoped>\n",
       "    .dataframe tbody tr th:only-of-type {\n",
       "        vertical-align: middle;\n",
       "    }\n",
       "\n",
       "    .dataframe tbody tr th {\n",
       "        vertical-align: top;\n",
       "    }\n",
       "\n",
       "    .dataframe thead th {\n",
       "        text-align: right;\n",
       "    }\n",
       "</style>\n",
       "<table border=\"1\" class=\"dataframe\">\n",
       "  <thead>\n",
       "    <tr style=\"text-align: right;\">\n",
       "      <th></th>\n",
       "      <th>continent</th>\n",
       "      <th>geometry</th>\n",
       "    </tr>\n",
       "  </thead>\n",
       "  <tbody>\n",
       "    <tr>\n",
       "      <th>0</th>\n",
       "      <td>Oceania</td>\n",
       "      <td>MULTIPOLYGON (((180.00000 -16.06713, 180.00000...</td>\n",
       "    </tr>\n",
       "    <tr>\n",
       "      <th>1</th>\n",
       "      <td>Africa</td>\n",
       "      <td>POLYGON ((33.90371 -0.95000, 34.07262 -1.05982...</td>\n",
       "    </tr>\n",
       "    <tr>\n",
       "      <th>2</th>\n",
       "      <td>Africa</td>\n",
       "      <td>POLYGON ((-8.66559 27.65643, -8.66512 27.58948...</td>\n",
       "    </tr>\n",
       "    <tr>\n",
       "      <th>3</th>\n",
       "      <td>North America</td>\n",
       "      <td>MULTIPOLYGON (((-122.84000 49.00000, -122.9742...</td>\n",
       "    </tr>\n",
       "    <tr>\n",
       "      <th>4</th>\n",
       "      <td>North America</td>\n",
       "      <td>MULTIPOLYGON (((-122.84000 49.00000, -120.0000...</td>\n",
       "    </tr>\n",
       "  </tbody>\n",
       "</table>\n",
       "</div>"
      ],
      "text/plain": [
       "       continent                                           geometry\n",
       "0        Oceania  MULTIPOLYGON (((180.00000 -16.06713, 180.00000...\n",
       "1         Africa  POLYGON ((33.90371 -0.95000, 34.07262 -1.05982...\n",
       "2         Africa  POLYGON ((-8.66559 27.65643, -8.66512 27.58948...\n",
       "3  North America  MULTIPOLYGON (((-122.84000 49.00000, -122.9742...\n",
       "4  North America  MULTIPOLYGON (((-122.84000 49.00000, -120.0000..."
      ]
     },
     "execution_count": 34,
     "metadata": {},
     "output_type": "execute_result"
    },
    {
     "data": {
      "image/png": "[encoded data removed]",
      "text/plain": [
       "<Figure size 432x288 with 1 Axes>"
      ]
     },
     "metadata": {
      "needs_background": "light"
     },
     "output_type": "display_data"
    }
   ],
   "source": [
    "world.plot()\n",
    "world.head()"
   ]
  },
  {
   "cell_type": "markdown",
   "metadata": {},
   "source": [
    "## Spatial Joins with Geodataframe\n",
    "https://geopandas.org/en/stable/gallery/spatial_joins.html"
   ]
  },
  {
   "cell_type": "code",
   "execution_count": 24,
   "metadata": {},
   "outputs": [
    {
     "name": "stderr",
     "output_type": "stream",
     "text": [
      "<ipython-input-24-834011d7a52f>:2: UserWarning: CRS mismatch between the CRS of left geometries and the CRS of right geometries.\n",
      "Use `to_crs()` to reproject one of the input geometries to match the CRS of the other.\n",
      "\n",
      "Left CRS: None\n",
      "Right CRS: EPSG:4326\n",
      "\n",
      "  city_world = gpd.sjoin(left_df=city_pop_gdf, right_df=world)\n"
     ]
    },
    {
     "data": {
      "text/html": [
       "<div>\n",
       "<style scoped>\n",
       "    .dataframe tbody tr th:only-of-type {\n",
       "        vertical-align: middle;\n",
       "    }\n",
       "\n",
       "    .dataframe tbody tr th {\n",
       "        vertical-align: top;\n",
       "    }\n",
       "\n",
       "    .dataframe thead th {\n",
       "        text-align: right;\n",
       "    }\n",
       "</style>\n",
       "<table border=\"1\" class=\"dataframe\">\n",
       "  <thead>\n",
       "    <tr style=\"text-align: right;\">\n",
       "      <th></th>\n",
       "      <th>id</th>\n",
       "      <th>latitude</th>\n",
       "      <th>longitude</th>\n",
       "      <th>city</th>\n",
       "      <th>label</th>\n",
       "      <th>yr1970</th>\n",
       "      <th>yr1975</th>\n",
       "      <th>yr1980</th>\n",
       "      <th>yr1985</th>\n",
       "      <th>yr1990</th>\n",
       "      <th>yr1995</th>\n",
       "      <th>yr2000</th>\n",
       "      <th>yr2005</th>\n",
       "      <th>yr2010</th>\n",
       "      <th>geometry</th>\n",
       "      <th>index_right</th>\n",
       "      <th>continent</th>\n",
       "    </tr>\n",
       "  </thead>\n",
       "  <tbody>\n",
       "    <tr>\n",
       "      <th>0</th>\n",
       "      <td>1</td>\n",
       "      <td>35.683208</td>\n",
       "      <td>139.808945</td>\n",
       "      <td>Tokyo</td>\n",
       "      <td>Tokyo</td>\n",
       "      <td>23.30</td>\n",
       "      <td>26.61</td>\n",
       "      <td>28.55</td>\n",
       "      <td>30.30</td>\n",
       "      <td>32.53</td>\n",
       "      <td>33.59</td>\n",
       "      <td>34.45</td>\n",
       "      <td>35.62</td>\n",
       "      <td>36.67</td>\n",
       "      <td>POINT (139.80894 35.68321)</td>\n",
       "      <td>155</td>\n",
       "      <td>Asia</td>\n",
       "    </tr>\n",
       "    <tr>\n",
       "      <th>15</th>\n",
       "      <td>16</td>\n",
       "      <td>35.076302</td>\n",
       "      <td>133.565994</td>\n",
       "      <td>Osaka_Kobe</td>\n",
       "      <td>Osaka-Kobe</td>\n",
       "      <td>9.41</td>\n",
       "      <td>9.84</td>\n",
       "      <td>9.99</td>\n",
       "      <td>10.35</td>\n",
       "      <td>11.04</td>\n",
       "      <td>11.05</td>\n",
       "      <td>11.17</td>\n",
       "      <td>11.26</td>\n",
       "      <td>11.34</td>\n",
       "      <td>POINT (133.56599 35.07630)</td>\n",
       "      <td>155</td>\n",
       "      <td>Asia</td>\n",
       "    </tr>\n",
       "    <tr>\n",
       "      <th>1</th>\n",
       "      <td>2</td>\n",
       "      <td>28.608280</td>\n",
       "      <td>77.200813</td>\n",
       "      <td>New_Delhi</td>\n",
       "      <td>New Delhi</td>\n",
       "      <td>3.53</td>\n",
       "      <td>4.43</td>\n",
       "      <td>5.56</td>\n",
       "      <td>7.33</td>\n",
       "      <td>9.73</td>\n",
       "      <td>12.41</td>\n",
       "      <td>15.73</td>\n",
       "      <td>19.49</td>\n",
       "      <td>22.16</td>\n",
       "      <td>POINT (77.20081 28.60828)</td>\n",
       "      <td>98</td>\n",
       "      <td>Asia</td>\n",
       "    </tr>\n",
       "    <tr>\n",
       "      <th>7</th>\n",
       "      <td>8</td>\n",
       "      <td>22.565090</td>\n",
       "      <td>88.370781</td>\n",
       "      <td>Kolkata</td>\n",
       "      <td>Kolkata</td>\n",
       "      <td>6.93</td>\n",
       "      <td>7.89</td>\n",
       "      <td>9.03</td>\n",
       "      <td>9.95</td>\n",
       "      <td>10.89</td>\n",
       "      <td>11.92</td>\n",
       "      <td>13.06</td>\n",
       "      <td>14.28</td>\n",
       "      <td>15.55</td>\n",
       "      <td>POINT (88.37078 22.56509)</td>\n",
       "      <td>98</td>\n",
       "      <td>Asia</td>\n",
       "    </tr>\n",
       "    <tr>\n",
       "      <th>33</th>\n",
       "      <td>34</td>\n",
       "      <td>13.050330</td>\n",
       "      <td>80.188591</td>\n",
       "      <td>Chennai</td>\n",
       "      <td>Chennai</td>\n",
       "      <td>0.00</td>\n",
       "      <td>0.00</td>\n",
       "      <td>0.00</td>\n",
       "      <td>4.75</td>\n",
       "      <td>5.34</td>\n",
       "      <td>5.84</td>\n",
       "      <td>0.00</td>\n",
       "      <td>0.00</td>\n",
       "      <td>0.00</td>\n",
       "      <td>POINT (80.18859 13.05033)</td>\n",
       "      <td>98</td>\n",
       "      <td>Asia</td>\n",
       "    </tr>\n",
       "  </tbody>\n",
       "</table>\n",
       "</div>"
      ],
      "text/plain": [
       "    id   latitude   longitude        city       label  yr1970  yr1975  yr1980  \\\n",
       "0    1  35.683208  139.808945       Tokyo       Tokyo   23.30   26.61   28.55   \n",
       "15  16  35.076302  133.565994  Osaka_Kobe  Osaka-Kobe    9.41    9.84    9.99   \n",
       "1    2  28.608280   77.200813   New_Delhi   New Delhi    3.53    4.43    5.56   \n",
       "7    8  22.565090   88.370781     Kolkata     Kolkata    6.93    7.89    9.03   \n",
       "33  34  13.050330   80.188591     Chennai     Chennai    0.00    0.00    0.00   \n",
       "\n",
       "    yr1985  yr1990  yr1995  yr2000  yr2005  yr2010  \\\n",
       "0    30.30   32.53   33.59   34.45   35.62   36.67   \n",
       "15   10.35   11.04   11.05   11.17   11.26   11.34   \n",
       "1     7.33    9.73   12.41   15.73   19.49   22.16   \n",
       "7     9.95   10.89   11.92   13.06   14.28   15.55   \n",
       "33    4.75    5.34    5.84    0.00    0.00    0.00   \n",
       "\n",
       "                      geometry  index_right continent  \n",
       "0   POINT (139.80894 35.68321)          155      Asia  \n",
       "15  POINT (133.56599 35.07630)          155      Asia  \n",
       "1    POINT (77.20081 28.60828)           98      Asia  \n",
       "7    POINT (88.37078 22.56509)           98      Asia  \n",
       "33   POINT (80.18859 13.05033)           98      Asia  "
      ]
     },
     "execution_count": 24,
     "metadata": {},
     "output_type": "execute_result"
    },
    {
     "data": {
      "image/png": "[encoded data removed]",
      "text/plain": [
       "<Figure size 432x288 with 1 Axes>"
      ]
     },
     "metadata": {
      "needs_background": "light"
     },
     "output_type": "display_data"
    }
   ],
   "source": [
    "# Spatial Join\n",
    "city_world = gpd.sjoin(left_df=city_pop_gdf, right_df=world)\n",
    "city_world.plot()\n",
    "city_world.head()"
   ]
  },
  {
   "cell_type": "code",
   "execution_count": 25,
   "metadata": {},
   "outputs": [
    {
     "name": "stderr",
     "output_type": "stream",
     "text": [
      "<ipython-input-25-095ffbd5b5f4>:2: UserWarning: CRS mismatch between the CRS of left geometries and the CRS of right geometries.\n",
      "Use `to_crs()` to reproject one of the input geometries to match the CRS of the other.\n",
      "\n",
      "Left CRS: EPSG:4326\n",
      "Right CRS: None\n",
      "\n",
      "  world_city = gpd.sjoin(left_df=world, right_df=city_pop_gdf)\n"
     ]
    },
    {
     "data": {
      "text/html": [
       "<div>\n",
       "<style scoped>\n",
       "    .dataframe tbody tr th:only-of-type {\n",
       "        vertical-align: middle;\n",
       "    }\n",
       "\n",
       "    .dataframe tbody tr th {\n",
       "        vertical-align: top;\n",
       "    }\n",
       "\n",
       "    .dataframe thead th {\n",
       "        text-align: right;\n",
       "    }\n",
       "</style>\n",
       "<table border=\"1\" class=\"dataframe\">\n",
       "  <thead>\n",
       "    <tr style=\"text-align: right;\">\n",
       "      <th></th>\n",
       "      <th>continent</th>\n",
       "      <th>geometry</th>\n",
       "      <th>index_right</th>\n",
       "      <th>id</th>\n",
       "      <th>latitude</th>\n",
       "      <th>longitude</th>\n",
       "      <th>city</th>\n",
       "      <th>label</th>\n",
       "      <th>yr1970</th>\n",
       "      <th>yr1975</th>\n",
       "      <th>yr1980</th>\n",
       "      <th>yr1985</th>\n",
       "      <th>yr1990</th>\n",
       "      <th>yr1995</th>\n",
       "      <th>yr2000</th>\n",
       "      <th>yr2005</th>\n",
       "      <th>yr2010</th>\n",
       "    </tr>\n",
       "  </thead>\n",
       "  <tbody>\n",
       "    <tr>\n",
       "      <th>4</th>\n",
       "      <td>North America</td>\n",
       "      <td>MULTIPOLYGON (((-122.84000 49.00000, -120.0000...</td>\n",
       "      <td>11</td>\n",
       "      <td>12</td>\n",
       "      <td>34.053490</td>\n",
       "      <td>-118.245323</td>\n",
       "      <td>Los_Angeles</td>\n",
       "      <td>Los Angeles</td>\n",
       "      <td>8.38</td>\n",
       "      <td>8.93</td>\n",
       "      <td>9.51</td>\n",
       "      <td>10.18</td>\n",
       "      <td>10.88</td>\n",
       "      <td>11.34</td>\n",
       "      <td>11.81</td>\n",
       "      <td>12.30</td>\n",
       "      <td>12.76</td>\n",
       "    </tr>\n",
       "    <tr>\n",
       "      <th>4</th>\n",
       "      <td>North America</td>\n",
       "      <td>MULTIPOLYGON (((-122.84000 49.00000, -120.0000...</td>\n",
       "      <td>16</td>\n",
       "      <td>17</td>\n",
       "      <td>37.005100</td>\n",
       "      <td>-89.176270</td>\n",
       "      <td>Cairo</td>\n",
       "      <td>Cairo</td>\n",
       "      <td>5.58</td>\n",
       "      <td>6.45</td>\n",
       "      <td>7.35</td>\n",
       "      <td>8.33</td>\n",
       "      <td>9.06</td>\n",
       "      <td>9.71</td>\n",
       "      <td>10.17</td>\n",
       "      <td>10.56</td>\n",
       "      <td>11.00</td>\n",
       "    </tr>\n",
       "    <tr>\n",
       "      <th>4</th>\n",
       "      <td>North America</td>\n",
       "      <td>MULTIPOLYGON (((-122.84000 49.00000, -120.0000...</td>\n",
       "      <td>24</td>\n",
       "      <td>25</td>\n",
       "      <td>41.884251</td>\n",
       "      <td>-87.632446</td>\n",
       "      <td>Chicago</td>\n",
       "      <td>Chicago</td>\n",
       "      <td>7.11</td>\n",
       "      <td>7.16</td>\n",
       "      <td>7.22</td>\n",
       "      <td>7.29</td>\n",
       "      <td>7.37</td>\n",
       "      <td>7.84</td>\n",
       "      <td>8.33</td>\n",
       "      <td>8.82</td>\n",
       "      <td>9.20</td>\n",
       "    </tr>\n",
       "    <tr>\n",
       "      <th>4</th>\n",
       "      <td>North America</td>\n",
       "      <td>MULTIPOLYGON (((-122.84000 49.00000, -120.0000...</td>\n",
       "      <td>38</td>\n",
       "      <td>39</td>\n",
       "      <td>42.331680</td>\n",
       "      <td>-83.047920</td>\n",
       "      <td>Detroit</td>\n",
       "      <td>Detroit</td>\n",
       "      <td>3.97</td>\n",
       "      <td>3.89</td>\n",
       "      <td>0.00</td>\n",
       "      <td>0.00</td>\n",
       "      <td>0.00</td>\n",
       "      <td>0.00</td>\n",
       "      <td>0.00</td>\n",
       "      <td>0.00</td>\n",
       "      <td>0.00</td>\n",
       "    </tr>\n",
       "    <tr>\n",
       "      <th>4</th>\n",
       "      <td>North America</td>\n",
       "      <td>MULTIPOLYGON (((-122.84000 49.00000, -120.0000...</td>\n",
       "      <td>37</td>\n",
       "      <td>38</td>\n",
       "      <td>39.952278</td>\n",
       "      <td>-75.162453</td>\n",
       "      <td>Philadelphia</td>\n",
       "      <td>Philadelphia</td>\n",
       "      <td>4.40</td>\n",
       "      <td>4.47</td>\n",
       "      <td>4.54</td>\n",
       "      <td>0.00</td>\n",
       "      <td>0.00</td>\n",
       "      <td>0.00</td>\n",
       "      <td>0.00</td>\n",
       "      <td>0.00</td>\n",
       "      <td>0.00</td>\n",
       "    </tr>\n",
       "  </tbody>\n",
       "</table>\n",
       "</div>"
      ],
      "text/plain": [
       "       continent                                           geometry  \\\n",
       "4  North America  MULTIPOLYGON (((-122.84000 49.00000, -120.0000...   \n",
       "4  North America  MULTIPOLYGON (((-122.84000 49.00000, -120.0000...   \n",
       "4  North America  MULTIPOLYGON (((-122.84000 49.00000, -120.0000...   \n",
       "4  North America  MULTIPOLYGON (((-122.84000 49.00000, -120.0000...   \n",
       "4  North America  MULTIPOLYGON (((-122.84000 49.00000, -120.0000...   \n",
       "\n",
       "   index_right  id   latitude   longitude          city         label  yr1970  \\\n",
       "4           11  12  34.053490 -118.245323   Los_Angeles   Los Angeles    8.38   \n",
       "4           16  17  37.005100  -89.176270         Cairo         Cairo    5.58   \n",
       "4           24  25  41.884251  -87.632446       Chicago       Chicago    7.11   \n",
       "4           38  39  42.331680  -83.047920       Detroit       Detroit    3.97   \n",
       "4           37  38  39.952278  -75.162453  Philadelphia  Philadelphia    4.40   \n",
       "\n",
       "   yr1975  yr1980  yr1985  yr1990  yr1995  yr2000  yr2005  yr2010  \n",
       "4    8.93    9.51   10.18   10.88   11.34   11.81   12.30   12.76  \n",
       "4    6.45    7.35    8.33    9.06    9.71   10.17   10.56   11.00  \n",
       "4    7.16    7.22    7.29    7.37    7.84    8.33    8.82    9.20  \n",
       "4    3.89    0.00    0.00    0.00    0.00    0.00    0.00    0.00  \n",
       "4    4.47    4.54    0.00    0.00    0.00    0.00    0.00    0.00  "
      ]
     },
     "execution_count": 25,
     "metadata": {},
     "output_type": "execute_result"
    },
    {
     "data": {
      "image/png": "[encoded data removed]",
      "text/plain": [
       "<Figure size 432x288 with 1 Axes>"
      ]
     },
     "metadata": {
      "needs_background": "light"
     },
     "output_type": "display_data"
    }
   ],
   "source": [
    "# Spatial Join\n",
    "world_city = gpd.sjoin(left_df=world, right_df=city_pop_gdf)\n",
    "world_city.plot()\n",
    "world_city.head()"
   ]
  },
  {
   "cell_type": "code",
   "execution_count": 26,
   "metadata": {},
   "outputs": [
    {
     "name": "stdout",
     "output_type": "stream",
     "text": [
      "<class 'geopandas.geoseries.GeoSeries'> <class 'shapely.geometry.point.Point'>\n"
     ]
    }
   ],
   "source": [
    "print(type(gdf.geometry), type(gdf.geometry[0]))"
   ]
  },
  {
   "cell_type": "markdown",
   "metadata": {},
   "source": [
    "# K-Means clustering"
   ]
  },
  {
   "cell_type": "code",
   "execution_count": 46,
   "metadata": {},
   "outputs": [],
   "source": [
    "# Random number\n",
    "import random\n",
    "#https://docs.python.org/3/library/random.html"
   ]
  },
  {
   "cell_type": "code",
   "execution_count": 45,
   "metadata": {},
   "outputs": [
    {
     "name": "stdout",
     "output_type": "stream",
     "text": [
      "0.7254678182979251 79\n"
     ]
    }
   ],
   "source": [
    "print(random.random(), random.randint(0, 100))"
   ]
  },
  {
   "cell_type": "markdown",
   "metadata": {},
   "source": [
    "## An step-to-step guide:\n",
    "https://www.dominodatalab.com/blog/getting-started-with-k-means-clustering-in-python"
   ]
  },
  {
   "cell_type": "code",
   "execution_count": null,
   "metadata": {},
   "outputs": [],
   "source": [
    "## A template for KMeans clustering of points function\n",
    "\n",
    "def KMeans_Clustering (k=3, max_iterations=100, data_points):\n",
    "    centroids={} # create an empty dictionary to store centroids of the clusters: { \"cluster1\": (lat,lng); \"cluster2\": (lat,lng)} \n",
    "    cluster_labels = {} # create an empty dictionary to store the cluster label for each data point\n",
    "    \n",
    "    ## Initlize random centroids or choose k points from the input data as the initial centroids\n",
    "    for i in range (k):\n",
    "        centroids[i] = generate_random_centroids()\n",
    "    \n",
    "    for j in range(max_iterations): \n",
    "        ## Assignment: K clusters are created by associating each data point with the nearest centroid.\n",
    "        for eachpoint in data_points:\n",
    "            dist_min = 99999999\n",
    "            for i in range (k):\n",
    "                distance=calculate_distance(eachpoint,centroids[i])\n",
    "                if distance < dist_min:\n",
    "                    dist_min=distance\n",
    "                    cluster_labels[eachpoint]=i\n",
    "        \n",
    "        ## Update: Iterate each cluster and compute its new centroid based on current assignment\n",
    "        for i in range (k):\n",
    "            centroids[i] = update_centroid()\n",
    "\n",
    "return cluster_labels\n",
    "        \n",
    "    \n",
    "print(KMeans_Clustering(k=3, max_iterations=100, data_points))\n"
   ]
  },
  {
   "cell_type": "markdown",
   "metadata": {},
   "source": [
    "# Tasks\n",
    "Submit the code (.ipynb) and CSV files.  \n",
    "Task 1 (5 pts):  \n",
    "Finish your code for computing the area, the centroid, and the minimum bounding envelop of a simple polygon.   \n",
    "\n",
    "Task 2 (5 pts):   \n",
    "Use your Lab 4 script to collect 500 Flickr photos based on a geographic region, save the photo metadata in the CSV format. \n",
    "In this task, you need to incorporate a self-defined area unit (i.e., a polygon) using GeoJSON format or an existing geographic boundary \"Shapefile\" in GIS format to spatially extract those geotagged photos within this polygon and save them as a point set. After that, compute the convex hull of the point set and plot it. \n",
    "\n",
    "Task 3 (10 pts):   \n",
    "Manually implement the K-means clustering algorithm follow the function template. Perform the K-means clustering algorithms on your 500 Flickr photos’ locations collected in Task 2. Plot them with different colors of each cluster. Comment on your identified patterns."
   ]
  }
 ],
 "metadata": {
  "kernelspec": {
   "display_name": "Python 3",
   "language": "python",
   "name": "python3"
  },
  "language_info": {
   "codemirror_mode": {
    "name": "ipython",
    "version": 3
   },
   "file_extension": ".py",
   "mimetype": "text/x-python",
   "name": "python",
   "nbconvert_exporter": "python",
   "pygments_lexer": "ipython3",
   "version": "3.8.12"
  }
 },
 "nbformat": 4,
 "nbformat_minor": 4
}
